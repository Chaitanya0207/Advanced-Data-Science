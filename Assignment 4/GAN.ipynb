{
 "cells": [
  {
   "cell_type": "markdown",
   "metadata": {},
   "source": [
    "# GAN"
   ]
  },
  {
   "cell_type": "markdown",
   "metadata": {},
   "source": [
    "# Abstract"
   ]
  },
  {
   "cell_type": "markdown",
   "metadata": {},
   "source": [
    "The GAN consists of a Generator and Discriminator that works as follows -\n",
    "The generator takes in random numbers/noise and returns an image.This generated image is fed into the discriminator alongside a stream of images taken from the actual, ground-truth dataset. The discriminator takes in both real and fake images and returns probabilities, a number between 0 and 1, with 1 representing a prediction of authenticity and 0 representing fake.Two neural networks contest with each other in a game (in the sense of game theory, often but not always in the form of a zero-sum game). Given a training set, this technique learns to generate new data with the same statistics as the training set. For example, a GAN trained on photographs can generate new photographs that look at least superficially authentic to human observers, having many realistic characteristics.One neural network, called the generator, generates new data instances, while the other, the discriminator, evaluates them for authenticity; i.e. the discriminator decides whether each instance of data that it reviews belongs to the actual training dataset or not."
   ]
  },
  {
   "cell_type": "markdown",
   "metadata": {},
   "source": [
    "# Dataset"
   ]
  },
  {
   "cell_type": "markdown",
   "metadata": {},
   "source": [
    "Celebrity images dataset consists of 100,000 images - 100k of 128x128 celebrities' images. Cropped faces from CelebA dataset.\n",
    "Link  from kaggle - https://www.kaggle.com/greg115/celebrities-100k/activity"
   ]
  },
  {
   "cell_type": "markdown",
   "metadata": {},
   "source": [
    "### Importing required libraries --"
   ]
  },
  {
   "cell_type": "code",
   "execution_count": 4,
   "metadata": {},
   "outputs": [],
   "source": [
    "import tensorflow as tf\n",
    "from tensorflow.keras.layers import Input, Dense, Reshape, Flatten, Dropout, BatchNormalization, Activation, UpSampling2D,Conv2D\n",
    "from tensorflow.keras.models import Sequential, Model, load_model\n",
    "from tensorflow.keras.optimizers import Adam\n",
    "from tensorflow.keras.layers import LeakyReLU\n",
    "from tensorflow.keras.activations import relu\n",
    "from PIL import Image\n",
    "import sys\n",
    "import os\n",
    "import numpy as np\n",
    "import glob"
   ]
  },
  {
   "cell_type": "markdown",
   "metadata": {},
   "source": [
    "### Loading dataset"
   ]
  },
  {
   "cell_type": "code",
   "execution_count": 5,
   "metadata": {},
   "outputs": [],
   "source": [
    "img_rows = 64\n",
    "img_cols = 64\n",
    "channels = 3\n",
    "image_shape=(64,64,3)\n",
    "img_size = (img_rows, img_cols, channels)"
   ]
  },
  {
   "cell_type": "code",
   "execution_count": 6,
   "metadata": {},
   "outputs": [],
   "source": [
    "def load_dataset(batch_size, image_shape, data_dir):\n",
    "    sample_dim = (batch_size,) + image_shape\n",
    "    print(sample_dim)\n",
    "    sample = np.empty(sample_dim, dtype=np.float32)\n",
    "    all_data_dirlist = list(glob.glob(data_dir))\n",
    "    sample_imgs_paths = np.random.choice(all_data_dirlist,batch_size)\n",
    "    for index,img_filename in enumerate(sample_imgs_paths):\n",
    "        image = Image.open(img_filename)\n",
    "        image = image.resize(image_shape[:-1])\n",
    "        image = np.asarray(image)\n",
    "        image = (image/127.5) -1 # normalizing data\n",
    "        sample[index,...] = image\n",
    "    return sample"
   ]
  },
  {
   "cell_type": "code",
   "execution_count": 7,
   "metadata": {},
   "outputs": [
    {
     "name": "stdout",
     "output_type": "stream",
     "text": [
      "(100000, 64, 64, 3)\n"
     ]
    }
   ],
   "source": [
    "X_train = load_dataset(100000, (64,64,3), \"C:/Python/.ipynb_checkpoints/100k/*.jpg\")"
   ]
  },
  {
   "cell_type": "code",
   "execution_count": 8,
   "metadata": {},
   "outputs": [
    {
     "name": "stdout",
     "output_type": "stream",
     "text": [
      "(100000, 64, 64, 3)\n"
     ]
    }
   ],
   "source": [
    "print(X_train.shape)"
   ]
  },
  {
   "cell_type": "code",
   "execution_count": 9,
   "metadata": {},
   "outputs": [
    {
     "name": "stdout",
     "output_type": "stream",
     "text": [
      "100000\n"
     ]
    }
   ],
   "source": [
    "print(X_train.shape[0])"
   ]
  },
  {
   "cell_type": "code",
   "execution_count": 10,
   "metadata": {},
   "outputs": [
    {
     "name": "stderr",
     "output_type": "stream",
     "text": [
      "\n",
      "Bad key \"text.kerning_factor\" on line 4 in\n",
      "C:\\Users\\chait\\Anaconda3\\lib\\site-packages\\matplotlib\\mpl-data\\stylelib\\_classic_test_patch.mplstyle.\n",
      "You probably need to get an updated matplotlibrc file from\n",
      "https://github.com/matplotlib/matplotlib/blob/v3.1.3/matplotlibrc.template\n",
      "or from the matplotlib source distribution\n",
      "Clipping input data to the valid range for imshow with RGB data ([0..1] for floats or [0..255] for integers).\n"
     ]
    },
    {
     "data": {
      "image/png": "[encoded data removed]",
      "text/plain": [
       "<Figure size 432x288 with 1 Axes>"
      ]
     },
     "metadata": {
      "needs_background": "light"
     },
     "output_type": "display_data"
    }
   ],
   "source": [
    "import matplotlib.pyplot as plt\n",
    "import random\n",
    "randomNum = random.randint(0,100000)\n",
    "image = X_train[randomNum]\n",
    "plt.imshow(image, cmap=plt.get_cmap('gray_r'))\n",
    "plt.show()"
   ]
  },
  {
   "cell_type": "code",
   "execution_count": 11,
   "metadata": {},
   "outputs": [],
   "source": [
    "img_rows = 28\n",
    "img_cols = 28\n",
    "channels = 3\n",
    "img_shape = (img_rows, img_cols, channels)"
   ]
  },
  {
   "cell_type": "markdown",
   "metadata": {},
   "source": [
    "## Model 1 "
   ]
  },
  {
   "cell_type": "markdown",
   "metadata": {},
   "source": [
    "### Generator"
   ]
  },
  {
   "cell_type": "markdown",
   "metadata": {},
   "source": [
    "The generator is creating new, synthetic images that it passes to the discriminator. It does so in the hopes that they, too, will be deemed authentic, even though they are fake. The goal of the generator is to generate fake images to lie without being caught. The goal of the discriminator is to identify images coming from the generator as fake. Using Keras Sequential model along with Dense and Batch Normalization layers we are building the generator. The activation function used is relu.The generator model is divided into several blocks. Each block consisting of Dense Layer, Activation and Batch Normalization. Six such blocks are added and the last block transforms the pixels into the desired shape of the image we’re expecting as the output which is (64,64,3). The input to the model will be a noise vector of shape (100,) and the model is returned at the end."
   ]
  },
  {
   "cell_type": "code",
   "execution_count": 154,
   "metadata": {},
   "outputs": [],
   "source": [
    "def build_generator():\n",
    "    noise_shape = (100,)\n",
    "    noise = Input(shape=noise_shape)\n",
    "    print(noise)\n",
    "    \n",
    "    model = Sequential()\n",
    "    model.add(Dense(64 * 4 * 4,activation=\"relu\", input_shape=noise_shape))\n",
    "    model.add(Reshape((4,4,64)))\n",
    "    model.add(BatchNormalization(momentum=0.8))\n",
    "    \n",
    "    model.add(UpSampling2D())\n",
    "    model.add(Conv2D(128, kernel_size=3, padding=\"same\"))\n",
    "    model.add(Activation(\"relu\"))\n",
    "    model.add(BatchNormalization(momentum=0.8))\n",
    "    \n",
    "    model.add(UpSampling2D())\n",
    "    model.add(Conv2D(256, kernel_size=3, padding=\"same\"))\n",
    "    model.add(Activation(\"relu\"))\n",
    "    model.add(BatchNormalization(momentum=0.8))\n",
    "    \n",
    "    model.add(UpSampling2D())\n",
    "    model.add(Conv2D(512, kernel_size=3, padding=\"same\"))\n",
    "    model.add(Activation(\"relu\"))\n",
    "    model.add(BatchNormalization(momentum=0.8))\n",
    "    \n",
    "    model.add(UpSampling2D())\n",
    "    model.add(Conv2D(64, kernel_size=3, padding=\"same\"))\n",
    "    model.add(Activation(\"relu\"))\n",
    "    model.add(BatchNormalization(momentum=0.8))\n",
    "    \n",
    "    model.add(Conv2D(16, kernel_size=3, padding=\"same\"))\n",
    "    model.add(Activation(\"relu\"))\n",
    "    model.add(BatchNormalization(momentum=0.8))\n",
    "\n",
    "    model.add(Conv2D(channels, kernel_size=3, padding=\"same\"))\n",
    "    model.add(Activation(\"tanh\"))\n",
    "\n",
    "    model.summary()\n",
    "\n",
    "    output_img = model(noise)\n",
    "\n",
    "    return Model(noise, output_img)"
   ]
  },
  {
   "cell_type": "markdown",
   "metadata": {},
   "source": [
    "## Descriminator"
   ]
  },
  {
   "cell_type": "markdown",
   "metadata": {},
   "source": [
    "A discriminator that tells how real an image is, is basically a deep Convolutional Neural Network (CNN). It classifies between  the real and fake images. For this Dataset, the input is an image (64 pixel x 64 pixel x 3 channel). The sigmoid output is a scalar value of the probability of how real the image is (0.0 is certainly fake, 1.0 is certainly real). A strided convolution is used for downsampling. The activation function used in each CNN layer is a leaky ReLU. A dropout between layers prevent over fitting and memorization.\n",
    "The discriminator takes in an input of an image, flatten it and pass it through blocks of Activation and Batch Normalization, to finally output a scalar between 1 and 0. Output 1 should represent that the input image is real and 0 otherwise.\n"
   ]
  },
  {
   "cell_type": "code",
   "execution_count": 155,
   "metadata": {},
   "outputs": [],
   "source": [
    "def build_discriminator():\n",
    "    model = Sequential()\n",
    "    img = Input(shape=img_size)\n",
    "    model.add(Conv2D(32, kernel_size=3, strides=2, input_shape=image_shape, padding=\"same\"))\n",
    "    model.add(LeakyReLU(alpha=0.25))\n",
    "    model.add(Dropout(0.25))\n",
    "    \n",
    "    model.add(Conv2D(64, kernel_size=3, strides=2, padding=\"same\"))\n",
    "    model.add(LeakyReLU(alpha=0.25))\n",
    "    model.add(Dropout(0.25))\n",
    "    model.add(BatchNormalization(momentum=0.8))\n",
    "    \n",
    "    model.add(Conv2D(128, kernel_size=3, strides=2, padding=\"same\"))\n",
    "    model.add(LeakyReLU(alpha=0.25))\n",
    "    model.add(Dropout(0.25))\n",
    "    model.add(BatchNormalization(momentum=0.8))\n",
    "    \n",
    "    model.add(Conv2D(128, kernel_size=3, strides=2, padding=\"same\"))\n",
    "    model.add(LeakyReLU(alpha=0.25))\n",
    "    model.add(Dropout(0.25))\n",
    "    model.add(BatchNormalization(momentum=0.8))\n",
    "    \n",
    "    model.add(Conv2D(256, kernel_size=3, strides=2, padding=\"same\"))\n",
    "    model.add(LeakyReLU(alpha=0.25))\n",
    "    model.add(Dropout(0.25))\n",
    "    model.add(BatchNormalization(momentum=0.8))\n",
    "    \n",
    "    model.add(Flatten())\n",
    "    model.add(Dense(1, activation='sigmoid'))\n",
    "    model.summary()\n",
    "    validity = model(img)\n",
    "    \n",
    "    return Model(img, validity)"
   ]
  },
  {
   "cell_type": "markdown",
   "metadata": {},
   "source": [
    "###  Building the model"
   ]
  },
  {
   "cell_type": "markdown",
   "metadata": {},
   "source": [
    "Building the Model with following hyperparameters such as momentum = 0.8,     alpha = 0.25 and also using adam optimizer with learning rate = 0.0002, beta_1 = 0.5.                                                                             \n",
    "Alpha — α is a hyperparameter which controls the underlying value to which the function saturates negatives network inputs also known as step size. The proportion that weights are updated (e.g. 0.001). Larger values (e.g. 0.3) results in faster initial learning before the rate is updated. Smaller values meaning slow learning right down during training of the model\n",
    "beta_1 - The exponential decay rate that describes the process of reducing an amount by a consistent percentage rate over a period of time.\n",
    "Momentum — This is a technique used in Neural Networks to speed up the training speed and improve accuracy."
   ]
  },
  {
   "cell_type": "code",
   "execution_count": 156,
   "metadata": {},
   "outputs": [
    {
     "name": "stdout",
     "output_type": "stream",
     "text": [
      "Tensor(\"input_23:0\", shape=(None, 100), dtype=float32)\n",
      "Model: \"sequential_18\"\n",
      "_________________________________________________________________\n",
      "Layer (type)                 Output Shape              Param #   \n",
      "=================================================================\n",
      "dense_18 (Dense)             (None, 1024)              103424    \n",
      "_________________________________________________________________\n",
      "reshape_9 (Reshape)          (None, 4, 4, 64)          0         \n",
      "_________________________________________________________________\n",
      "batch_normalization_84 (Batc (None, 4, 4, 64)          256       \n",
      "_________________________________________________________________\n",
      "up_sampling2d_36 (UpSampling (None, 8, 8, 64)          0         \n",
      "_________________________________________________________________\n",
      "conv2d_93 (Conv2D)           (None, 8, 8, 128)         73856     \n",
      "_________________________________________________________________\n",
      "activation_48 (Activation)   (None, 8, 8, 128)         0         \n",
      "_________________________________________________________________\n",
      "batch_normalization_85 (Batc (None, 8, 8, 128)         512       \n",
      "_________________________________________________________________\n",
      "up_sampling2d_37 (UpSampling (None, 16, 16, 128)       0         \n",
      "_________________________________________________________________\n",
      "conv2d_94 (Conv2D)           (None, 16, 16, 256)       295168    \n",
      "_________________________________________________________________\n",
      "activation_49 (Activation)   (None, 16, 16, 256)       0         \n",
      "_________________________________________________________________\n",
      "batch_normalization_86 (Batc (None, 16, 16, 256)       1024      \n",
      "_________________________________________________________________\n",
      "up_sampling2d_38 (UpSampling (None, 32, 32, 256)       0         \n",
      "_________________________________________________________________\n",
      "conv2d_95 (Conv2D)           (None, 32, 32, 512)       1180160   \n",
      "_________________________________________________________________\n",
      "activation_50 (Activation)   (None, 32, 32, 512)       0         \n",
      "_________________________________________________________________\n",
      "batch_normalization_87 (Batc (None, 32, 32, 512)       2048      \n",
      "_________________________________________________________________\n",
      "up_sampling2d_39 (UpSampling (None, 64, 64, 512)       0         \n",
      "_________________________________________________________________\n",
      "conv2d_96 (Conv2D)           (None, 64, 64, 64)        294976    \n",
      "_________________________________________________________________\n",
      "activation_51 (Activation)   (None, 64, 64, 64)        0         \n",
      "_________________________________________________________________\n",
      "batch_normalization_88 (Batc (None, 64, 64, 64)        256       \n",
      "_________________________________________________________________\n",
      "conv2d_97 (Conv2D)           (None, 64, 64, 16)        9232      \n",
      "_________________________________________________________________\n",
      "activation_52 (Activation)   (None, 64, 64, 16)        0         \n",
      "_________________________________________________________________\n",
      "batch_normalization_89 (Batc (None, 64, 64, 16)        64        \n",
      "_________________________________________________________________\n",
      "conv2d_98 (Conv2D)           (None, 64, 64, 3)         435       \n",
      "_________________________________________________________________\n",
      "activation_53 (Activation)   (None, 64, 64, 3)         0         \n",
      "=================================================================\n",
      "Total params: 1,961,411\n",
      "Trainable params: 1,959,331\n",
      "Non-trainable params: 2,080\n",
      "_________________________________________________________________\n"
     ]
    }
   ],
   "source": [
    "# Build and compile the generator\n",
    "generator = build_generator()\n",
    "generator.compile(loss='binary_crossentropy', optimizer=Adam(lr=0.0002,beta_1=0.5))"
   ]
  },
  {
   "cell_type": "markdown",
   "metadata": {},
   "source": [
    "Generator network takes noise as an input to produce its images."
   ]
  },
  {
   "cell_type": "code",
   "execution_count": 157,
   "metadata": {},
   "outputs": [],
   "source": [
    "# The generator takes noise as input and generates imgs\n",
    "noise = Input(shape=(100,))\n",
    "generated_image = generator(noise)"
   ]
  },
  {
   "cell_type": "code",
   "execution_count": 158,
   "metadata": {},
   "outputs": [
    {
     "name": "stdout",
     "output_type": "stream",
     "text": [
      "Model: \"sequential_19\"\n",
      "_________________________________________________________________\n",
      "Layer (type)                 Output Shape              Param #   \n",
      "=================================================================\n",
      "conv2d_99 (Conv2D)           (None, 32, 32, 32)        896       \n",
      "_________________________________________________________________\n",
      "leaky_re_lu_45 (LeakyReLU)   (None, 32, 32, 32)        0         \n",
      "_________________________________________________________________\n",
      "dropout_55 (Dropout)         (None, 32, 32, 32)        0         \n",
      "_________________________________________________________________\n",
      "conv2d_100 (Conv2D)          (None, 16, 16, 64)        18496     \n",
      "_________________________________________________________________\n",
      "leaky_re_lu_46 (LeakyReLU)   (None, 16, 16, 64)        0         \n",
      "_________________________________________________________________\n",
      "dropout_56 (Dropout)         (None, 16, 16, 64)        0         \n",
      "_________________________________________________________________\n",
      "batch_normalization_90 (Batc (None, 16, 16, 64)        256       \n",
      "_________________________________________________________________\n",
      "conv2d_101 (Conv2D)          (None, 8, 8, 128)         73856     \n",
      "_________________________________________________________________\n",
      "leaky_re_lu_47 (LeakyReLU)   (None, 8, 8, 128)         0         \n",
      "_________________________________________________________________\n",
      "dropout_57 (Dropout)         (None, 8, 8, 128)         0         \n",
      "_________________________________________________________________\n",
      "batch_normalization_91 (Batc (None, 8, 8, 128)         512       \n",
      "_________________________________________________________________\n",
      "conv2d_102 (Conv2D)          (None, 4, 4, 128)         147584    \n",
      "_________________________________________________________________\n",
      "leaky_re_lu_48 (LeakyReLU)   (None, 4, 4, 128)         0         \n",
      "_________________________________________________________________\n",
      "dropout_58 (Dropout)         (None, 4, 4, 128)         0         \n",
      "_________________________________________________________________\n",
      "batch_normalization_92 (Batc (None, 4, 4, 128)         512       \n",
      "_________________________________________________________________\n",
      "conv2d_103 (Conv2D)          (None, 2, 2, 256)         295168    \n",
      "_________________________________________________________________\n",
      "leaky_re_lu_49 (LeakyReLU)   (None, 2, 2, 256)         0         \n",
      "_________________________________________________________________\n",
      "dropout_59 (Dropout)         (None, 2, 2, 256)         0         \n",
      "_________________________________________________________________\n",
      "batch_normalization_93 (Batc (None, 2, 2, 256)         1024      \n",
      "_________________________________________________________________\n",
      "flatten_9 (Flatten)          (None, 1024)              0         \n",
      "_________________________________________________________________\n",
      "dense_19 (Dense)             (None, 1)                 1025      \n",
      "=================================================================\n",
      "Total params: 539,329\n",
      "Trainable params: 538,177\n",
      "Non-trainable params: 1,152\n",
      "_________________________________________________________________\n"
     ]
    }
   ],
   "source": [
    "# Build and compile the discriminator\n",
    "discriminator = build_discriminator()\n",
    "discriminator.compile(loss='binary_crossentropy', optimizer=Adam(lr=0.0002,beta_1=0.5), metrics=['accuracy'])\n",
    "discriminator.trainable = False"
   ]
  },
  {
   "cell_type": "markdown",
   "metadata": {},
   "source": [
    "Discriminator will take the images generated by our Generator and set its output to a parameter called validity, which will indicate whether the input is real or not."
   ]
  },
  {
   "cell_type": "code",
   "execution_count": 159,
   "metadata": {
    "scrolled": true
   },
   "outputs": [
    {
     "name": "stdout",
     "output_type": "stream",
     "text": [
      "Tensor(\"model_17/Identity:0\", shape=(None, 1), dtype=float32)\n"
     ]
    }
   ],
   "source": [
    "# The discriminator takes generated images as input and determines validity\n",
    "validity = discriminator(generated_image)\n",
    "print(validity)\n",
    "gan = Model(noise, validity)\n",
    "gan.compile(loss='binary_crossentropy', optimizer=Adam(lr=0.0002,beta_1=0.5))"
   ]
  },
  {
   "cell_type": "markdown",
   "metadata": {},
   "source": [
    "# Training GAN"
   ]
  },
  {
   "cell_type": "code",
   "execution_count": 160,
   "metadata": {},
   "outputs": [],
   "source": [
    "dc_loss = []\n",
    "gn_loss = []\n",
    "def train1(epochs, batch_size, save_interval):\n",
    "    global discriminator, generator, gan\n",
    "    half_batch = int(batch_size / 2)\n",
    "    print(half_batch)\n",
    "    for epoch in range(epochs):\n",
    "\n",
    "        #  Train Discriminator\n",
    "        real_ids = np.random.randint(0, X_train.shape[0], half_batch)\n",
    "        #print(real_ids)\n",
    "        real_imgs = X_train[real_ids]\n",
    "\n",
    "        noise = np.random.normal(0, 1, (half_batch, 100))\n",
    "        #print(noise)\n",
    "        # Generate a half batch of new images\n",
    "        gen_imgs = generator.predict(noise)\n",
    "        #print(gen_imgs)\n",
    "\n",
    "        # Train the discriminator\n",
    "        real_loss = discriminator.train_on_batch(real_imgs, np.ones((half_batch, 1)))\n",
    "        #print(real_loss)\n",
    "        fake_loss = discriminator.train_on_batch(gen_imgs, np.zeros((half_batch, 1)))\n",
    "        #print(fake_loss)\n",
    "        d_loss = 0.5 * np.add(real_loss, fake_loss)\n",
    "        #print(d_loss)\n",
    "        #  Train Generator\n",
    "        noise = np.random.normal(0, 1, (batch_size, 100))\n",
    "        #print(noise)\n",
    "        g_loss = gan.train_on_batch(noise, np.ones((batch_size, 1)))\n",
    "        #print(g_loss)\n",
    "        # Plot the progress\n",
    "        print (\"%d [D loss: %f, acc.: %.2f%%] [G loss: %f]\" % (epoch, d_loss[0], 100*d_loss[1], g_loss))\n",
    "        dc_loss.append(d_loss[0])\n",
    "        gn_loss.append(g_loss)\n",
    "        # If at save interval => save generated image samples\n",
    "        if epoch % save_interval == 0:\n",
    "        \n",
    "            gen_imgs = 0.5 * gen_imgs + 0.5\n",
    "            fig, axs = plt.subplots(5, 5)\n",
    "            for i in range(5):\n",
    "                for j in range(5):\n",
    "                    axs[i,j].imshow(gen_imgs[i*5+j])\n",
    "                    axs[i,j].axis('off')\n",
    "\n",
    "            fig.savefig(\"results1/animes_%d.png\" % epoch, dpi=600, bbox_inches='tight')\n",
    "            plt.close()    \n"
   ]
  },
  {
   "cell_type": "markdown",
   "metadata": {},
   "source": [
    "Epochs dictate the number of backward and forward propagations, the batch_size indicates the number of training samples per backward/forward propagation, and the sample_interval specifies after how many epochs we are generating the images."
   ]
  },
  {
   "cell_type": "code",
   "execution_count": 161,
   "metadata": {},
   "outputs": [
    {
     "name": "stdout",
     "output_type": "stream",
     "text": [
      "64\n",
      "0 [D loss: 0.849766, acc.: 56.25%] [G loss: 0.656291]\n",
      "1 [D loss: 0.727409, acc.: 62.50%] [G loss: 0.612658]\n",
      "2 [D loss: 0.679108, acc.: 63.28%] [G loss: 0.587842]\n",
      "3 [D loss: 0.562998, acc.: 71.88%] [G loss: 0.556929]\n",
      "4 [D loss: 0.534106, acc.: 74.22%] [G loss: 0.502457]\n",
      "5 [D loss: 0.346020, acc.: 85.94%] [G loss: 0.489499]\n",
      "6 [D loss: 0.339771, acc.: 85.94%] [G loss: 0.419201]\n",
      "7 [D loss: 0.238852, acc.: 89.84%] [G loss: 0.379922]\n",
      "8 [D loss: 0.214907, acc.: 91.41%] [G loss: 0.306219]\n",
      "9 [D loss: 0.188498, acc.: 94.53%] [G loss: 0.264815]\n",
      "10 [D loss: 0.166070, acc.: 97.66%] [G loss: 0.230310]\n",
      "11 [D loss: 0.115558, acc.: 99.22%] [G loss: 0.201014]\n",
      "12 [D loss: 0.125494, acc.: 95.31%] [G loss: 0.233409]\n",
      "13 [D loss: 0.217158, acc.: 88.28%] [G loss: 0.396759]\n",
      "14 [D loss: 0.278177, acc.: 85.94%] [G loss: 0.528239]\n",
      "15 [D loss: 0.357620, acc.: 84.38%] [G loss: 0.941489]\n",
      "16 [D loss: 0.374790, acc.: 81.25%] [G loss: 1.692539]\n",
      "17 [D loss: 0.371187, acc.: 83.59%] [G loss: 1.814545]\n",
      "18 [D loss: 0.539295, acc.: 69.53%] [G loss: 1.394399]\n",
      "19 [D loss: 0.496954, acc.: 74.22%] [G loss: 1.893913]\n",
      "20 [D loss: 0.359704, acc.: 85.16%] [G loss: 2.764613]\n",
      "21 [D loss: 0.326562, acc.: 82.81%] [G loss: 2.136065]\n",
      "22 [D loss: 0.502589, acc.: 80.47%] [G loss: 1.676449]\n",
      "23 [D loss: 0.491338, acc.: 74.22%] [G loss: 1.675042]\n",
      "24 [D loss: 0.436091, acc.: 80.47%] [G loss: 2.043406]\n",
      "25 [D loss: 0.574349, acc.: 72.66%] [G loss: 2.106744]\n"
     ]
    },
    {
     "name": "stderr",
     "output_type": "stream",
     "text": [
      "Clipping input data to the valid range for imshow with RGB data ([0..1] for floats or [0..255] for integers).\n"
     ]
    },
    {
     "name": "stdout",
     "output_type": "stream",
     "text": [
      "26 [D loss: 0.341569, acc.: 85.16%] [G loss: 2.079181]\n",
      "27 [D loss: 0.393309, acc.: 84.38%] [G loss: 2.070211]\n",
      "28 [D loss: 0.438312, acc.: 77.34%] [G loss: 1.802410]\n",
      "29 [D loss: 0.352468, acc.: 84.38%] [G loss: 1.796234]\n",
      "30 [D loss: 0.232079, acc.: 94.53%] [G loss: 2.256369]\n"
     ]
    },
    {
     "name": "stderr",
     "output_type": "stream",
     "text": [
      "Clipping input data to the valid range for imshow with RGB data ([0..1] for floats or [0..255] for integers).\n"
     ]
    },
    {
     "name": "stdout",
     "output_type": "stream",
     "text": [
      "31 [D loss: 0.254175, acc.: 91.41%] [G loss: 2.895214]\n",
      "32 [D loss: 0.120996, acc.: 97.66%] [G loss: 3.063892]\n",
      "33 [D loss: 0.104509, acc.: 97.66%] [G loss: 2.627465]\n",
      "34 [D loss: 0.166918, acc.: 92.19%] [G loss: 1.822229]\n",
      "35 [D loss: 0.384894, acc.: 81.25%] [G loss: 1.553066]\n",
      "36 [D loss: 0.362847, acc.: 81.25%] [G loss: 1.508931]\n",
      "37 [D loss: 0.257894, acc.: 89.06%] [G loss: 1.699205]\n",
      "38 [D loss: 0.318783, acc.: 82.03%] [G loss: 2.178839]\n",
      "39 [D loss: 0.334751, acc.: 84.38%] [G loss: 1.975373]\n",
      "40 [D loss: 0.283664, acc.: 88.28%] [G loss: 2.473435]\n",
      "41 [D loss: 0.212098, acc.: 92.19%] [G loss: 2.356783]\n",
      "42 [D loss: 0.172935, acc.: 93.75%] [G loss: 2.143871]\n",
      "43 [D loss: 0.150045, acc.: 92.19%] [G loss: 2.438054]\n",
      "44 [D loss: 0.152944, acc.: 95.31%] [G loss: 2.310525]\n",
      "45 [D loss: 0.159160, acc.: 95.31%] [G loss: 1.858734]\n",
      "46 [D loss: 0.184732, acc.: 93.75%] [G loss: 1.901329]\n",
      "47 [D loss: 0.295121, acc.: 86.72%] [G loss: 1.754471]\n",
      "48 [D loss: 0.260907, acc.: 88.28%] [G loss: 1.864059]\n",
      "49 [D loss: 0.221886, acc.: 92.97%] [G loss: 1.579815]\n"
     ]
    }
   ],
   "source": [
    "train1(epochs=50, batch_size=128, save_interval=5)"
   ]
  },
  {
   "cell_type": "code",
   "execution_count": 84,
   "metadata": {
    "scrolled": true
   },
   "outputs": [
    {
     "name": "stdout",
     "output_type": "stream",
     "text": [
      "[[0.6917474]]\n"
     ]
    },
    {
     "data": {
      "image/png": "[encoded data removed]",
      "text/plain": [
       "<Figure size 432x288 with 1 Axes>"
      ]
     },
     "metadata": {
      "needs_background": "light"
     },
     "output_type": "display_data"
    }
   ],
   "source": [
    "import matplotlib.pyplot as plt\n",
    "noise = np.random.normal(0, 1, (1,100))\n",
    "#print(noise)\n",
    "#print(np.random.normal(0,1, (1,100)))\n",
    "gan_img = generator.predict(noise)\n",
    "print(discriminator.predict(gan_img))\n",
    "img = 0.5*gan_img[0] + 0.5\n",
    "plt.imshow(img)\n",
    "#plt.imshow(gan_img)\n",
    "plt.show()"
   ]
  },
  {
   "cell_type": "code",
   "execution_count": 85,
   "metadata": {},
   "outputs": [
    {
     "data": {
      "image/png": "[encoded data removed]",
      "text/plain": [
       "<Figure size 432x288 with 1 Axes>"
      ]
     },
     "metadata": {
      "needs_background": "light"
     },
     "output_type": "display_data"
    }
   ],
   "source": [
    "plt.imshow(img)\n",
    "plt.axis('off')\n",
    "plt.savefig('generated_anime.png', dpi=300, bbox_inches='tight')"
   ]
  },
  {
   "cell_type": "markdown",
   "metadata": {},
   "source": [
    "Discriminator is receiving the images from both real/training images and generated images or the fake images ,so while calculating discriminator’s loss we have to add loss due of real images and also due of fake images both networks are trained simultaneously so we need two optimizers for both generator and discriminator both. we want from discriminator to output the probabilities close to 1 if the images are real and close to 0 if the images are fake."
   ]
  },
  {
   "cell_type": "code",
   "execution_count": 86,
   "metadata": {},
   "outputs": [
    {
     "data": {
      "image/png": "[encoded data removed]",
      "text/plain": [
       "<Figure size 432x288 with 1 Axes>"
      ]
     },
     "metadata": {
      "needs_background": "light"
     },
     "output_type": "display_data"
    }
   ],
   "source": [
    "# plotting the metrics\n",
    "plt.plot(dc_loss)\n",
    "plt.plot(gn_loss)\n",
    "plt.title('Model loss')\n",
    "plt.ylabel('Loss')\n",
    "plt.xlabel('Epoch')\n",
    "plt.legend(['Discriminator', 'Generator'], loc='center right')\n",
    "plt.show()"
   ]
  },
  {
   "cell_type": "code",
   "execution_count": null,
   "metadata": {},
   "outputs": [],
   "source": []
  },
  {
   "cell_type": "markdown",
   "metadata": {},
   "source": [
    "# Model 2"
   ]
  },
  {
   "cell_type": "markdown",
   "metadata": {},
   "source": [
    "Building the Model 2 with different hyperparameters momentum = 0.9, alpha =  0.3 and also using adam optimizer with learning rate = 0.003, beta_1(exponential decay rate) = 0.5, dropout rate = 0.25, maximum number of epochs = 100."
   ]
  },
  {
   "cell_type": "code",
   "execution_count": 143,
   "metadata": {},
   "outputs": [],
   "source": [
    "def build_generator1():\n",
    "    noise_shape = (100,)\n",
    "    noise = Input(shape=noise_shape)\n",
    "    print(noise)\n",
    "    \n",
    "    model = Sequential()\n",
    "    model.add(Dense(64 * 4 * 4,activation=\"relu\", input_shape=noise_shape))\n",
    "    model.add(Reshape((4,4,64)))\n",
    "    model.add(BatchNormalization(momentum=0.9))\n",
    "    \n",
    "    model.add(UpSampling2D())\n",
    "    model.add(Conv2D(32, kernel_size=3, padding=\"same\"))\n",
    "    model.add(Activation(\"relu\"))\n",
    "    model.add(BatchNormalization(momentum=0.9))\n",
    "    \n",
    "    model.add(UpSampling2D())\n",
    "    model.add(Conv2D(64, kernel_size=3, padding=\"same\"))\n",
    "    model.add(Activation(\"relu\"))\n",
    "    model.add(BatchNormalization(momentum=0.9))\n",
    "    \n",
    "    model.add(UpSampling2D())\n",
    "    model.add(Conv2D(128, kernel_size=3, padding=\"same\"))\n",
    "    model.add(Activation(\"relu\"))\n",
    "    model.add(BatchNormalization(momentum=0.9))\n",
    "\n",
    "    model.add(UpSampling2D())\n",
    "    model.add(Conv2D(channels, kernel_size=3, padding=\"same\"))\n",
    "    model.add(Activation(\"tanh\"))\n",
    "\n",
    "    model.summary()\n",
    "\n",
    "    output_img = model(noise)\n",
    "\n",
    "    return Model(noise, output_img)"
   ]
  },
  {
   "cell_type": "code",
   "execution_count": 144,
   "metadata": {},
   "outputs": [],
   "source": [
    "def build_discriminator1():\n",
    "    model = Sequential()\n",
    "\n",
    "    model.add(Conv2D(32, kernel_size=3, strides=2, input_shape=image_shape, padding=\"same\"))\n",
    "    model.add(LeakyReLU(alpha=0.3))\n",
    "\n",
    "    model.add(Dropout(0.25))\n",
    "    model.add(Conv2D(64, kernel_size=3, strides=2, padding=\"same\"))\n",
    "    model.add(BatchNormalization(momentum=0.9))\n",
    "    model.add(LeakyReLU(alpha=0.3))\n",
    "\n",
    "    model.add(Dropout(0.25))\n",
    "    model.add(Conv2D(128, kernel_size=3, strides=2, padding=\"same\"))\n",
    "    model.add(BatchNormalization(momentum=0.9))\n",
    "    model.add(LeakyReLU(alpha=0.3))\n",
    "\n",
    "    model.add(Dropout(0.25))\n",
    "    model.add(Conv2D(256, kernel_size=3, strides=2, padding=\"same\"))\n",
    "    model.add(BatchNormalization(momentum=0.9))\n",
    "    model.add(LeakyReLU(alpha=0.3))\n",
    "\n",
    "    model.add(Dropout(0.25))\n",
    "    model.add(Conv2D(512, kernel_size=3, strides=2, padding=\"same\"))\n",
    "    model.add(BatchNormalization(momentum=0.9))\n",
    "    model.add(LeakyReLU(alpha=0.3))\n",
    "\n",
    "    model.add(Dropout(0.25))\n",
    "    model.add(Flatten())\n",
    "    model.add(Dense(1, activation='sigmoid'))\n",
    "    model.summary()\n",
    "\n",
    "    return model"
   ]
  },
  {
   "cell_type": "code",
   "execution_count": 145,
   "metadata": {},
   "outputs": [
    {
     "name": "stdout",
     "output_type": "stream",
     "text": [
      "Tensor(\"input_21:0\", shape=(None, 100), dtype=float32)\n",
      "Model: \"sequential_16\"\n",
      "_________________________________________________________________\n",
      "Layer (type)                 Output Shape              Param #   \n",
      "=================================================================\n",
      "dense_16 (Dense)             (None, 1024)              103424    \n",
      "_________________________________________________________________\n",
      "reshape_8 (Reshape)          (None, 4, 4, 64)          0         \n",
      "_________________________________________________________________\n",
      "batch_normalization_76 (Batc (None, 4, 4, 64)          256       \n",
      "_________________________________________________________________\n",
      "up_sampling2d_32 (UpSampling (None, 8, 8, 64)          0         \n",
      "_________________________________________________________________\n",
      "conv2d_84 (Conv2D)           (None, 8, 8, 32)          18464     \n",
      "_________________________________________________________________\n",
      "activation_44 (Activation)   (None, 8, 8, 32)          0         \n",
      "_________________________________________________________________\n",
      "batch_normalization_77 (Batc (None, 8, 8, 32)          128       \n",
      "_________________________________________________________________\n",
      "up_sampling2d_33 (UpSampling (None, 16, 16, 32)        0         \n",
      "_________________________________________________________________\n",
      "conv2d_85 (Conv2D)           (None, 16, 16, 64)        18496     \n",
      "_________________________________________________________________\n",
      "activation_45 (Activation)   (None, 16, 16, 64)        0         \n",
      "_________________________________________________________________\n",
      "batch_normalization_78 (Batc (None, 16, 16, 64)        256       \n",
      "_________________________________________________________________\n",
      "up_sampling2d_34 (UpSampling (None, 32, 32, 64)        0         \n",
      "_________________________________________________________________\n",
      "conv2d_86 (Conv2D)           (None, 32, 32, 128)       73856     \n",
      "_________________________________________________________________\n",
      "activation_46 (Activation)   (None, 32, 32, 128)       0         \n",
      "_________________________________________________________________\n",
      "batch_normalization_79 (Batc (None, 32, 32, 128)       512       \n",
      "_________________________________________________________________\n",
      "up_sampling2d_35 (UpSampling (None, 64, 64, 128)       0         \n",
      "_________________________________________________________________\n",
      "conv2d_87 (Conv2D)           (None, 64, 64, 3)         3459      \n",
      "_________________________________________________________________\n",
      "activation_47 (Activation)   (None, 64, 64, 3)         0         \n",
      "=================================================================\n",
      "Total params: 218,851\n",
      "Trainable params: 218,275\n",
      "Non-trainable params: 576\n",
      "_________________________________________________________________\n"
     ]
    }
   ],
   "source": [
    "# Build and compile the generator\n",
    "generator = build_generator1()\n",
    "generator.compile(loss='binary_crossentropy', optimizer=Adam(lr=0.003, beta_1=0.5))"
   ]
  },
  {
   "cell_type": "code",
   "execution_count": 146,
   "metadata": {},
   "outputs": [],
   "source": [
    "# The generator takes noise as input and generated imgs\n",
    "noise = Input(shape=(100,))\n",
    "generated_image = generator(noise)"
   ]
  },
  {
   "cell_type": "code",
   "execution_count": 147,
   "metadata": {
    "scrolled": true
   },
   "outputs": [
    {
     "name": "stdout",
     "output_type": "stream",
     "text": [
      "Model: \"sequential_17\"\n",
      "_________________________________________________________________\n",
      "Layer (type)                 Output Shape              Param #   \n",
      "=================================================================\n",
      "conv2d_88 (Conv2D)           (None, 32, 32, 32)        896       \n",
      "_________________________________________________________________\n",
      "leaky_re_lu_40 (LeakyReLU)   (None, 32, 32, 32)        0         \n",
      "_________________________________________________________________\n",
      "dropout_50 (Dropout)         (None, 32, 32, 32)        0         \n",
      "_________________________________________________________________\n",
      "conv2d_89 (Conv2D)           (None, 16, 16, 64)        18496     \n",
      "_________________________________________________________________\n",
      "batch_normalization_80 (Batc (None, 16, 16, 64)        256       \n",
      "_________________________________________________________________\n",
      "leaky_re_lu_41 (LeakyReLU)   (None, 16, 16, 64)        0         \n",
      "_________________________________________________________________\n",
      "dropout_51 (Dropout)         (None, 16, 16, 64)        0         \n",
      "_________________________________________________________________\n",
      "conv2d_90 (Conv2D)           (None, 8, 8, 128)         73856     \n",
      "_________________________________________________________________\n",
      "batch_normalization_81 (Batc (None, 8, 8, 128)         512       \n",
      "_________________________________________________________________\n",
      "leaky_re_lu_42 (LeakyReLU)   (None, 8, 8, 128)         0         \n",
      "_________________________________________________________________\n",
      "dropout_52 (Dropout)         (None, 8, 8, 128)         0         \n",
      "_________________________________________________________________\n",
      "conv2d_91 (Conv2D)           (None, 4, 4, 256)         295168    \n",
      "_________________________________________________________________\n",
      "batch_normalization_82 (Batc (None, 4, 4, 256)         1024      \n",
      "_________________________________________________________________\n",
      "leaky_re_lu_43 (LeakyReLU)   (None, 4, 4, 256)         0         \n",
      "_________________________________________________________________\n",
      "dropout_53 (Dropout)         (None, 4, 4, 256)         0         \n",
      "_________________________________________________________________\n",
      "conv2d_92 (Conv2D)           (None, 2, 2, 512)         1180160   \n",
      "_________________________________________________________________\n",
      "batch_normalization_83 (Batc (None, 2, 2, 512)         2048      \n",
      "_________________________________________________________________\n",
      "leaky_re_lu_44 (LeakyReLU)   (None, 2, 2, 512)         0         \n",
      "_________________________________________________________________\n",
      "dropout_54 (Dropout)         (None, 2, 2, 512)         0         \n",
      "_________________________________________________________________\n",
      "flatten_8 (Flatten)          (None, 2048)              0         \n",
      "_________________________________________________________________\n",
      "dense_17 (Dense)             (None, 1)                 2049      \n",
      "=================================================================\n",
      "Total params: 1,574,465\n",
      "Trainable params: 1,572,545\n",
      "Non-trainable params: 1,920\n",
      "_________________________________________________________________\n"
     ]
    }
   ],
   "source": [
    "# Build and compile the discriminator\n",
    "discriminator = build_discriminator1()\n",
    "discriminator.compile(loss='binary_crossentropy', optimizer=Adam(lr=0.0004, beta_1=0.5), metrics=['binary_accuracy'])\n",
    "discriminator.trainable = False\n",
    "\n"
   ]
  },
  {
   "cell_type": "code",
   "execution_count": 148,
   "metadata": {},
   "outputs": [
    {
     "name": "stdout",
     "output_type": "stream",
     "text": [
      "Model: \"adversarial\"\n",
      "_________________________________________________________________\n",
      "Layer (type)                 Output Shape              Param #   \n",
      "=================================================================\n",
      "input_22 (InputLayer)        [(None, 100)]             0         \n",
      "_________________________________________________________________\n",
      "model_15 (Model)             (None, 64, 64, 3)         218851    \n",
      "_________________________________________________________________\n",
      "sequential_17 (Sequential)   (None, 1)                 1574465   \n",
      "=================================================================\n",
      "Total params: 1,793,316\n",
      "Trainable params: 218,275\n",
      "Non-trainable params: 1,575,041\n",
      "_________________________________________________________________\n"
     ]
    }
   ],
   "source": [
    "# The valid takes generated images as input and determines validity\n",
    "validity = discriminator(generated_image)\n",
    "\n",
    "gan = Model(noise, validity, name = 'adversarial')\n",
    "gan.compile(loss='binary_crossentropy', optimizer=Adam(lr=0.0004,beta_1=0.5), metrics=['binary_accuracy'])\n",
    "gan.summary()"
   ]
  },
  {
   "cell_type": "code",
   "execution_count": 149,
   "metadata": {},
   "outputs": [],
   "source": [
    "disc_loss=[]\n",
    "gene_loss=[]\n",
    "def train(epochs, batch_size, save_interval):\n",
    "    global discriminator, generator, gan\n",
    "    half_batch = int(batch_size / 2)\n",
    "    for epoch in range(epochs):\n",
    "\n",
    "        #  Train Discriminator\n",
    "        real_ids = np.random.randint(0, X_train.shape[0], half_batch)\n",
    "        real_imgs = X_train[real_ids]\n",
    "\n",
    "        noise = np.random.normal(0, 1, (half_batch, 100))\n",
    "        # Generate a half batch of new images\n",
    "        gen_imgs = generator.predict(noise)\n",
    "\n",
    "        # Train the discriminator\n",
    "        real_loss = discriminator.train_on_batch(real_imgs, np.ones((half_batch, 1)))\n",
    "        fake_loss = discriminator.train_on_batch(gen_imgs, np.zeros((half_batch, 1)))\n",
    "        d1_loss = 0.5 * np.add(real_loss, fake_loss)\n",
    "        print(d1_loss[0])\n",
    "        #  Train Generator\n",
    "        noise = np.random.normal(0, 1, (batch_size, 100))\n",
    "        g1_loss = gan.train_on_batch(noise, np.ones((batch_size, 1)))\n",
    "        print(g1_loss)\n",
    "        # Plot the progress\n",
    "        print (\"%d [D loss: %f] [G loss: %f]\" % (epoch, d1_loss[0], g1_loss[0]))\n",
    "        #print (\"%d [D loss: %f, acc.: %.2f%%] [G loss: %f]\" % (epoch, d_loss[0], 100*d_loss[1], g_loss))\n",
    "\n",
    "        disc_loss.append(d1_loss[0])\n",
    "        gene_loss.append(g1_loss[0])\n",
    "        # If at save interval => save generated image samples\n",
    "         # If at save interval => save generated image samples\n",
    "        if epoch % save_interval == 0:\n",
    "        \n",
    "            gen_imgs = 0.5 * gen_imgs + 0.5\n",
    "            fig, axs = plt.subplots(5, 5)\n",
    "            for i in range(5):\n",
    "                for j in range(5):\n",
    "                    axs[i,j].imshow(gen_imgs[i*5+j])\n",
    "                    axs[i,j].axis('off')\n",
    "\n",
    "            fig.savefig(\"results/animes_%d.png\" % epoch, dpi=600, bbox_inches='tight')\n",
    "            plt.close() "
   ]
  },
  {
   "cell_type": "code",
   "execution_count": 150,
   "metadata": {
    "scrolled": true
   },
   "outputs": [
    {
     "name": "stdout",
     "output_type": "stream",
     "text": [
      "1.8315978\n",
      "[0.6685042, 0.72265625]\n",
      "0 [D loss: 1.831598] [G loss: 0.668504]\n",
      "0.42294252\n",
      "[0.7410909, 0.23828125]\n",
      "1 [D loss: 0.422943] [G loss: 0.741091]\n",
      "0.2564405\n",
      "[0.80880225, 0.1015625]\n",
      "2 [D loss: 0.256440] [G loss: 0.808802]\n",
      "0.3471045\n",
      "[0.8045244, 0.17578125]\n",
      "3 [D loss: 0.347104] [G loss: 0.804524]\n",
      "0.18623753\n",
      "[0.8087994, 0.24609375]\n",
      "4 [D loss: 0.186238] [G loss: 0.808799]\n",
      "0.1385518\n",
      "[0.8681951, 0.1953125]\n",
      "5 [D loss: 0.138552] [G loss: 0.868195]\n",
      "0.09457126\n",
      "[1.0058355, 0.13671875]\n",
      "6 [D loss: 0.094571] [G loss: 1.005836]\n",
      "0.08178616\n",
      "[0.96033764, 0.1953125]\n",
      "7 [D loss: 0.081786] [G loss: 0.960338]\n",
      "0.04395074\n",
      "[0.92001104, 0.30078125]\n",
      "8 [D loss: 0.043951] [G loss: 0.920011]\n",
      "0.03514373\n",
      "[0.8324131, 0.4375]\n",
      "9 [D loss: 0.035144] [G loss: 0.832413]\n",
      "0.030920051\n",
      "[0.8077304, 0.47265625]\n",
      "10 [D loss: 0.030920] [G loss: 0.807730]\n",
      "0.020792387\n",
      "[0.68899125, 0.56640625]\n",
      "11 [D loss: 0.020792] [G loss: 0.688991]\n",
      "0.02704457\n",
      "[0.65966713, 0.6328125]\n",
      "12 [D loss: 0.027045] [G loss: 0.659667]\n",
      "0.026822325\n",
      "[0.6521183, 0.66015625]\n",
      "13 [D loss: 0.026822] [G loss: 0.652118]\n",
      "0.013324654\n",
      "[0.68964434, 0.65625]\n",
      "14 [D loss: 0.013325] [G loss: 0.689644]\n",
      "0.02840482\n",
      "[0.8390665, 0.58984375]\n",
      "15 [D loss: 0.028405] [G loss: 0.839067]\n",
      "0.01875142\n",
      "[0.8988273, 0.5078125]\n",
      "16 [D loss: 0.018751] [G loss: 0.898827]\n",
      "0.025394622\n",
      "[1.2340322, 0.36328125]\n",
      "17 [D loss: 0.025395] [G loss: 1.234032]\n",
      "0.021942183\n",
      "[1.749203, 0.21484375]\n",
      "18 [D loss: 0.021942] [G loss: 1.749203]\n",
      "0.06718825\n",
      "[3.4591103, 0.03515625]\n",
      "19 [D loss: 0.067188] [G loss: 3.459110]\n",
      "0.040086426\n",
      "[3.8482618, 0.0546875]\n",
      "20 [D loss: 0.040086] [G loss: 3.848262]\n",
      "0.06393251\n",
      "[3.2023997, 0.1015625]\n",
      "21 [D loss: 0.063933] [G loss: 3.202400]\n",
      "0.021220015\n",
      "[2.4822254, 0.19140625]\n",
      "22 [D loss: 0.021220] [G loss: 2.482225]\n",
      "0.022010129\n",
      "[1.6736543, 0.38671875]\n",
      "23 [D loss: 0.022010] [G loss: 1.673654]\n",
      "0.011982974\n",
      "[0.8938431, 0.62890625]\n",
      "24 [D loss: 0.011983] [G loss: 0.893843]\n",
      "0.022502888\n",
      "[1.3056142, 0.50390625]\n",
      "25 [D loss: 0.022503] [G loss: 1.305614]\n",
      "0.012710852\n",
      "[1.8852334, 0.34375]\n",
      "26 [D loss: 0.012711] [G loss: 1.885233]\n",
      "0.025721367\n",
      "[1.8113045, 0.32421875]\n",
      "27 [D loss: 0.025721] [G loss: 1.811304]\n",
      "0.01776316\n",
      "[2.3979485, 0.24609375]\n",
      "28 [D loss: 0.017763] [G loss: 2.397949]\n",
      "0.032782592\n",
      "[2.8931258, 0.12109375]\n",
      "29 [D loss: 0.032783] [G loss: 2.893126]\n",
      "0.028037768\n",
      "[3.259777, 0.125]\n",
      "30 [D loss: 0.028038] [G loss: 3.259777]\n",
      "0.013790065\n",
      "[3.5255027, 0.08203125]\n",
      "31 [D loss: 0.013790] [G loss: 3.525503]\n",
      "0.06225102\n",
      "[4.227417, 0.05078125]\n",
      "32 [D loss: 0.062251] [G loss: 4.227417]\n",
      "0.019714108\n",
      "[4.389202, 0.04296875]\n",
      "33 [D loss: 0.019714] [G loss: 4.389202]\n",
      "0.025535118\n",
      "[3.6998925, 0.078125]\n",
      "34 [D loss: 0.025535] [G loss: 3.699893]\n",
      "0.01811572\n",
      "[3.396483, 0.09765625]\n",
      "35 [D loss: 0.018116] [G loss: 3.396483]\n",
      "0.07379318\n",
      "[3.9950795, 0.0625]\n",
      "36 [D loss: 0.073793] [G loss: 3.995080]\n",
      "0.019980561\n",
      "[4.826227, 0.05859375]\n",
      "37 [D loss: 0.019981] [G loss: 4.826227]\n",
      "0.02873131\n",
      "[2.21502, 0.26171875]\n",
      "38 [D loss: 0.028731] [G loss: 2.215020]\n",
      "0.031825185\n",
      "[3.4521122, 0.12890625]\n",
      "39 [D loss: 0.031825] [G loss: 3.452112]\n",
      "0.025982238\n",
      "[3.0575752, 0.125]\n",
      "40 [D loss: 0.025982] [G loss: 3.057575]\n",
      "0.008180919\n",
      "[2.3517344, 0.2265625]\n",
      "41 [D loss: 0.008181] [G loss: 2.351734]\n",
      "0.00642136\n",
      "[2.5953069, 0.234375]\n",
      "42 [D loss: 0.006421] [G loss: 2.595307]\n",
      "0.004196639\n",
      "[2.6841836, 0.16015625]\n",
      "43 [D loss: 0.004197] [G loss: 2.684184]\n",
      "0.0035676863\n",
      "[2.9440217, 0.125]\n",
      "44 [D loss: 0.003568] [G loss: 2.944022]\n",
      "0.008438903\n",
      "[1.957042, 0.27734375]\n",
      "45 [D loss: 0.008439] [G loss: 1.957042]\n",
      "0.016060723\n",
      "[1.954673, 0.2734375]\n",
      "46 [D loss: 0.016061] [G loss: 1.954673]\n",
      "0.006886382\n",
      "[1.8926, 0.265625]\n",
      "47 [D loss: 0.006886] [G loss: 1.892600]\n",
      "0.0065711383\n",
      "[1.8369348, 0.31640625]\n",
      "48 [D loss: 0.006571] [G loss: 1.836935]\n",
      "0.0045947824\n",
      "[1.7802963, 0.3203125]\n",
      "49 [D loss: 0.004595] [G loss: 1.780296]\n",
      "0.005853473\n",
      "[1.6268271, 0.31640625]\n",
      "50 [D loss: 0.005853] [G loss: 1.626827]\n",
      "0.0070755025\n",
      "[1.5583614, 0.3203125]\n",
      "51 [D loss: 0.007076] [G loss: 1.558361]\n",
      "0.010001061\n",
      "[1.6802195, 0.3359375]\n",
      "52 [D loss: 0.010001] [G loss: 1.680220]\n",
      "0.0104950825\n",
      "[1.3483814, 0.390625]\n",
      "53 [D loss: 0.010495] [G loss: 1.348381]\n",
      "0.008664565\n",
      "[1.5933406, 0.359375]\n",
      "54 [D loss: 0.008665] [G loss: 1.593341]\n",
      "0.008032098\n",
      "[1.6449707, 0.35546875]\n",
      "55 [D loss: 0.008032] [G loss: 1.644971]\n",
      "0.01079299\n",
      "[1.5934746, 0.36328125]\n",
      "56 [D loss: 0.010793] [G loss: 1.593475]\n",
      "0.0037466139\n",
      "[1.6945908, 0.33984375]\n",
      "57 [D loss: 0.003747] [G loss: 1.694591]\n",
      "0.0025625494\n",
      "[1.8042941, 0.28125]\n",
      "58 [D loss: 0.002563] [G loss: 1.804294]\n",
      "0.006302878\n",
      "[1.3281815, 0.4375]\n",
      "59 [D loss: 0.006303] [G loss: 1.328182]\n",
      "0.0040679844\n",
      "[1.332809, 0.4375]\n",
      "60 [D loss: 0.004068] [G loss: 1.332809]\n",
      "0.002321102\n",
      "[1.2787393, 0.4609375]\n",
      "61 [D loss: 0.002321] [G loss: 1.278739]\n",
      "0.005226419\n",
      "[1.4304345, 0.37890625]\n",
      "62 [D loss: 0.005226] [G loss: 1.430434]\n",
      "0.0025507486\n",
      "[1.5585866, 0.3984375]\n",
      "63 [D loss: 0.002551] [G loss: 1.558587]\n",
      "0.0028352416\n",
      "[1.5826788, 0.32421875]\n",
      "64 [D loss: 0.002835] [G loss: 1.582679]\n",
      "0.0027353019\n",
      "[1.4214461, 0.40625]\n",
      "65 [D loss: 0.002735] [G loss: 1.421446]\n",
      "0.0026970706\n",
      "[1.6490346, 0.30859375]\n",
      "66 [D loss: 0.002697] [G loss: 1.649035]\n",
      "0.0024265428\n",
      "[1.5299444, 0.32421875]\n",
      "67 [D loss: 0.002427] [G loss: 1.529944]\n",
      "0.0013960841\n",
      "[1.6693769, 0.296875]\n",
      "68 [D loss: 0.001396] [G loss: 1.669377]\n",
      "0.002730003\n",
      "[1.485451, 0.3828125]\n",
      "69 [D loss: 0.002730] [G loss: 1.485451]\n",
      "0.003711406\n",
      "[1.6019099, 0.296875]\n",
      "70 [D loss: 0.003711] [G loss: 1.601910]\n",
      "0.0026960524\n",
      "[1.4231695, 0.37109375]\n",
      "71 [D loss: 0.002696] [G loss: 1.423169]\n",
      "0.0034781066\n",
      "[1.1228704, 0.48828125]\n",
      "72 [D loss: 0.003478] [G loss: 1.122870]\n",
      "0.0020269158\n",
      "[1.2660819, 0.4453125]\n",
      "73 [D loss: 0.002027] [G loss: 1.266082]\n",
      "0.0032982763\n",
      "[1.6088943, 0.328125]\n",
      "74 [D loss: 0.003298] [G loss: 1.608894]\n",
      "0.0032845582\n",
      "[1.566453, 0.33203125]\n",
      "75 [D loss: 0.003285] [G loss: 1.566453]\n",
      "0.0023270275\n",
      "[1.4869652, 0.375]\n",
      "76 [D loss: 0.002327] [G loss: 1.486965]\n",
      "0.0044646114\n",
      "[1.2626264, 0.4296875]\n",
      "77 [D loss: 0.004465] [G loss: 1.262626]\n",
      "0.0027406546\n",
      "[1.4619342, 0.41015625]\n",
      "78 [D loss: 0.002741] [G loss: 1.461934]\n",
      "0.0020996234\n",
      "[1.5276942, 0.34765625]\n",
      "79 [D loss: 0.002100] [G loss: 1.527694]\n",
      "0.004877522\n",
      "[1.6681774, 0.30078125]\n",
      "80 [D loss: 0.004878] [G loss: 1.668177]\n",
      "0.0034397924\n",
      "[1.331997, 0.38671875]\n",
      "81 [D loss: 0.003440] [G loss: 1.331997]\n",
      "0.0015831263\n",
      "[1.626828, 0.296875]\n",
      "82 [D loss: 0.001583] [G loss: 1.626828]\n",
      "0.005424642\n",
      "[1.57528, 0.28125]\n",
      "83 [D loss: 0.005425] [G loss: 1.575280]\n",
      "0.0017529035\n",
      "[1.9014143, 0.23828125]\n",
      "84 [D loss: 0.001753] [G loss: 1.901414]\n",
      "0.006619228\n",
      "[1.4599502, 0.375]\n",
      "85 [D loss: 0.006619] [G loss: 1.459950]\n",
      "0.004665074\n",
      "[1.4061826, 0.37109375]\n",
      "86 [D loss: 0.004665] [G loss: 1.406183]\n",
      "0.009515945\n",
      "[1.1330756, 0.46484375]\n",
      "87 [D loss: 0.009516] [G loss: 1.133076]\n",
      "0.0029318118\n",
      "[1.3574499, 0.4296875]\n",
      "88 [D loss: 0.002932] [G loss: 1.357450]\n",
      "0.003040424\n",
      "[1.6414238, 0.328125]\n",
      "89 [D loss: 0.003040] [G loss: 1.641424]\n",
      "0.0020137378\n",
      "[1.7149513, 0.26953125]\n",
      "90 [D loss: 0.002014] [G loss: 1.714951]\n",
      "0.0030373456\n",
      "[1.4565904, 0.328125]\n",
      "91 [D loss: 0.003037] [G loss: 1.456590]\n",
      "0.0008862864\n",
      "[1.4516944, 0.328125]\n",
      "92 [D loss: 0.000886] [G loss: 1.451694]\n",
      "0.0034200428\n",
      "[1.3098569, 0.375]\n",
      "93 [D loss: 0.003420] [G loss: 1.309857]\n",
      "0.0011760365\n",
      "[1.2157731, 0.44140625]\n",
      "94 [D loss: 0.001176] [G loss: 1.215773]\n",
      "0.0013530934\n",
      "[1.1694825, 0.43359375]\n",
      "95 [D loss: 0.001353] [G loss: 1.169482]\n",
      "0.0011425468\n",
      "[1.30021, 0.3515625]\n",
      "96 [D loss: 0.001143] [G loss: 1.300210]\n",
      "0.0013555512\n",
      "[1.2643629, 0.39453125]\n",
      "97 [D loss: 0.001356] [G loss: 1.264363]\n",
      "0.0024454356\n",
      "[1.1082546, 0.453125]\n",
      "98 [D loss: 0.002445] [G loss: 1.108255]\n",
      "0.001897576\n",
      "[1.1043708, 0.46875]\n",
      "99 [D loss: 0.001898] [G loss: 1.104371]\n"
     ]
    }
   ],
   "source": [
    "train(epochs=100, batch_size=256, save_interval=2)"
   ]
  },
  {
   "cell_type": "code",
   "execution_count": 151,
   "metadata": {},
   "outputs": [
    {
     "name": "stdout",
     "output_type": "stream",
     "text": [
      "[[0.81487614]]\n"
     ]
    },
    {
     "data": {
      "image/png": "[encoded data removed]",
      "text/plain": [
       "<Figure size 432x288 with 1 Axes>"
      ]
     },
     "metadata": {
      "needs_background": "light"
     },
     "output_type": "display_data"
    }
   ],
   "source": [
    "import matplotlib.pyplot as plt\n",
    "noise = np.random.normal(0, 1, (1,100))\n",
    "#print(noise)\n",
    "gan_img = generator.predict(noise)\n",
    "print(discriminator.predict(gan_img))\n",
    "img = 0.5*gan_img[0] + 0.5\n",
    "plt.imshow(img)\n",
    "#plt.imshow(gan_img)\n",
    "plt.show()"
   ]
  },
  {
   "cell_type": "code",
   "execution_count": 152,
   "metadata": {},
   "outputs": [
    {
     "data": {
      "image/png": "[encoded data removed]",
      "text/plain": [
       "<Figure size 432x288 with 1 Axes>"
      ]
     },
     "metadata": {
      "needs_background": "light"
     },
     "output_type": "display_data"
    }
   ],
   "source": [
    "plt.imshow(img)\n",
    "plt.axis('off')\n",
    "plt.savefig('generated_anime.png', dpi=300, bbox_inches='tight')"
   ]
  },
  {
   "cell_type": "code",
   "execution_count": 153,
   "metadata": {},
   "outputs": [
    {
     "data": {
      "image/png": "[encoded data removed]",
      "text/plain": [
       "<Figure size 432x288 with 1 Axes>"
      ]
     },
     "metadata": {
      "needs_background": "light"
     },
     "output_type": "display_data"
    }
   ],
   "source": [
    "# plotting the metrics\n",
    "plt.plot(disc_loss)\n",
    "plt.plot(gene_loss)\n",
    "plt.title('Model loss')\n",
    "plt.ylabel('Loss')\n",
    "plt.xlabel('Epoch')\n",
    "plt.legend(['Discriminator', 'Generator'], loc='center right')\n",
    "plt.show()"
   ]
  },
  {
   "cell_type": "markdown",
   "metadata": {},
   "source": [
    "Further increasing the size of the epochs to see if the image quality improves along with the hyperparameter values as both the generator loss and discriminator loss is comparitively less and discriminator loss is not completely converging to zero."
   ]
  },
  {
   "cell_type": "markdown",
   "metadata": {},
   "source": [
    "# Model 3"
   ]
  },
  {
   "cell_type": "markdown",
   "metadata": {},
   "source": [
    "with varying hyperparameters learning rate - 0.0008, alpha = 0.3 and momentum = 0.8 with dropout rate in both generator and discriminator with a value of 0.3, batch_size = 64"
   ]
  },
  {
   "cell_type": "code",
   "execution_count": 133,
   "metadata": {},
   "outputs": [],
   "source": [
    "def generator1():\n",
    "    noise_shape = (100,)\n",
    "    noise = Input(shape=noise_shape)\n",
    "    print(noise)\n",
    "    \n",
    "    model = Sequential()\n",
    "    model.add(Dense(64 * 4 * 4,activation=\"relu\", input_shape=noise_shape))\n",
    "    model.add(Reshape((4,4,64)))\n",
    "    model.add(BatchNormalization(momentum=0.8))\n",
    "    model.add(Dropout(0.3))\n",
    "    \n",
    "    model.add(UpSampling2D())\n",
    "    model.add(Conv2D(128, kernel_size=3, padding=\"same\"))\n",
    "    model.add(Activation(\"relu\"))\n",
    "    model.add(BatchNormalization(momentum=0.8))\n",
    "    model.add(Dropout(0.3))\n",
    "    \n",
    "    model.add(UpSampling2D())\n",
    "    model.add(Conv2D(256, kernel_size=3, padding=\"same\"))\n",
    "    model.add(Activation(\"relu\"))\n",
    "    model.add(BatchNormalization(momentum=0.8))\n",
    "    model.add(Dropout(0.3))\n",
    "    \n",
    "    model.add(UpSampling2D())\n",
    "    model.add(Conv2D(512, kernel_size=3, padding=\"same\"))\n",
    "    model.add(Activation(\"relu\"))\n",
    "    model.add(BatchNormalization(momentum=0.8))\n",
    "    model.add(Dropout(0.3))\n",
    "    \n",
    "    model.add(UpSampling2D())\n",
    "    model.add(Conv2D(64, kernel_size=3, padding=\"same\"))\n",
    "    model.add(Activation(\"relu\"))\n",
    "    model.add(BatchNormalization(momentum=0.8))\n",
    "    model.add(Dropout(0.3))\n",
    "    \n",
    "    model.add(Conv2D(16, kernel_size=3, padding=\"same\"))\n",
    "    model.add(Activation(\"relu\"))\n",
    "    model.add(BatchNormalization(momentum=0.8))\n",
    "\n",
    "    model.add(Conv2D(channels, kernel_size=3, padding=\"same\"))\n",
    "    model.add(Activation(\"tanh\"))\n",
    "\n",
    "    model.summary()\n",
    "\n",
    "    output_img = model(noise)\n",
    "\n",
    "    return Model(noise, output_img)"
   ]
  },
  {
   "cell_type": "code",
   "execution_count": 134,
   "metadata": {},
   "outputs": [
    {
     "name": "stdout",
     "output_type": "stream",
     "text": [
      "Tensor(\"input_19:0\", shape=(None, 100), dtype=float32)\n",
      "Model: \"sequential_14\"\n",
      "_________________________________________________________________\n",
      "Layer (type)                 Output Shape              Param #   \n",
      "=================================================================\n",
      "dense_14 (Dense)             (None, 1024)              103424    \n",
      "_________________________________________________________________\n",
      "reshape_7 (Reshape)          (None, 4, 4, 64)          0         \n",
      "_________________________________________________________________\n",
      "batch_normalization_66 (Batc (None, 4, 4, 64)          256       \n",
      "_________________________________________________________________\n",
      "dropout_40 (Dropout)         (None, 4, 4, 64)          0         \n",
      "_________________________________________________________________\n",
      "up_sampling2d_28 (UpSampling (None, 8, 8, 64)          0         \n",
      "_________________________________________________________________\n",
      "conv2d_73 (Conv2D)           (None, 8, 8, 128)         73856     \n",
      "_________________________________________________________________\n",
      "activation_38 (Activation)   (None, 8, 8, 128)         0         \n",
      "_________________________________________________________________\n",
      "batch_normalization_67 (Batc (None, 8, 8, 128)         512       \n",
      "_________________________________________________________________\n",
      "dropout_41 (Dropout)         (None, 8, 8, 128)         0         \n",
      "_________________________________________________________________\n",
      "up_sampling2d_29 (UpSampling (None, 16, 16, 128)       0         \n",
      "_________________________________________________________________\n",
      "conv2d_74 (Conv2D)           (None, 16, 16, 256)       295168    \n",
      "_________________________________________________________________\n",
      "activation_39 (Activation)   (None, 16, 16, 256)       0         \n",
      "_________________________________________________________________\n",
      "batch_normalization_68 (Batc (None, 16, 16, 256)       1024      \n",
      "_________________________________________________________________\n",
      "dropout_42 (Dropout)         (None, 16, 16, 256)       0         \n",
      "_________________________________________________________________\n",
      "up_sampling2d_30 (UpSampling (None, 32, 32, 256)       0         \n",
      "_________________________________________________________________\n",
      "conv2d_75 (Conv2D)           (None, 32, 32, 512)       1180160   \n",
      "_________________________________________________________________\n",
      "activation_40 (Activation)   (None, 32, 32, 512)       0         \n",
      "_________________________________________________________________\n",
      "batch_normalization_69 (Batc (None, 32, 32, 512)       2048      \n",
      "_________________________________________________________________\n",
      "dropout_43 (Dropout)         (None, 32, 32, 512)       0         \n",
      "_________________________________________________________________\n",
      "up_sampling2d_31 (UpSampling (None, 64, 64, 512)       0         \n",
      "_________________________________________________________________\n",
      "conv2d_76 (Conv2D)           (None, 64, 64, 64)        294976    \n",
      "_________________________________________________________________\n",
      "activation_41 (Activation)   (None, 64, 64, 64)        0         \n",
      "_________________________________________________________________\n",
      "batch_normalization_70 (Batc (None, 64, 64, 64)        256       \n",
      "_________________________________________________________________\n",
      "dropout_44 (Dropout)         (None, 64, 64, 64)        0         \n",
      "_________________________________________________________________\n",
      "conv2d_77 (Conv2D)           (None, 64, 64, 16)        9232      \n",
      "_________________________________________________________________\n",
      "activation_42 (Activation)   (None, 64, 64, 16)        0         \n",
      "_________________________________________________________________\n",
      "batch_normalization_71 (Batc (None, 64, 64, 16)        64        \n",
      "_________________________________________________________________\n",
      "conv2d_78 (Conv2D)           (None, 64, 64, 3)         435       \n",
      "_________________________________________________________________\n",
      "activation_43 (Activation)   (None, 64, 64, 3)         0         \n",
      "=================================================================\n",
      "Total params: 1,961,411\n",
      "Trainable params: 1,959,331\n",
      "Non-trainable params: 2,080\n",
      "_________________________________________________________________\n"
     ]
    }
   ],
   "source": [
    "# Build and compile the generator\n",
    "generator = generator1()\n",
    "generator.compile(loss='binary_crossentropy', optimizer=Adam(lr=0.0008, beta_1=0.6))"
   ]
  },
  {
   "cell_type": "code",
   "execution_count": 135,
   "metadata": {},
   "outputs": [],
   "source": [
    "def discriminator1():\n",
    "    model = Sequential()\n",
    "    img = Input(shape=img_size)\n",
    "    model.add(Conv2D(32, kernel_size=3, strides=2, input_shape=image_shape, padding=\"same\"))\n",
    "    model.add(LeakyReLU(alpha=0.25))\n",
    "    model.add(Dropout(0.3))\n",
    "    \n",
    "    model.add(Conv2D(64, kernel_size=3, strides=2, padding=\"same\"))\n",
    "    model.add(LeakyReLU(alpha=0.25))\n",
    "    model.add(Dropout(0.3))\n",
    "    model.add(BatchNormalization(momentum=0.8))\n",
    "    \n",
    "    model.add(Conv2D(128, kernel_size=3, strides=2, padding=\"same\"))\n",
    "    model.add(LeakyReLU(alpha=0.25))\n",
    "    model.add(Dropout(0.3))\n",
    "    model.add(BatchNormalization(momentum=0.8))\n",
    "    \n",
    "    model.add(Conv2D(128, kernel_size=3, strides=2, padding=\"same\"))\n",
    "    model.add(LeakyReLU(alpha=0.25))\n",
    "    model.add(Dropout(0.3))\n",
    "    model.add(BatchNormalization(momentum=0.8))\n",
    "    \n",
    "    model.add(Conv2D(256, kernel_size=3, strides=2, padding=\"same\"))\n",
    "    model.add(LeakyReLU(alpha=0.25))\n",
    "    model.add(Dropout(0.3))\n",
    "    model.add(BatchNormalization(momentum=0.8))\n",
    "    \n",
    "    model.add(Flatten())\n",
    "    model.add(Dense(1, activation='sigmoid'))\n",
    "    model.summary()\n",
    "    validity = model(img)\n",
    "    \n",
    "    return Model(img, validity)"
   ]
  },
  {
   "cell_type": "code",
   "execution_count": 136,
   "metadata": {},
   "outputs": [
    {
     "name": "stdout",
     "output_type": "stream",
     "text": [
      "Model: \"sequential_15\"\n",
      "_________________________________________________________________\n",
      "Layer (type)                 Output Shape              Param #   \n",
      "=================================================================\n",
      "conv2d_79 (Conv2D)           (None, 32, 32, 32)        896       \n",
      "_________________________________________________________________\n",
      "leaky_re_lu_35 (LeakyReLU)   (None, 32, 32, 32)        0         \n",
      "_________________________________________________________________\n",
      "dropout_45 (Dropout)         (None, 32, 32, 32)        0         \n",
      "_________________________________________________________________\n",
      "conv2d_80 (Conv2D)           (None, 16, 16, 64)        18496     \n",
      "_________________________________________________________________\n",
      "batch_normalization_72 (Batc (None, 16, 16, 64)        256       \n",
      "_________________________________________________________________\n",
      "leaky_re_lu_36 (LeakyReLU)   (None, 16, 16, 64)        0         \n",
      "_________________________________________________________________\n",
      "dropout_46 (Dropout)         (None, 16, 16, 64)        0         \n",
      "_________________________________________________________________\n",
      "conv2d_81 (Conv2D)           (None, 8, 8, 128)         73856     \n",
      "_________________________________________________________________\n",
      "batch_normalization_73 (Batc (None, 8, 8, 128)         512       \n",
      "_________________________________________________________________\n",
      "leaky_re_lu_37 (LeakyReLU)   (None, 8, 8, 128)         0         \n",
      "_________________________________________________________________\n",
      "dropout_47 (Dropout)         (None, 8, 8, 128)         0         \n",
      "_________________________________________________________________\n",
      "conv2d_82 (Conv2D)           (None, 8, 8, 256)         295168    \n",
      "_________________________________________________________________\n",
      "batch_normalization_74 (Batc (None, 8, 8, 256)         1024      \n",
      "_________________________________________________________________\n",
      "leaky_re_lu_38 (LeakyReLU)   (None, 8, 8, 256)         0         \n",
      "_________________________________________________________________\n",
      "dropout_48 (Dropout)         (None, 8, 8, 256)         0         \n",
      "_________________________________________________________________\n",
      "conv2d_83 (Conv2D)           (None, 8, 8, 512)         1180160   \n",
      "_________________________________________________________________\n",
      "batch_normalization_75 (Batc (None, 8, 8, 512)         2048      \n",
      "_________________________________________________________________\n",
      "leaky_re_lu_39 (LeakyReLU)   (None, 8, 8, 512)         0         \n",
      "_________________________________________________________________\n",
      "dropout_49 (Dropout)         (None, 8, 8, 512)         0         \n",
      "_________________________________________________________________\n",
      "flatten_7 (Flatten)          (None, 32768)             0         \n",
      "_________________________________________________________________\n",
      "dense_15 (Dense)             (None, 1)                 32769     \n",
      "=================================================================\n",
      "Total params: 1,605,185\n",
      "Trainable params: 1,603,265\n",
      "Non-trainable params: 1,920\n",
      "_________________________________________________________________\n"
     ]
    }
   ],
   "source": [
    "# Build and compile the discriminator\n",
    "discriminator = build_discriminator1()\n",
    "discriminator.compile(loss='binary_crossentropy', optimizer=Adam(lr=0.0008, beta_1=0.6), metrics=['accuracy'])\n",
    "discriminator.trainable = False"
   ]
  },
  {
   "cell_type": "code",
   "execution_count": 137,
   "metadata": {},
   "outputs": [],
   "source": [
    "# The generator takes noise as input and generated imgs\n",
    "noise = Input(shape=(100,))\n",
    "generated_image = generator(noise)"
   ]
  },
  {
   "cell_type": "code",
   "execution_count": 138,
   "metadata": {},
   "outputs": [],
   "source": [
    "# The valid takes generated images as input and determines validity\n",
    "validity = discriminator(generated_image)\n",
    "\n",
    "gan = Model(noise, validity, name = 'adversarial')\n",
    "gan.compile(loss='binary_crossentropy', optimizer=Adam(lr=0.0008,beta_1=0.6), metrics=['accuracy'])\n",
    "#gan.summary()"
   ]
  },
  {
   "cell_type": "code",
   "execution_count": 139,
   "metadata": {},
   "outputs": [],
   "source": [
    "des_loss = []\n",
    "gen_loss = []\n",
    "def training(epochs, batch_size, save_interval):\n",
    "    global discriminator, generator, gan\n",
    "    half_batch = int(batch_size / 2)\n",
    "    print(half_batch)\n",
    "    for epoch in range(epochs):\n",
    "\n",
    "        #  Train Discriminator\n",
    "        real_ids = np.random.randint(0, X_train.shape[0], half_batch)\n",
    "        #print(real_ids)\n",
    "        real_imgs = X_train[real_ids]\n",
    "\n",
    "        noise = np.random.normal(0, 1, (half_batch, 100))\n",
    "        #print(noise)\n",
    "        # Generate a half batch of new images\n",
    "        gen_imgs = generator.predict(noise)\n",
    "        #print(gen_imgs)\n",
    "\n",
    "        # Train the discriminator\n",
    "        real_loss = discriminator.train_on_batch(real_imgs, np.ones((half_batch, 1)))\n",
    "        #print(real_loss)\n",
    "        fake_loss = discriminator.train_on_batch(gen_imgs, np.zeros((half_batch, 1)))\n",
    "        #print(fake_loss)\n",
    "        d_loss = 0.5 * np.add(real_loss, fake_loss)\n",
    "        #print(d_loss)\n",
    "        #  Train Generator\n",
    "        noise = np.random.normal(0, 1, (batch_size, 100))\n",
    "        #print(noise)\n",
    "        g_loss = gan.train_on_batch(noise, np.ones((batch_size, 1)))\n",
    "        #print(g_loss)\n",
    "        # Plot the progress\n",
    "        print (\"%d [D loss: %f, acc.: %.2f%%] [G loss: %f]\" % (epoch, d_loss[0], 100*d_loss[1], g_loss[0]))\n",
    "        des_loss.append(d_loss[0])\n",
    "        gen_loss.append(g_loss)\n",
    "        # If at save interval => save generated image samples\n",
    "        if epoch % save_interval == 0:\n",
    "        \n",
    "            gen_imgs = 0.5 * gen_imgs + 0.5\n",
    "            fig, axs = plt.subplots(5, 5)\n",
    "            for i in range(5):\n",
    "                for j in range(5):\n",
    "                    axs[i,j].imshow(gen_imgs[i*5+j])\n",
    "                    axs[i,j].axis('off')\n",
    "\n",
    "            fig.savefig(\"Final/animes_%d.png\" % epoch, dpi=600, bbox_inches='tight')\n",
    "            plt.close()    \n"
   ]
  },
  {
   "cell_type": "code",
   "execution_count": 140,
   "metadata": {
    "scrolled": false
   },
   "outputs": [
    {
     "name": "stdout",
     "output_type": "stream",
     "text": [
      "32\n",
      "0 [D loss: 5.261747, acc.: 26.56%] [G loss: 0.577320]\n",
      "1 [D loss: 2.328241, acc.: 50.00%] [G loss: 1.027018]\n",
      "2 [D loss: 0.443866, acc.: 81.25%] [G loss: 1.467476]\n",
      "3 [D loss: 0.707432, acc.: 84.38%] [G loss: 1.167035]\n",
      "4 [D loss: 0.146333, acc.: 95.31%] [G loss: 0.547954]\n",
      "5 [D loss: 0.077015, acc.: 95.31%] [G loss: 0.299540]\n",
      "6 [D loss: 0.421786, acc.: 82.81%] [G loss: 0.941745]\n",
      "7 [D loss: 0.030299, acc.: 98.44%] [G loss: 1.720407]\n",
      "8 [D loss: 0.184718, acc.: 95.31%] [G loss: 0.770986]\n",
      "9 [D loss: 0.050991, acc.: 98.44%] [G loss: 0.343508]\n",
      "10 [D loss: 0.023641, acc.: 100.00%] [G loss: 0.196464]\n",
      "11 [D loss: 0.003102, acc.: 100.00%] [G loss: 0.114099]\n",
      "12 [D loss: 0.001800, acc.: 100.00%] [G loss: 0.021406]\n",
      "13 [D loss: 0.011620, acc.: 100.00%] [G loss: 0.077766]\n",
      "14 [D loss: 0.171427, acc.: 95.31%] [G loss: 0.081243]\n",
      "15 [D loss: 0.027641, acc.: 98.44%] [G loss: 0.303435]\n",
      "16 [D loss: 0.007533, acc.: 100.00%] [G loss: 0.427628]\n",
      "17 [D loss: 0.099650, acc.: 95.31%] [G loss: 0.505852]\n",
      "18 [D loss: 0.024387, acc.: 98.44%] [G loss: 1.586836]\n",
      "19 [D loss: 0.119207, acc.: 95.31%] [G loss: 3.722501]\n",
      "20 [D loss: 0.018772, acc.: 100.00%] [G loss: 7.489127]\n",
      "21 [D loss: 0.127679, acc.: 95.31%] [G loss: 10.244725]\n",
      "22 [D loss: 0.113136, acc.: 92.19%] [G loss: 16.965214]\n",
      "23 [D loss: 0.574318, acc.: 85.94%] [G loss: 10.653405]\n",
      "24 [D loss: 0.004963, acc.: 100.00%] [G loss: 6.974693]\n",
      "25 [D loss: 0.006056, acc.: 100.00%] [G loss: 2.470509]\n",
      "26 [D loss: 0.044358, acc.: 98.44%] [G loss: 2.660805]\n",
      "27 [D loss: 0.000171, acc.: 100.00%] [G loss: 2.591856]\n",
      "28 [D loss: 0.215066, acc.: 96.88%] [G loss: 0.198849]\n",
      "29 [D loss: 0.000138, acc.: 100.00%] [G loss: 0.567014]\n",
      "30 [D loss: 0.028448, acc.: 98.44%] [G loss: 2.088927]\n"
     ]
    },
    {
     "name": "stderr",
     "output_type": "stream",
     "text": [
      "Clipping input data to the valid range for imshow with RGB data ([0..1] for floats or [0..255] for integers).\n"
     ]
    },
    {
     "name": "stdout",
     "output_type": "stream",
     "text": [
      "31 [D loss: 0.000011, acc.: 100.00%] [G loss: 6.017715]\n",
      "32 [D loss: 0.003654, acc.: 100.00%] [G loss: 4.234263]\n",
      "33 [D loss: 0.000344, acc.: 100.00%] [G loss: 3.343121]\n",
      "34 [D loss: 0.000262, acc.: 100.00%] [G loss: 2.401930]\n",
      "35 [D loss: 0.000375, acc.: 100.00%] [G loss: 2.124249]\n",
      "36 [D loss: 0.012861, acc.: 100.00%] [G loss: 1.806999]\n",
      "37 [D loss: 0.023470, acc.: 98.44%] [G loss: 3.251276]\n",
      "38 [D loss: 0.000010, acc.: 100.00%] [G loss: 2.505455]\n",
      "39 [D loss: 0.001934, acc.: 100.00%] [G loss: 2.629365]\n",
      "40 [D loss: 0.010463, acc.: 100.00%] [G loss: 3.130305]\n",
      "41 [D loss: 0.000006, acc.: 100.00%] [G loss: 5.664900]\n",
      "42 [D loss: 0.000040, acc.: 100.00%] [G loss: 4.891178]\n",
      "43 [D loss: 0.000065, acc.: 100.00%] [G loss: 4.308989]\n",
      "44 [D loss: 0.000210, acc.: 100.00%] [G loss: 4.509471]\n",
      "45 [D loss: 0.000624, acc.: 100.00%] [G loss: 2.133523]\n",
      "46 [D loss: 0.000062, acc.: 100.00%] [G loss: 2.638731]\n",
      "47 [D loss: 0.000027, acc.: 100.00%] [G loss: 1.780775]\n",
      "48 [D loss: 0.000092, acc.: 100.00%] [G loss: 1.693869]\n",
      "49 [D loss: 0.000066, acc.: 100.00%] [G loss: 1.269783]\n",
      "50 [D loss: 0.000186, acc.: 100.00%] [G loss: 1.370478]\n",
      "51 [D loss: 0.000351, acc.: 100.00%] [G loss: 0.695385]\n",
      "52 [D loss: 0.000987, acc.: 100.00%] [G loss: 0.365074]\n",
      "53 [D loss: 0.000434, acc.: 100.00%] [G loss: 0.257984]\n",
      "54 [D loss: 0.004522, acc.: 100.00%] [G loss: 0.778190]\n",
      "55 [D loss: 0.000116, acc.: 100.00%] [G loss: 0.967744]\n",
      "56 [D loss: 0.000014, acc.: 100.00%] [G loss: 1.679652]\n",
      "57 [D loss: 0.000022, acc.: 100.00%] [G loss: 1.365893]\n",
      "58 [D loss: 0.000125, acc.: 100.00%] [G loss: 0.959208]\n",
      "59 [D loss: 0.000198, acc.: 100.00%] [G loss: 0.777576]\n",
      "60 [D loss: 0.000229, acc.: 100.00%] [G loss: 0.630887]\n",
      "61 [D loss: 0.001468, acc.: 100.00%] [G loss: 0.608953]\n",
      "62 [D loss: 0.000309, acc.: 100.00%] [G loss: 0.784344]\n",
      "63 [D loss: 0.000120, acc.: 100.00%] [G loss: 0.914286]\n",
      "64 [D loss: 0.000248, acc.: 100.00%] [G loss: 0.391831]\n",
      "65 [D loss: 0.000208, acc.: 100.00%] [G loss: 0.574407]\n",
      "66 [D loss: 0.000154, acc.: 100.00%] [G loss: 0.664325]\n",
      "67 [D loss: 0.000058, acc.: 100.00%] [G loss: 0.371462]\n",
      "68 [D loss: 0.003406, acc.: 100.00%] [G loss: 1.142357]\n",
      "69 [D loss: 0.000261, acc.: 100.00%] [G loss: 1.568454]\n",
      "70 [D loss: 0.000118, acc.: 100.00%] [G loss: 1.696365]\n",
      "71 [D loss: 0.007797, acc.: 100.00%] [G loss: 5.230222]\n",
      "72 [D loss: 0.000071, acc.: 100.00%] [G loss: 7.126219]\n",
      "73 [D loss: 0.008778, acc.: 100.00%] [G loss: 5.940914]\n",
      "74 [D loss: 0.000173, acc.: 100.00%] [G loss: 4.149665]\n",
      "75 [D loss: 0.000649, acc.: 100.00%] [G loss: 2.613230]\n",
      "76 [D loss: 0.000099, acc.: 100.00%] [G loss: 1.478328]\n",
      "77 [D loss: 0.010167, acc.: 100.00%] [G loss: 3.623370]\n",
      "78 [D loss: 0.000097, acc.: 100.00%] [G loss: 3.496699]\n",
      "79 [D loss: 0.012860, acc.: 100.00%] [G loss: 8.745111]\n",
      "80 [D loss: 0.003013, acc.: 100.00%] [G loss: 12.859598]\n",
      "81 [D loss: 0.069587, acc.: 96.88%] [G loss: 3.754498]\n",
      "82 [D loss: 0.182868, acc.: 92.19%] [G loss: 40.066410]\n",
      "83 [D loss: 0.006898, acc.: 100.00%] [G loss: 45.942188]\n",
      "84 [D loss: 1.043709, acc.: 82.81%] [G loss: 44.105103]\n",
      "85 [D loss: 0.208040, acc.: 98.44%] [G loss: 6.616921]\n",
      "86 [D loss: 0.829767, acc.: 81.25%] [G loss: 56.424408]\n",
      "87 [D loss: 0.646487, acc.: 85.94%] [G loss: 9.189410]\n",
      "88 [D loss: 3.171373, acc.: 60.94%] [G loss: 114.115219]\n",
      "89 [D loss: 4.003375, acc.: 67.19%] [G loss: 98.650940]\n",
      "90 [D loss: 0.720996, acc.: 95.31%] [G loss: 10.825118]\n"
     ]
    },
    {
     "name": "stderr",
     "output_type": "stream",
     "text": [
      "Clipping input data to the valid range for imshow with RGB data ([0..1] for floats or [0..255] for integers).\n",
      "Clipping input data to the valid range for imshow with RGB data ([0..1] for floats or [0..255] for integers).\n",
      "Clipping input data to the valid range for imshow with RGB data ([0..1] for floats or [0..255] for integers).\n",
      "Clipping input data to the valid range for imshow with RGB data ([0..1] for floats or [0..255] for integers).\n",
      "Clipping input data to the valid range for imshow with RGB data ([0..1] for floats or [0..255] for integers).\n",
      "Clipping input data to the valid range for imshow with RGB data ([0..1] for floats or [0..255] for integers).\n",
      "Clipping input data to the valid range for imshow with RGB data ([0..1] for floats or [0..255] for integers).\n",
      "Clipping input data to the valid range for imshow with RGB data ([0..1] for floats or [0..255] for integers).\n",
      "Clipping input data to the valid range for imshow with RGB data ([0..1] for floats or [0..255] for integers).\n",
      "Clipping input data to the valid range for imshow with RGB data ([0..1] for floats or [0..255] for integers).\n",
      "Clipping input data to the valid range for imshow with RGB data ([0..1] for floats or [0..255] for integers).\n",
      "Clipping input data to the valid range for imshow with RGB data ([0..1] for floats or [0..255] for integers).\n",
      "Clipping input data to the valid range for imshow with RGB data ([0..1] for floats or [0..255] for integers).\n",
      "Clipping input data to the valid range for imshow with RGB data ([0..1] for floats or [0..255] for integers).\n",
      "Clipping input data to the valid range for imshow with RGB data ([0..1] for floats or [0..255] for integers).\n",
      "Clipping input data to the valid range for imshow with RGB data ([0..1] for floats or [0..255] for integers).\n",
      "Clipping input data to the valid range for imshow with RGB data ([0..1] for floats or [0..255] for integers).\n",
      "Clipping input data to the valid range for imshow with RGB data ([0..1] for floats or [0..255] for integers).\n",
      "Clipping input data to the valid range for imshow with RGB data ([0..1] for floats or [0..255] for integers).\n",
      "Clipping input data to the valid range for imshow with RGB data ([0..1] for floats or [0..255] for integers).\n",
      "Clipping input data to the valid range for imshow with RGB data ([0..1] for floats or [0..255] for integers).\n",
      "Clipping input data to the valid range for imshow with RGB data ([0..1] for floats or [0..255] for integers).\n",
      "Clipping input data to the valid range for imshow with RGB data ([0..1] for floats or [0..255] for integers).\n",
      "Clipping input data to the valid range for imshow with RGB data ([0..1] for floats or [0..255] for integers).\n",
      "Clipping input data to the valid range for imshow with RGB data ([0..1] for floats or [0..255] for integers).\n"
     ]
    },
    {
     "name": "stdout",
     "output_type": "stream",
     "text": [
      "91 [D loss: 2.432249, acc.: 79.69%] [G loss: 28.245995]\n",
      "92 [D loss: 1.063697, acc.: 85.94%] [G loss: 32.224495]\n",
      "93 [D loss: 0.662255, acc.: 89.06%] [G loss: 26.486198]\n",
      "94 [D loss: 0.232100, acc.: 96.88%] [G loss: 32.463528]\n",
      "95 [D loss: 0.000127, acc.: 100.00%] [G loss: 22.219612]\n",
      "96 [D loss: 0.012904, acc.: 98.44%] [G loss: 11.536308]\n",
      "97 [D loss: 0.156468, acc.: 96.88%] [G loss: 8.264788]\n",
      "98 [D loss: 0.015230, acc.: 100.00%] [G loss: 12.456621]\n",
      "99 [D loss: 0.778640, acc.: 87.50%] [G loss: 12.696404]\n",
      "100 [D loss: 0.302186, acc.: 93.75%] [G loss: 19.639488]\n"
     ]
    },
    {
     "name": "stderr",
     "output_type": "stream",
     "text": [
      "Clipping input data to the valid range for imshow with RGB data ([0..1] for floats or [0..255] for integers).\n",
      "Clipping input data to the valid range for imshow with RGB data ([0..1] for floats or [0..255] for integers).\n",
      "Clipping input data to the valid range for imshow with RGB data ([0..1] for floats or [0..255] for integers).\n",
      "Clipping input data to the valid range for imshow with RGB data ([0..1] for floats or [0..255] for integers).\n",
      "Clipping input data to the valid range for imshow with RGB data ([0..1] for floats or [0..255] for integers).\n",
      "Clipping input data to the valid range for imshow with RGB data ([0..1] for floats or [0..255] for integers).\n",
      "Clipping input data to the valid range for imshow with RGB data ([0..1] for floats or [0..255] for integers).\n",
      "Clipping input data to the valid range for imshow with RGB data ([0..1] for floats or [0..255] for integers).\n",
      "Clipping input data to the valid range for imshow with RGB data ([0..1] for floats or [0..255] for integers).\n",
      "Clipping input data to the valid range for imshow with RGB data ([0..1] for floats or [0..255] for integers).\n",
      "Clipping input data to the valid range for imshow with RGB data ([0..1] for floats or [0..255] for integers).\n",
      "Clipping input data to the valid range for imshow with RGB data ([0..1] for floats or [0..255] for integers).\n",
      "Clipping input data to the valid range for imshow with RGB data ([0..1] for floats or [0..255] for integers).\n",
      "Clipping input data to the valid range for imshow with RGB data ([0..1] for floats or [0..255] for integers).\n",
      "Clipping input data to the valid range for imshow with RGB data ([0..1] for floats or [0..255] for integers).\n",
      "Clipping input data to the valid range for imshow with RGB data ([0..1] for floats or [0..255] for integers).\n",
      "Clipping input data to the valid range for imshow with RGB data ([0..1] for floats or [0..255] for integers).\n"
     ]
    },
    {
     "name": "stdout",
     "output_type": "stream",
     "text": [
      "101 [D loss: 0.001376, acc.: 100.00%] [G loss: 23.725319]\n",
      "102 [D loss: 0.259448, acc.: 96.88%] [G loss: 17.812960]\n",
      "103 [D loss: 0.000012, acc.: 100.00%] [G loss: 12.326567]\n",
      "104 [D loss: 0.000001, acc.: 100.00%] [G loss: 7.293158]\n",
      "105 [D loss: 0.000000, acc.: 100.00%] [G loss: 6.052065]\n",
      "106 [D loss: 0.662555, acc.: 98.44%] [G loss: 3.584484]\n",
      "107 [D loss: 0.000019, acc.: 100.00%] [G loss: 2.653490]\n",
      "108 [D loss: 0.016898, acc.: 98.44%] [G loss: 3.501758]\n",
      "109 [D loss: 0.000750, acc.: 100.00%] [G loss: 3.785210]\n",
      "110 [D loss: 0.141533, acc.: 98.44%] [G loss: 5.217544]\n"
     ]
    },
    {
     "name": "stderr",
     "output_type": "stream",
     "text": [
      "Clipping input data to the valid range for imshow with RGB data ([0..1] for floats or [0..255] for integers).\n",
      "Clipping input data to the valid range for imshow with RGB data ([0..1] for floats or [0..255] for integers).\n",
      "Clipping input data to the valid range for imshow with RGB data ([0..1] for floats or [0..255] for integers).\n",
      "Clipping input data to the valid range for imshow with RGB data ([0..1] for floats or [0..255] for integers).\n",
      "Clipping input data to the valid range for imshow with RGB data ([0..1] for floats or [0..255] for integers).\n",
      "Clipping input data to the valid range for imshow with RGB data ([0..1] for floats or [0..255] for integers).\n",
      "Clipping input data to the valid range for imshow with RGB data ([0..1] for floats or [0..255] for integers).\n"
     ]
    },
    {
     "name": "stdout",
     "output_type": "stream",
     "text": [
      "111 [D loss: 0.000000, acc.: 100.00%] [G loss: 7.297214]\n",
      "112 [D loss: 0.000000, acc.: 100.00%] [G loss: 7.001784]\n",
      "113 [D loss: 0.000000, acc.: 100.00%] [G loss: 5.204408]\n",
      "114 [D loss: 0.000000, acc.: 100.00%] [G loss: 5.740834]\n",
      "115 [D loss: 0.000000, acc.: 100.00%] [G loss: 6.511913]\n",
      "116 [D loss: 0.000000, acc.: 100.00%] [G loss: 5.619686]\n",
      "117 [D loss: 0.000000, acc.: 100.00%] [G loss: 6.266606]\n",
      "118 [D loss: 0.000000, acc.: 100.00%] [G loss: 4.753176]\n",
      "119 [D loss: 0.000000, acc.: 100.00%] [G loss: 5.846490]\n",
      "120 [D loss: 0.000000, acc.: 100.00%] [G loss: 3.545375]\n"
     ]
    },
    {
     "name": "stderr",
     "output_type": "stream",
     "text": [
      "Clipping input data to the valid range for imshow with RGB data ([0..1] for floats or [0..255] for integers).\n",
      "Clipping input data to the valid range for imshow with RGB data ([0..1] for floats or [0..255] for integers).\n",
      "Clipping input data to the valid range for imshow with RGB data ([0..1] for floats or [0..255] for integers).\n",
      "Clipping input data to the valid range for imshow with RGB data ([0..1] for floats or [0..255] for integers).\n",
      "Clipping input data to the valid range for imshow with RGB data ([0..1] for floats or [0..255] for integers).\n",
      "Clipping input data to the valid range for imshow with RGB data ([0..1] for floats or [0..255] for integers).\n",
      "Clipping input data to the valid range for imshow with RGB data ([0..1] for floats or [0..255] for integers).\n",
      "Clipping input data to the valid range for imshow with RGB data ([0..1] for floats or [0..255] for integers).\n",
      "Clipping input data to the valid range for imshow with RGB data ([0..1] for floats or [0..255] for integers).\n",
      "Clipping input data to the valid range for imshow with RGB data ([0..1] for floats or [0..255] for integers).\n",
      "Clipping input data to the valid range for imshow with RGB data ([0..1] for floats or [0..255] for integers).\n",
      "Clipping input data to the valid range for imshow with RGB data ([0..1] for floats or [0..255] for integers).\n",
      "Clipping input data to the valid range for imshow with RGB data ([0..1] for floats or [0..255] for integers).\n",
      "Clipping input data to the valid range for imshow with RGB data ([0..1] for floats or [0..255] for integers).\n",
      "Clipping input data to the valid range for imshow with RGB data ([0..1] for floats or [0..255] for integers).\n"
     ]
    },
    {
     "name": "stdout",
     "output_type": "stream",
     "text": [
      "121 [D loss: 0.000000, acc.: 100.00%] [G loss: 3.533702]\n",
      "122 [D loss: 0.000000, acc.: 100.00%] [G loss: 3.884969]\n",
      "123 [D loss: 0.000000, acc.: 100.00%] [G loss: 3.872355]\n",
      "124 [D loss: 0.000000, acc.: 100.00%] [G loss: 4.515270]\n",
      "125 [D loss: 0.000000, acc.: 100.00%] [G loss: 3.044568]\n",
      "126 [D loss: 0.000000, acc.: 100.00%] [G loss: 3.168888]\n",
      "127 [D loss: 0.000000, acc.: 100.00%] [G loss: 3.240569]\n",
      "128 [D loss: 0.000000, acc.: 100.00%] [G loss: 3.494497]\n",
      "129 [D loss: 0.000000, acc.: 100.00%] [G loss: 3.584859]\n",
      "130 [D loss: 0.000000, acc.: 100.00%] [G loss: 2.826555]\n"
     ]
    },
    {
     "name": "stderr",
     "output_type": "stream",
     "text": [
      "Clipping input data to the valid range for imshow with RGB data ([0..1] for floats or [0..255] for integers).\n",
      "Clipping input data to the valid range for imshow with RGB data ([0..1] for floats or [0..255] for integers).\n",
      "Clipping input data to the valid range for imshow with RGB data ([0..1] for floats or [0..255] for integers).\n",
      "Clipping input data to the valid range for imshow with RGB data ([0..1] for floats or [0..255] for integers).\n",
      "Clipping input data to the valid range for imshow with RGB data ([0..1] for floats or [0..255] for integers).\n",
      "Clipping input data to the valid range for imshow with RGB data ([0..1] for floats or [0..255] for integers).\n",
      "Clipping input data to the valid range for imshow with RGB data ([0..1] for floats or [0..255] for integers).\n",
      "Clipping input data to the valid range for imshow with RGB data ([0..1] for floats or [0..255] for integers).\n",
      "Clipping input data to the valid range for imshow with RGB data ([0..1] for floats or [0..255] for integers).\n",
      "Clipping input data to the valid range for imshow with RGB data ([0..1] for floats or [0..255] for integers).\n",
      "Clipping input data to the valid range for imshow with RGB data ([0..1] for floats or [0..255] for integers).\n",
      "Clipping input data to the valid range for imshow with RGB data ([0..1] for floats or [0..255] for integers).\n",
      "Clipping input data to the valid range for imshow with RGB data ([0..1] for floats or [0..255] for integers).\n",
      "Clipping input data to the valid range for imshow with RGB data ([0..1] for floats or [0..255] for integers).\n",
      "Clipping input data to the valid range for imshow with RGB data ([0..1] for floats or [0..255] for integers).\n",
      "Clipping input data to the valid range for imshow with RGB data ([0..1] for floats or [0..255] for integers).\n"
     ]
    },
    {
     "name": "stdout",
     "output_type": "stream",
     "text": [
      "131 [D loss: 0.000000, acc.: 100.00%] [G loss: 2.512338]\n",
      "132 [D loss: 0.000000, acc.: 100.00%] [G loss: 2.943636]\n",
      "133 [D loss: 0.000000, acc.: 100.00%] [G loss: 2.253546]\n",
      "134 [D loss: 0.000000, acc.: 100.00%] [G loss: 3.678298]\n",
      "135 [D loss: 0.000000, acc.: 100.00%] [G loss: 3.249187]\n",
      "136 [D loss: 0.000000, acc.: 100.00%] [G loss: 2.839847]\n",
      "137 [D loss: 0.000000, acc.: 100.00%] [G loss: 3.499727]\n",
      "138 [D loss: 0.000000, acc.: 100.00%] [G loss: 2.608736]\n",
      "139 [D loss: 0.000000, acc.: 100.00%] [G loss: 1.888561]\n",
      "140 [D loss: 0.000000, acc.: 100.00%] [G loss: 2.453422]\n"
     ]
    },
    {
     "name": "stderr",
     "output_type": "stream",
     "text": [
      "Clipping input data to the valid range for imshow with RGB data ([0..1] for floats or [0..255] for integers).\n",
      "Clipping input data to the valid range for imshow with RGB data ([0..1] for floats or [0..255] for integers).\n",
      "Clipping input data to the valid range for imshow with RGB data ([0..1] for floats or [0..255] for integers).\n",
      "Clipping input data to the valid range for imshow with RGB data ([0..1] for floats or [0..255] for integers).\n",
      "Clipping input data to the valid range for imshow with RGB data ([0..1] for floats or [0..255] for integers).\n",
      "Clipping input data to the valid range for imshow with RGB data ([0..1] for floats or [0..255] for integers).\n",
      "Clipping input data to the valid range for imshow with RGB data ([0..1] for floats or [0..255] for integers).\n",
      "Clipping input data to the valid range for imshow with RGB data ([0..1] for floats or [0..255] for integers).\n",
      "Clipping input data to the valid range for imshow with RGB data ([0..1] for floats or [0..255] for integers).\n",
      "Clipping input data to the valid range for imshow with RGB data ([0..1] for floats or [0..255] for integers).\n",
      "Clipping input data to the valid range for imshow with RGB data ([0..1] for floats or [0..255] for integers).\n",
      "Clipping input data to the valid range for imshow with RGB data ([0..1] for floats or [0..255] for integers).\n",
      "Clipping input data to the valid range for imshow with RGB data ([0..1] for floats or [0..255] for integers).\n",
      "Clipping input data to the valid range for imshow with RGB data ([0..1] for floats or [0..255] for integers).\n"
     ]
    },
    {
     "name": "stdout",
     "output_type": "stream",
     "text": [
      "141 [D loss: 0.000000, acc.: 100.00%] [G loss: 1.744456]\n",
      "142 [D loss: 0.000000, acc.: 100.00%] [G loss: 2.141011]\n",
      "143 [D loss: 0.000000, acc.: 100.00%] [G loss: 1.768498]\n",
      "144 [D loss: 0.000000, acc.: 100.00%] [G loss: 2.201191]\n",
      "145 [D loss: 0.000000, acc.: 100.00%] [G loss: 0.838164]\n",
      "146 [D loss: 0.000000, acc.: 100.00%] [G loss: 1.722056]\n",
      "147 [D loss: 0.000000, acc.: 100.00%] [G loss: 1.784032]\n",
      "148 [D loss: 0.000000, acc.: 100.00%] [G loss: 1.772944]\n",
      "149 [D loss: 0.000000, acc.: 100.00%] [G loss: 1.095215]\n",
      "150 [D loss: 0.000000, acc.: 100.00%] [G loss: 1.603439]\n"
     ]
    },
    {
     "name": "stderr",
     "output_type": "stream",
     "text": [
      "Clipping input data to the valid range for imshow with RGB data ([0..1] for floats or [0..255] for integers).\n",
      "Clipping input data to the valid range for imshow with RGB data ([0..1] for floats or [0..255] for integers).\n",
      "Clipping input data to the valid range for imshow with RGB data ([0..1] for floats or [0..255] for integers).\n",
      "Clipping input data to the valid range for imshow with RGB data ([0..1] for floats or [0..255] for integers).\n",
      "Clipping input data to the valid range for imshow with RGB data ([0..1] for floats or [0..255] for integers).\n",
      "Clipping input data to the valid range for imshow with RGB data ([0..1] for floats or [0..255] for integers).\n",
      "Clipping input data to the valid range for imshow with RGB data ([0..1] for floats or [0..255] for integers).\n",
      "Clipping input data to the valid range for imshow with RGB data ([0..1] for floats or [0..255] for integers).\n",
      "Clipping input data to the valid range for imshow with RGB data ([0..1] for floats or [0..255] for integers).\n",
      "Clipping input data to the valid range for imshow with RGB data ([0..1] for floats or [0..255] for integers).\n",
      "Clipping input data to the valid range for imshow with RGB data ([0..1] for floats or [0..255] for integers).\n",
      "Clipping input data to the valid range for imshow with RGB data ([0..1] for floats or [0..255] for integers).\n",
      "Clipping input data to the valid range for imshow with RGB data ([0..1] for floats or [0..255] for integers).\n",
      "Clipping input data to the valid range for imshow with RGB data ([0..1] for floats or [0..255] for integers).\n",
      "Clipping input data to the valid range for imshow with RGB data ([0..1] for floats or [0..255] for integers).\n",
      "Clipping input data to the valid range for imshow with RGB data ([0..1] for floats or [0..255] for integers).\n",
      "Clipping input data to the valid range for imshow with RGB data ([0..1] for floats or [0..255] for integers).\n"
     ]
    },
    {
     "name": "stdout",
     "output_type": "stream",
     "text": [
      "151 [D loss: 0.000000, acc.: 100.00%] [G loss: 1.731507]\n",
      "152 [D loss: 0.000000, acc.: 100.00%] [G loss: 1.665480]\n",
      "153 [D loss: 0.000000, acc.: 100.00%] [G loss: 0.965928]\n",
      "154 [D loss: 0.000000, acc.: 100.00%] [G loss: 1.153154]\n",
      "155 [D loss: 0.000000, acc.: 100.00%] [G loss: 0.898763]\n",
      "156 [D loss: 0.000000, acc.: 100.00%] [G loss: 1.275993]\n",
      "157 [D loss: 0.000000, acc.: 100.00%] [G loss: 0.928349]\n",
      "158 [D loss: 0.000000, acc.: 100.00%] [G loss: 1.370377]\n",
      "159 [D loss: 0.000000, acc.: 100.00%] [G loss: 1.124482]\n",
      "160 [D loss: 0.000000, acc.: 100.00%] [G loss: 0.577217]\n"
     ]
    },
    {
     "name": "stderr",
     "output_type": "stream",
     "text": [
      "Clipping input data to the valid range for imshow with RGB data ([0..1] for floats or [0..255] for integers).\n",
      "Clipping input data to the valid range for imshow with RGB data ([0..1] for floats or [0..255] for integers).\n",
      "Clipping input data to the valid range for imshow with RGB data ([0..1] for floats or [0..255] for integers).\n",
      "Clipping input data to the valid range for imshow with RGB data ([0..1] for floats or [0..255] for integers).\n",
      "Clipping input data to the valid range for imshow with RGB data ([0..1] for floats or [0..255] for integers).\n",
      "Clipping input data to the valid range for imshow with RGB data ([0..1] for floats or [0..255] for integers).\n",
      "Clipping input data to the valid range for imshow with RGB data ([0..1] for floats or [0..255] for integers).\n",
      "Clipping input data to the valid range for imshow with RGB data ([0..1] for floats or [0..255] for integers).\n",
      "Clipping input data to the valid range for imshow with RGB data ([0..1] for floats or [0..255] for integers).\n",
      "Clipping input data to the valid range for imshow with RGB data ([0..1] for floats or [0..255] for integers).\n",
      "Clipping input data to the valid range for imshow with RGB data ([0..1] for floats or [0..255] for integers).\n",
      "Clipping input data to the valid range for imshow with RGB data ([0..1] for floats or [0..255] for integers).\n",
      "Clipping input data to the valid range for imshow with RGB data ([0..1] for floats or [0..255] for integers).\n",
      "Clipping input data to the valid range for imshow with RGB data ([0..1] for floats or [0..255] for integers).\n",
      "Clipping input data to the valid range for imshow with RGB data ([0..1] for floats or [0..255] for integers).\n",
      "Clipping input data to the valid range for imshow with RGB data ([0..1] for floats or [0..255] for integers).\n",
      "Clipping input data to the valid range for imshow with RGB data ([0..1] for floats or [0..255] for integers).\n"
     ]
    },
    {
     "name": "stdout",
     "output_type": "stream",
     "text": [
      "161 [D loss: 0.000000, acc.: 100.00%] [G loss: 0.920355]\n",
      "162 [D loss: 0.000000, acc.: 100.00%] [G loss: 0.824512]\n",
      "163 [D loss: 0.000000, acc.: 100.00%] [G loss: 1.197486]\n",
      "164 [D loss: 0.000000, acc.: 100.00%] [G loss: 0.684917]\n",
      "165 [D loss: 0.000000, acc.: 100.00%] [G loss: 0.491516]\n",
      "166 [D loss: 0.000000, acc.: 100.00%] [G loss: 0.689166]\n",
      "167 [D loss: 0.000000, acc.: 100.00%] [G loss: 0.532424]\n",
      "168 [D loss: 0.000000, acc.: 100.00%] [G loss: 0.692449]\n",
      "169 [D loss: 0.000000, acc.: 100.00%] [G loss: 0.262036]\n",
      "170 [D loss: 0.000000, acc.: 100.00%] [G loss: 0.436022]\n"
     ]
    },
    {
     "name": "stderr",
     "output_type": "stream",
     "text": [
      "Clipping input data to the valid range for imshow with RGB data ([0..1] for floats or [0..255] for integers).\n",
      "Clipping input data to the valid range for imshow with RGB data ([0..1] for floats or [0..255] for integers).\n",
      "Clipping input data to the valid range for imshow with RGB data ([0..1] for floats or [0..255] for integers).\n",
      "Clipping input data to the valid range for imshow with RGB data ([0..1] for floats or [0..255] for integers).\n",
      "Clipping input data to the valid range for imshow with RGB data ([0..1] for floats or [0..255] for integers).\n",
      "Clipping input data to the valid range for imshow with RGB data ([0..1] for floats or [0..255] for integers).\n",
      "Clipping input data to the valid range for imshow with RGB data ([0..1] for floats or [0..255] for integers).\n",
      "Clipping input data to the valid range for imshow with RGB data ([0..1] for floats or [0..255] for integers).\n",
      "Clipping input data to the valid range for imshow with RGB data ([0..1] for floats or [0..255] for integers).\n",
      "Clipping input data to the valid range for imshow with RGB data ([0..1] for floats or [0..255] for integers).\n",
      "Clipping input data to the valid range for imshow with RGB data ([0..1] for floats or [0..255] for integers).\n",
      "Clipping input data to the valid range for imshow with RGB data ([0..1] for floats or [0..255] for integers).\n",
      "Clipping input data to the valid range for imshow with RGB data ([0..1] for floats or [0..255] for integers).\n",
      "Clipping input data to the valid range for imshow with RGB data ([0..1] for floats or [0..255] for integers).\n",
      "Clipping input data to the valid range for imshow with RGB data ([0..1] for floats or [0..255] for integers).\n",
      "Clipping input data to the valid range for imshow with RGB data ([0..1] for floats or [0..255] for integers).\n",
      "Clipping input data to the valid range for imshow with RGB data ([0..1] for floats or [0..255] for integers).\n",
      "Clipping input data to the valid range for imshow with RGB data ([0..1] for floats or [0..255] for integers).\n",
      "Clipping input data to the valid range for imshow with RGB data ([0..1] for floats or [0..255] for integers).\n",
      "Clipping input data to the valid range for imshow with RGB data ([0..1] for floats or [0..255] for integers).\n"
     ]
    },
    {
     "name": "stdout",
     "output_type": "stream",
     "text": [
      "171 [D loss: 0.000000, acc.: 100.00%] [G loss: 0.881950]\n",
      "172 [D loss: 0.000000, acc.: 100.00%] [G loss: 0.363534]\n",
      "173 [D loss: 0.000000, acc.: 100.00%] [G loss: 0.542283]\n",
      "174 [D loss: 0.000000, acc.: 100.00%] [G loss: 0.288742]\n",
      "175 [D loss: 0.000000, acc.: 100.00%] [G loss: 0.567726]\n",
      "176 [D loss: 0.000000, acc.: 100.00%] [G loss: 0.417239]\n",
      "177 [D loss: 0.000000, acc.: 100.00%] [G loss: 0.208421]\n",
      "178 [D loss: 0.000000, acc.: 100.00%] [G loss: 0.499375]\n",
      "179 [D loss: 0.000000, acc.: 100.00%] [G loss: 0.214038]\n",
      "180 [D loss: 0.000000, acc.: 100.00%] [G loss: 0.291008]\n"
     ]
    },
    {
     "name": "stderr",
     "output_type": "stream",
     "text": [
      "Clipping input data to the valid range for imshow with RGB data ([0..1] for floats or [0..255] for integers).\n",
      "Clipping input data to the valid range for imshow with RGB data ([0..1] for floats or [0..255] for integers).\n",
      "Clipping input data to the valid range for imshow with RGB data ([0..1] for floats or [0..255] for integers).\n",
      "Clipping input data to the valid range for imshow with RGB data ([0..1] for floats or [0..255] for integers).\n",
      "Clipping input data to the valid range for imshow with RGB data ([0..1] for floats or [0..255] for integers).\n",
      "Clipping input data to the valid range for imshow with RGB data ([0..1] for floats or [0..255] for integers).\n",
      "Clipping input data to the valid range for imshow with RGB data ([0..1] for floats or [0..255] for integers).\n",
      "Clipping input data to the valid range for imshow with RGB data ([0..1] for floats or [0..255] for integers).\n",
      "Clipping input data to the valid range for imshow with RGB data ([0..1] for floats or [0..255] for integers).\n",
      "Clipping input data to the valid range for imshow with RGB data ([0..1] for floats or [0..255] for integers).\n",
      "Clipping input data to the valid range for imshow with RGB data ([0..1] for floats or [0..255] for integers).\n",
      "Clipping input data to the valid range for imshow with RGB data ([0..1] for floats or [0..255] for integers).\n",
      "Clipping input data to the valid range for imshow with RGB data ([0..1] for floats or [0..255] for integers).\n",
      "Clipping input data to the valid range for imshow with RGB data ([0..1] for floats or [0..255] for integers).\n",
      "Clipping input data to the valid range for imshow with RGB data ([0..1] for floats or [0..255] for integers).\n",
      "Clipping input data to the valid range for imshow with RGB data ([0..1] for floats or [0..255] for integers).\n",
      "Clipping input data to the valid range for imshow with RGB data ([0..1] for floats or [0..255] for integers).\n",
      "Clipping input data to the valid range for imshow with RGB data ([0..1] for floats or [0..255] for integers).\n",
      "Clipping input data to the valid range for imshow with RGB data ([0..1] for floats or [0..255] for integers).\n",
      "Clipping input data to the valid range for imshow with RGB data ([0..1] for floats or [0..255] for integers).\n",
      "Clipping input data to the valid range for imshow with RGB data ([0..1] for floats or [0..255] for integers).\n"
     ]
    },
    {
     "name": "stdout",
     "output_type": "stream",
     "text": [
      "181 [D loss: 0.000000, acc.: 100.00%] [G loss: 0.267475]\n",
      "182 [D loss: 0.000000, acc.: 100.00%] [G loss: 0.251761]\n",
      "183 [D loss: 0.000000, acc.: 100.00%] [G loss: 0.211951]\n",
      "184 [D loss: 0.000000, acc.: 100.00%] [G loss: 0.216434]\n",
      "185 [D loss: 0.000000, acc.: 100.00%] [G loss: 0.219476]\n",
      "186 [D loss: 0.000000, acc.: 100.00%] [G loss: 0.310981]\n",
      "187 [D loss: 0.000000, acc.: 100.00%] [G loss: 0.484789]\n",
      "188 [D loss: 0.000000, acc.: 100.00%] [G loss: 0.152138]\n",
      "189 [D loss: 0.000000, acc.: 100.00%] [G loss: 0.176350]\n",
      "190 [D loss: 0.000000, acc.: 100.00%] [G loss: 0.238950]\n"
     ]
    },
    {
     "name": "stderr",
     "output_type": "stream",
     "text": [
      "Clipping input data to the valid range for imshow with RGB data ([0..1] for floats or [0..255] for integers).\n",
      "Clipping input data to the valid range for imshow with RGB data ([0..1] for floats or [0..255] for integers).\n",
      "Clipping input data to the valid range for imshow with RGB data ([0..1] for floats or [0..255] for integers).\n",
      "Clipping input data to the valid range for imshow with RGB data ([0..1] for floats or [0..255] for integers).\n",
      "Clipping input data to the valid range for imshow with RGB data ([0..1] for floats or [0..255] for integers).\n",
      "Clipping input data to the valid range for imshow with RGB data ([0..1] for floats or [0..255] for integers).\n",
      "Clipping input data to the valid range for imshow with RGB data ([0..1] for floats or [0..255] for integers).\n",
      "Clipping input data to the valid range for imshow with RGB data ([0..1] for floats or [0..255] for integers).\n",
      "Clipping input data to the valid range for imshow with RGB data ([0..1] for floats or [0..255] for integers).\n",
      "Clipping input data to the valid range for imshow with RGB data ([0..1] for floats or [0..255] for integers).\n",
      "Clipping input data to the valid range for imshow with RGB data ([0..1] for floats or [0..255] for integers).\n",
      "Clipping input data to the valid range for imshow with RGB data ([0..1] for floats or [0..255] for integers).\n",
      "Clipping input data to the valid range for imshow with RGB data ([0..1] for floats or [0..255] for integers).\n",
      "Clipping input data to the valid range for imshow with RGB data ([0..1] for floats or [0..255] for integers).\n",
      "Clipping input data to the valid range for imshow with RGB data ([0..1] for floats or [0..255] for integers).\n",
      "Clipping input data to the valid range for imshow with RGB data ([0..1] for floats or [0..255] for integers).\n",
      "Clipping input data to the valid range for imshow with RGB data ([0..1] for floats or [0..255] for integers).\n"
     ]
    },
    {
     "name": "stdout",
     "output_type": "stream",
     "text": [
      "191 [D loss: 0.000000, acc.: 100.00%] [G loss: 0.077013]\n",
      "192 [D loss: 0.000000, acc.: 100.00%] [G loss: 0.052653]\n",
      "193 [D loss: 0.000000, acc.: 100.00%] [G loss: 0.277782]\n",
      "194 [D loss: 0.000000, acc.: 100.00%] [G loss: 0.300877]\n",
      "195 [D loss: 0.000000, acc.: 100.00%] [G loss: 0.368660]\n",
      "196 [D loss: 0.000000, acc.: 100.00%] [G loss: 0.256081]\n",
      "197 [D loss: 0.000000, acc.: 100.00%] [G loss: 0.360539]\n",
      "198 [D loss: 0.000000, acc.: 100.00%] [G loss: 0.256899]\n",
      "199 [D loss: 0.000000, acc.: 100.00%] [G loss: 0.339535]\n"
     ]
    }
   ],
   "source": [
    "training(epochs=200, batch_size = 64, save_interval=10)"
   ]
  },
  {
   "cell_type": "code",
   "execution_count": 141,
   "metadata": {},
   "outputs": [
    {
     "data": {
      "image/png": "[encoded data removed]",
      "text/plain": [
       "<Figure size 432x288 with 1 Axes>"
      ]
     },
     "metadata": {
      "needs_background": "light"
     },
     "output_type": "display_data"
    }
   ],
   "source": [
    "# plotting the metrics\n",
    "plt.plot(des_loss)\n",
    "plt.plot(gen_loss)\n",
    "plt.title('Model loss')\n",
    "plt.ylabel('Loss')\n",
    "plt.xlabel('Epoch')\n",
    "plt.legend(['Discriminator', 'Generator'], loc='center right')\n",
    "plt.show()"
   ]
  },
  {
   "cell_type": "code",
   "execution_count": 142,
   "metadata": {},
   "outputs": [
    {
     "name": "stderr",
     "output_type": "stream",
     "text": [
      "Clipping input data to the valid range for imshow with RGB data ([0..1] for floats or [0..255] for integers).\n"
     ]
    },
    {
     "name": "stdout",
     "output_type": "stream",
     "text": [
      "[[0.99029255]]\n"
     ]
    },
    {
     "data": {
      "image/png": "[encoded data removed]",
      "text/plain": [
       "<Figure size 432x288 with 1 Axes>"
      ]
     },
     "metadata": {
      "needs_background": "light"
     },
     "output_type": "display_data"
    }
   ],
   "source": [
    "import matplotlib.pyplot as plt\n",
    "noise = np.random.normal(0, 1, (1,100))\n",
    "#print(noise)\n",
    "gan_img = generator.predict(noise)\n",
    "print(discriminator.predict(gan_img))\n",
    "img = 0.5*gan_img[0] + 0.5\n",
    "plt.imshow(img)\n",
    "#plt.imshow(gan_img)\n",
    "plt.show()"
   ]
  },
  {
   "cell_type": "code",
   "execution_count": null,
   "metadata": {},
   "outputs": [],
   "source": []
  },
  {
   "cell_type": "code",
   "execution_count": null,
   "metadata": {},
   "outputs": [],
   "source": []
  },
  {
   "cell_type": "markdown",
   "metadata": {},
   "source": [
    "# Conclusion"
   ]
  },
  {
   "cell_type": "markdown",
   "metadata": {},
   "source": [
    "Explain how the GAN works. Did this GAN work well. Why or why not? Which hyperparameters are most important? Why? Back up your reasoning with data.                                                                                         \n",
    "\n",
    "Working of GAN explained above along with the code.   \n",
    "\n",
    "For all the above models, important hyperparameters varied (trial and error approach) are learning rate (0.003,0.0008,0.0002) , beta(exponential decay rate - 0.5), number of epochs (50,100,200), batch size (64,128,256), momentum (0.8,0.9), alpha values (0.25,0.3), dropout rate (0.25,03).\n",
    "\n",
    "Model 1 for 50 epochs  with hyperparameters - learning rate - 0.0002, momentum - 0.8, beta_1 = 0.5, batch_size = 64, alpha - 0.25, dropout rate - 0.25  was the pictures seemed still blurry and not clear compared to the Model 2 and model 3. My GAN did not work so well compared to the other two models either with respect to the images clarity or the generator and discriminator's loss\n",
    "\n",
    "Model 2 for 100 epochs with momentum = 0.9, alpha = 0.3 and also using adam optimizer with learning rate = 0.003, beta_1(exponential decay rate) = 0.5, dropout rate = 0.25, maximum number of epochs = 100. The pictures still seems blurry and not clear compared to the Model 3. My GAN did not work so well compared to the other two models. But comparitively works better with generator and discriminator loss since it is the trade off between each other as the discriminator loss is not completely converging to zero compared to Model 3 although the image is bit clear and not blurry compared to model 3.\n",
    "\n",
    "Model 3 for 200 epochs with varying hyperparameters learning rate - 0.0008, alpha = 0.3 and momentum = 0.8 with dropout rate in both generator and discriminator with a value of 0.3, batch_size = 64, maximum number of epochs = 200. The pictures still seems still blurry but way better compared to the other two Models. So far on manually inspecting the quality of images model 3 looks best compared to the other two models. Model 3 was generated keeping in mind the problems with the other two models such as increasing the epoch size for more training required to generate fake images, generated image looks still noisy so changing drop out rate to 0.3, varying hyperparameter values to produce better images to be passed on to the discriminator.\n",
    "\n",
    "\n"
   ]
  },
  {
   "cell_type": "markdown",
   "metadata": {},
   "source": [
    "# Readme"
   ]
  },
  {
   "cell_type": "markdown",
   "metadata": {},
   "source": [
    "Install Python version>= 3.6 and tensorflow using \"pip install tensorflow\", to install PILLOW ==> \"pip install pillow\" with these installations and the jupyter notebook one should be able to run this file."
   ]
  },
  {
   "cell_type": "markdown",
   "metadata": {},
   "source": [
    "# Citations"
   ]
  },
  {
   "cell_type": "markdown",
   "metadata": {},
   "source": [
    "1. https://towardsdatascience.com/understanding-and-optimizing-gans-going-back-to-first-principles-e5df8835ae18\n",
    "2. https://towardsdatascience.com/gan-by-example-using-keras-on-tensorflow-backend-1a6d515a60d0\n",
    "3. https://towardsdatascience.com/writing-your-first-generative-adversarial-network-with-keras-2d16fd8d4889\n",
    "4. https://towardsdatascience.com/gan-ways-to-improve-gan-performance-acf37f9f59b\n",
    "5. https://medium.com/coinmonks/celebrity-face-generation-using-gans-tensorflow-implementation-eaa2001eef86\n",
    "6.https://github.com/nikbearbrown/INFO_7390/blob/master/Deep_Learning/Generative_Models/Generative%20Adversarial%20Networks%20Tutorial.ipynb\n",
    "7. https://machinelearningmastery.com/adam-optimization-algorithm-for-deep-learning/"
   ]
  },
  {
   "cell_type": "markdown",
   "metadata": {},
   "source": [
    "# Contributions"
   ]
  },
  {
   "cell_type": "markdown",
   "metadata": {},
   "source": [
    "Individual Contribution - 20%                                                                       \n",
    "\n",
    "External References - 80%"
   ]
  },
  {
   "cell_type": "markdown",
   "metadata": {},
   "source": [
    "# License"
   ]
  },
  {
   "cell_type": "markdown",
   "metadata": {},
   "source": [
    "Copyright 2020, Chaitanya Prasanna Kumar\n",
    "\n",
    "Permission is hereby granted, free of charge, to any person obtaining a copy of this software and associated documentation files (the \"Software\"), to deal in the Software without restriction, including without limitation the rights to use, copy, modify, merge, publish, distribute, sublicense, and/or sell copies of the Software, and to permit persons to whom the Software is furnished to do so, subject to the following conditions:\n",
    "\n",
    "The above copyright notice and this permission notice shall be included in all copies or substantial portions of the Software.\n",
    "\n",
    "THE SOFTWARE IS PROVIDED \"AS IS\", WITHOUT WARRANTY OF ANY KIND, EXPRESS OR IMPLIED, INCLUDING BUT NOT LIMITED TO THE WARRANTIES OF MERCHANTABILITY, FITNESS FOR A PARTICULAR PURPOSE AND NONINFRINGEMENT. IN NO EVENT SHALL THE AUTHORS OR COPYRIGHT HOLDERS BE LIABLE FOR ANY CLAIM, DAMAGES OR OTHER LIABILITY, WHETHER IN AN ACTION OF CONTRACT, TORT OR OTHERWISE, ARISING FROM, OUT OF OR IN CONNECTION WITH THE SOFTWARE OR THE USE OR OTHER DEALINGS IN THE SOFTWARE."
   ]
  },
  {
   "cell_type": "code",
   "execution_count": null,
   "metadata": {},
   "outputs": [],
   "source": []
  }
 ],
 "metadata": {
  "kernelspec": {
   "display_name": "Python 3",
   "language": "python",
   "name": "python3"
  },
  "language_info": {
   "codemirror_mode": {
    "name": "ipython",
    "version": 3
   },
   "file_extension": ".py",
   "mimetype": "text/x-python",
   "name": "python",
   "nbconvert_exporter": "python",
   "pygments_lexer": "ipython3",
   "version": "3.7.7"
  }
 },
 "nbformat": 4,
 "nbformat_minor": 2
}
