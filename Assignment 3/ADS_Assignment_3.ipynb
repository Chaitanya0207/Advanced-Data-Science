{
 "cells": [
  {
   "cell_type": "markdown",
   "metadata": {},
   "source": [
    "# The Simpsons Character - Image Classification"
   ]
  },
  {
   "cell_type": "markdown",
   "metadata": {},
   "source": [
    "# Abstract"
   ]
  },
  {
   "cell_type": "markdown",
   "metadata": {},
   "source": [
    "The convolutional neural network (CNN) is a class of deep learning neural networks. CNNs represent a huge breakthrough in image recognition. They're most commonly used to analyze visual imagery and are frequently working behind the scenes in image classification. CNN or ConvNet are complex feed forward neural network used for image classification and recognition because of its high accuracy. "
   ]
  },
  {
   "cell_type": "markdown",
   "metadata": {},
   "source": [
    "### Dataset"
   ]
  },
  {
   "cell_type": "markdown",
   "metadata": {},
   "source": [
    "The Simpsons Character Classification consists of 42 characters with 9099 images on the whole in the training dataset and the test set consists of 990 images. \n",
    "Link - https://www.kaggle.com/alexattia/the-simpsons-characters-dataset/kernels?sortBy=voteCount&group=everyone&pageSize=20&datasetId=1408\n",
    "It consists of characters such as 'abraham_grampa_simpson','agnes_skinner','apu_nahasapeemapetilon','barney_gumble','bart_simpson','carl_carlson',\n",
    "              'charles_montgomery_burns','chief_wiggum','cletus_spuckler','comic_book_guy', 'disco_stu',\n",
    "              'edna_krabappel','fat_tony','gil','groundskeeper_willie', 'homer_simpson','kent_brockman','krusty_the_clown',\n",
    "              'lenny_leonard','lionel_hutz','lisa_simpson','maggie_simpson','marge_simpson','martin_prince',\n",
    "              'mayor_quimby','milhouse_van_houten','moe_szyslak','ned_flanders','nelson_muntz',\n",
    "              'otto_mann','patty_bouvier','principal_skinner','professor_john_frink','rainier_wolfcastle','ralph_wiggum',\n",
    "              'selma_bouvier','sideshow_bob','sideshow_mel','snake_jailbird','troy_mcclure','waylon_smithers'"
   ]
  },
  {
   "cell_type": "markdown",
   "metadata": {},
   "source": [
    "# Data Preparation"
   ]
  },
  {
   "cell_type": "code",
   "execution_count": 1,
   "metadata": {},
   "outputs": [
    {
     "name": "stderr",
     "output_type": "stream",
     "text": [
      "\n",
      "Bad key \"text.kerning_factor\" on line 4 in\n",
      "C:\\Users\\chait\\Anaconda3\\lib\\site-packages\\matplotlib\\mpl-data\\stylelib\\_classic_test_patch.mplstyle.\n",
      "You probably need to get an updated matplotlibrc file from\n",
      "https://github.com/matplotlib/matplotlib/blob/v3.1.3/matplotlibrc.template\n",
      "or from the matplotlib source distribution\n"
     ]
    }
   ],
   "source": [
    "import os #to iterate through directories\n",
    "import random\n",
    "import numpy as np  #array operations\n",
    "import matplotlib.pyplot as plt\n",
    "import matplotlib.patches as patches\n",
    "from matplotlib.font_manager import FontProperties\n",
    "import scipy.misc\n",
    "#import cv2 #to perform various image operations\n",
    "%matplotlib inline\n",
    "\n",
    "np.random.seed(2)\n",
    "from sklearn.model_selection import train_test_split\n",
    "import itertools\n",
    "import tensorflow as tf\n",
    "from tensorflow.python.framework import ops\n",
    "ops.reset_default_graph()\n",
    "from tensorflow.keras import backend\n",
    "#from keras.utils.np_utils import to_categorical # convert to one-hot-encoding\n",
    "from tensorflow.keras.models import Sequential\n",
    "from tensorflow.keras.layers import Dense, Dropout, Activation, Flatten, Conv2D, MaxPooling2D, BatchNormalization\n",
    "from tensorflow.keras.callbacks import ModelCheckpoint, Callback, EarlyStopping\n",
    "\n",
    "from tensorflow.keras.optimizers import SGD\n",
    "from tensorflow.keras import metrics\n",
    "from tensorflow.keras.optimizers import RMSprop\n",
    "from tensorflow.keras.utils import to_categorical\n",
    "from tensorflow.keras.preprocessing.image import ImageDataGenerator\n",
    "from tensorflow.keras.callbacks import ReduceLROnPlateau, ModelCheckpoint\n",
    "from tensorflow.keras.models import model_from_json\n",
    "\n",
    "import warnings\n",
    "\n",
    "warnings.filterwarnings('ignore')"
   ]
  },
  {
   "cell_type": "code",
   "execution_count": 2,
   "metadata": {},
   "outputs": [],
   "source": [
    "dict_characters = {0: 'abraham_grampa_simpson', 1: 'agnes_skinner', 2: 'apu_nahasapeemapetilon', 3: 'barney_gumble', \n",
    "4: 'bart_simpson', 5: 'carl_carlson', 6:  'charles_montgomery_burns', 7: 'chief_wiggum', 8: 'cletus_spuckler',9: 'comic_book_guy', \n",
    "10: 'disco_stu', 11: 'edna_krabappel', 12: 'fat_tony', 13: 'gil', 14: 'groundskeeper_willie', 15: 'homer_simpson',\n",
    "16: 'kent_brockman', 17: 'krusty_the_clown', 18: 'lenny_leonard', 19: 'lionel_hutz', 20: 'lisa_simpson', 21: 'maggie_simpson',\n",
    "22: 'marge_simpson', 23: 'martin_prince', 24: 'mayor_quimby', 25: 'milhouse_van_houten', 26: 'miss_hoover', 27: 'moe_szyslak',\n",
    "28: 'ned_flanders', 29: 'nelson_muntz', 30: 'otto_mann',31: 'patty_bouvier',32: 'principal_skinner',\n",
    "33: 'professor_john_frink', 34: 'rainier_wolfcastle', 35: 'ralph_wiggum', 36: 'selma_bouvier', 37: 'sideshow_bob',\n",
    "38: 'sideshow_mel', 39: 'snake_jailbird', 40: 'troy_mcclure', 41: 'waylon_smithers' }"
   ]
  },
  {
   "cell_type": "code",
   "execution_count": 3,
   "metadata": {},
   "outputs": [],
   "source": [
    "img_size = 64"
   ]
  },
  {
   "cell_type": "code",
   "execution_count": 4,
   "metadata": {},
   "outputs": [],
   "source": [
    "from os import listdir\n",
    "directory_name = \"C:/Python/.ipynb_checkpoints/simpsons_dataset\""
   ]
  },
  {
   "cell_type": "code",
   "execution_count": 5,
   "metadata": {},
   "outputs": [],
   "source": [
    "def load_train_set(dirname,dict_characters):\n",
    "   X = []\n",
    "   y = []\n",
    "   training_data = []\n",
    "   for label,character in dict_characters.items():\n",
    "       list_images = os.listdir(dirname+'/'+character)\n",
    "       for image_name in list_images[0:400]:\n",
    "           image = scipy.misc.imread(dirname+'/'+character+'/'+image_name)\n",
    "           new_image = scipy.misc.imresize(image,(img_size,img_size),interp='lanczos')\n",
    "           X.append(scipy.misc.imresize(image,(img_size,img_size),interp='lanczos'))\n",
    "           y.append(label)\n",
    "           training_data.append([np.array(new_image),np.array(label)])\n",
    "   return np.array(X), np.array(y), np.array(training_data)\n",
    "X, y, data  = load_train_set(\"C:/Python/.ipynb_checkpoints/simpsons_dataset\", dict_characters) "
   ]
  },
  {
   "cell_type": "code",
   "execution_count": 6,
   "metadata": {},
   "outputs": [
    {
     "name": "stdout",
     "output_type": "stream",
     "text": [
      "9099\n"
     ]
    }
   ],
   "source": [
    "print(len(data))"
   ]
  },
  {
   "cell_type": "markdown",
   "metadata": {},
   "source": [
    "### Shuffling the train data --"
   ]
  },
  {
   "cell_type": "code",
   "execution_count": 7,
   "metadata": {},
   "outputs": [],
   "source": [
    "import random\n",
    "random.shuffle(data)"
   ]
  },
  {
   "cell_type": "code",
   "execution_count": 8,
   "metadata": {},
   "outputs": [],
   "source": [
    "img_size = 64\n",
    "X1 = []\n",
    "y1 = []\n",
    "for X,y in data:\n",
    "    X1.append(X)\n",
    "    y1.append(y)\n",
    "    \n",
    "X1 = np.array(X1).reshape(-1,img_size, img_size, 3)\n",
    "y1 = np.array(y1)"
   ]
  },
  {
   "cell_type": "code",
   "execution_count": 9,
   "metadata": {},
   "outputs": [
    {
     "name": "stdout",
     "output_type": "stream",
     "text": [
      "(9099, 64, 64, 3)\n",
      "(9099,)\n"
     ]
    }
   ],
   "source": [
    "print(X1.shape)\n",
    "print(y1.shape)"
   ]
  },
  {
   "cell_type": "code",
   "execution_count": null,
   "metadata": {},
   "outputs": [],
   "source": []
  },
  {
   "cell_type": "markdown",
   "metadata": {},
   "source": [
    "### Train-test split"
   ]
  },
  {
   "cell_type": "code",
   "execution_count": 10,
   "metadata": {
    "scrolled": true
   },
   "outputs": [
    {
     "name": "stdout",
     "output_type": "stream",
     "text": [
      "(7279, 64, 64, 3) (7279,)\n",
      "(1820, 64, 64, 3) (1820,)\n"
     ]
    }
   ],
   "source": [
    "from sklearn.model_selection import train_test_split\n",
    "X_train,X_test,y_train,y_test = train_test_split(X1,y1,test_size=0.20, random_state=123)\n",
    "print(X_train.shape,y_train.shape)\n",
    "print(X_test.shape,y_test.shape)"
   ]
  },
  {
   "cell_type": "code",
   "execution_count": 11,
   "metadata": {},
   "outputs": [
    {
     "name": "stdout",
     "output_type": "stream",
     "text": [
      "Training Data Shape: (7279, 64, 64, 3) (7279, 64, 64, 3)\n",
      "Testing Data Shape: (1820, 64, 64, 3) (1820, 64, 64, 3)\n",
      "(7279, 42)\n",
      "(7279, 64, 64, 3)\n"
     ]
    }
   ],
   "source": [
    "print(\"Training Data Shape:\", X_train.shape, X_train.shape)\n",
    "print(\"Testing Data Shape:\", X_test.shape, X_test.shape)\n",
    "\n",
    "# convert class vectors to binary class matrices\n",
    "y_train = to_categorical(y_train, num_classes = len(dict_characters))\n",
    "y_test = to_categorical(y_test, num_classes = len(dict_characters))\n",
    "\n",
    "\n",
    "print(y_train.shape)\n",
    "print(X_train.shape)"
   ]
  },
  {
   "cell_type": "code",
   "execution_count": 12,
   "metadata": {
    "scrolled": true
   },
   "outputs": [],
   "source": [
    "# Normalize the data\n",
    "X_train = X_train / 255.0\n",
    "X_test = X_test / 255.0"
   ]
  },
  {
   "cell_type": "code",
   "execution_count": 13,
   "metadata": {
    "scrolled": false
   },
   "outputs": [
    {
     "name": "stdout",
     "output_type": "stream",
     "text": [
      "7279 1820 (64, 64, 3) (42,)\n"
     ]
    }
   ],
   "source": [
    "print(X_train.shape[0],X_test.shape[0],X_test.shape[1:4], y_test.shape[1:4])"
   ]
  },
  {
   "cell_type": "code",
   "execution_count": 14,
   "metadata": {},
   "outputs": [
    {
     "data": {
      "text/plain": [
       "<matplotlib.image.AxesImage at 0x208bdb7e1c8>"
      ]
     },
     "execution_count": 14,
     "metadata": {},
     "output_type": "execute_result"
    },
    {
     "data": {
      "image/png": "[encoded data removed]",
      "text/plain": [
       "<Figure size 432x288 with 1 Axes>"
      ]
     },
     "metadata": {
      "needs_background": "light"
     },
     "output_type": "display_data"
    }
   ],
   "source": [
    "import matplotlib.pyplot as plt\n",
    "plt.imshow(X_train[130], cmap = 'gist_gray')"
   ]
  },
  {
   "cell_type": "markdown",
   "metadata": {},
   "source": [
    "# Data Augmentation"
   ]
  },
  {
   "cell_type": "markdown",
   "metadata": {},
   "source": [
    "Data Augmentation - Image data augmentation is a technique that can be used to artificially expand the size of a training dataset by creating modified versions of images in the dataset.It is a strategy that enables practitioners to significantly increase the diversity of data available for training models, without actually collecting new data. Data augmentation techniques such as cropping, padding, and horizontal flipping are commonly used to train large neural networks.It is a step taken to prevent overfitting in a Neural network."
   ]
  },
  {
   "cell_type": "code",
   "execution_count": 15,
   "metadata": {},
   "outputs": [],
   "source": [
    "# Data augmentation - rotate, zoom and shift input images.\n",
    "generator = ImageDataGenerator(\n",
    "        featurewise_center=False,  # set input mean to 0 over the dataset\n",
    "        samplewise_center=False,  # set each sample mean to 0\n",
    "        featurewise_std_normalization=False,  # divide inputs by std of the dataset\n",
    "        samplewise_std_normalization=False,  # divide each input by its std\n",
    "        zca_whitening=False,  # apply ZCA whitening\n",
    "        rotation_range=180,  # randomly rotate images in the range (degrees, 0 to 180)\n",
    "        zoom_range = 0.1, # Randomly zoom image \n",
    "        width_shift_range=0.5,  # randomly shift images horizontally (fraction of total width)\n",
    "        height_shift_range=0.5,  # randomly shift images vertically (fraction of total height)\n",
    "        horizontal_flip=True,  # randomly flip images\n",
    "        vertical_flip=True)  # randomly flip images"
   ]
  },
  {
   "cell_type": "code",
   "execution_count": 16,
   "metadata": {},
   "outputs": [],
   "source": [
    "generator.fit(X_train)"
   ]
  },
  {
   "cell_type": "code",
   "execution_count": 18,
   "metadata": {},
   "outputs": [
    {
     "data": {
      "text/plain": [
       "(7279, 64, 64, 3)"
      ]
     },
     "execution_count": 18,
     "metadata": {},
     "output_type": "execute_result"
    }
   ],
   "source": [
    "X_train.shape"
   ]
  },
  {
   "cell_type": "markdown",
   "metadata": {},
   "source": [
    "\n",
    "# Create and train CNN"
   ]
  },
  {
   "cell_type": "code",
   "execution_count": 666,
   "metadata": {},
   "outputs": [],
   "source": [
    "img_rows, img_cols = img_size,img_size\n",
    "input_shape = (img_rows, img_cols,3)\n",
    "batch_size = 32\n",
    "num_classes = len(dict_characters)\n",
    "epochs = 8"
   ]
  },
  {
   "cell_type": "markdown",
   "metadata": {},
   "source": [
    "## Part A - Model 1"
   ]
  },
  {
   "cell_type": "markdown",
   "metadata": {},
   "source": [
    "The convolutional neural network i.e., model 1 has 3 convolution layers followed by 3 Max pooling layers of pooling size = (2,2) with Batch Normalisation before every convolution layer.\n",
    "\n",
    "The first layer of this sequential model is the convolution layer which takes 64,64 images as input and the Kernel size is set to (3,3) along with kernel initializer set to he_normal.\n",
    "The last layer of this model employs a softmax function to output the probabilities of the 42 classes.\n",
    "This model employs two fully connected layers one of which is the output layer with softmax.\n",
    "All the layers use the ReLU activation function.\n",
    "Just before the output layer, a dropout(20%) is used to avoid overfitting of data in the model."
   ]
  },
  {
   "cell_type": "code",
   "execution_count": 667,
   "metadata": {},
   "outputs": [],
   "source": [
    "#Creating an object of Sequential class\n",
    "model1 = tf.keras.models.Sequential()\n",
    "# Add convolution 2D\n",
    "model1.add(Conv2D(32, kernel_size = (3, 3), activation='relu',kernel_initializer = 'he_normal',\n",
    "                  input_shape=(img_size, img_size, 3)))\n",
    "model1.add(MaxPooling2D(pool_size=(2,2)))\n",
    "model1.add(BatchNormalization())\n",
    "\n",
    "model1.add(Conv2D(64, kernel_size=(3, 3),activation='relu'))\n",
    "model1.add(MaxPooling2D(pool_size=(2, 2)))\n",
    "model1.add(BatchNormalization())\n",
    "\n",
    "model1.add(Conv2D(64, kernel_size=(3, 3),activation='relu'))\n",
    "model1.add(MaxPooling2D(pool_size=(2, 2)))\n",
    "model1.add(BatchNormalization())\n",
    "\n",
    "model1.add(Dropout(0.2))\n",
    "model1.add(Flatten())\n",
    "model1.add(Dense(128, activation='relu'))\n",
    "model1.add(Dense(num_classes, activation='softmax'))"
   ]
  },
  {
   "cell_type": "markdown",
   "metadata": {},
   "source": [
    "For model 1, the Stochastic Descent Gradient i.e., SGD optimizer is used.\n",
    "Categorical Crossentropy is used to calculate the loss of the model while training and categorical accuracy gives the training accuracy at every epoch.\n",
    "The model is trained for 8 epochs with the training data and a batch size of 32 and the loss and accuracy are calculated at every epoch.                                    \n",
    "\n",
    "Stochastic Descent Gradient- Includes support for momentum, learning rate decay, and Nesterov momentum.\n",
    "Momentum takes past gradients into account to smooth out the steps of gradient descent. It can be applied with batch gradient descent, mini-batch gradient descent or stochastic gradient descent. The learning rate is a hyper parameter that controls how much to change the model in response to the estimated error each time the model weights are updated.Momentum and Nesterov Momentum (also called Nesterov Accelerated Gradient/NAG) are slight variations of normal gradient descent that can speed up training and improve convergence significantly.\n",
    "\n",
    "Crossentropy is the default loss function used for multi class classification.Cross-entropy will calculate a score that summarizes the average difference between the actual and predicted probability distributions for all classes in the problem. The score is minimized and a perfect cross-entropy value is 0. Cross-entropy can be specified as the loss function in Keras by specifying ‘categorical_crossentropy‘ when compiling the model."
   ]
  },
  {
   "cell_type": "code",
   "execution_count": 668,
   "metadata": {},
   "outputs": [
    {
     "name": "stdout",
     "output_type": "stream",
     "text": [
      "Train on 7279 samples, validate on 1820 samples\n",
      "Epoch 1/8\n",
      "7279/7279 [==============================] - 54s 7ms/sample - loss: 1.6981 - categorical_accuracy: 0.5850 - val_loss: 1.5172 - val_categorical_accuracy: 0.6022\n",
      "Epoch 2/8\n",
      "7279/7279 [==============================] - 65s 9ms/sample - loss: 0.7142 - categorical_accuracy: 0.8044 - val_loss: 0.8238 - val_categorical_accuracy: 0.7780\n",
      "Epoch 3/8\n",
      "7279/7279 [==============================] - 64s 9ms/sample - loss: 0.3816 - categorical_accuracy: 0.8934 - val_loss: 0.9190 - val_categorical_accuracy: 0.7736\n",
      "Epoch 4/8\n",
      "7279/7279 [==============================] - 66s 9ms/sample - loss: 0.1979 - categorical_accuracy: 0.9434 - val_loss: 0.6302 - val_categorical_accuracy: 0.8665\n",
      "Epoch 5/8\n",
      "7279/7279 [==============================] - 64s 9ms/sample - loss: 0.1133 - categorical_accuracy: 0.9679 - val_loss: 0.5398 - val_categorical_accuracy: 0.8934\n",
      "Epoch 6/8\n",
      "7279/7279 [==============================] - 64s 9ms/sample - loss: 0.0595 - categorical_accuracy: 0.9835 - val_loss: 0.6246 - val_categorical_accuracy: 0.8852\n",
      "Epoch 7/8\n",
      "7279/7279 [==============================] - 65s 9ms/sample - loss: 0.0394 - categorical_accuracy: 0.9887 - val_loss: 0.5651 - val_categorical_accuracy: 0.8912\n",
      "Epoch 8/8\n",
      "7279/7279 [==============================] - 68s 9ms/sample - loss: 0.0251 - categorical_accuracy: 0.9949 - val_loss: 0.5165 - val_categorical_accuracy: 0.8995\n"
     ]
    }
   ],
   "source": [
    "sgd = tf.keras.optimizers.SGD(lr=0.01, decay=1e-6, momentum=0.9, nesterov=True)\n",
    "model1.compile(loss=tf.keras.losses.categorical_crossentropy,metrics = [metrics.categorical_accuracy], optimizer=sgd)\n",
    "result1 = model1.fit(X_train, y_train,batch_size=batch_size,verbose=1,epochs=epochs,validation_data=(X_test,y_test))"
   ]
  },
  {
   "cell_type": "code",
   "execution_count": 675,
   "metadata": {
    "scrolled": true
   },
   "outputs": [
    {
     "name": "stdout",
     "output_type": "stream",
     "text": [
      "Model: \"sequential\"\n",
      "_________________________________________________________________\n",
      "Layer (type)                 Output Shape              Param #   \n",
      "=================================================================\n",
      "conv2d (Conv2D)              (None, 62, 62, 32)        896       \n",
      "_________________________________________________________________\n",
      "max_pooling2d (MaxPooling2D) (None, 31, 31, 32)        0         \n",
      "_________________________________________________________________\n",
      "batch_normalization (BatchNo (None, 31, 31, 32)        128       \n",
      "_________________________________________________________________\n",
      "conv2d_1 (Conv2D)            (None, 29, 29, 64)        18496     \n",
      "_________________________________________________________________\n",
      "max_pooling2d_1 (MaxPooling2 (None, 14, 14, 64)        0         \n",
      "_________________________________________________________________\n",
      "batch_normalization_1 (Batch (None, 14, 14, 64)        256       \n",
      "_________________________________________________________________\n",
      "conv2d_2 (Conv2D)            (None, 12, 12, 64)        36928     \n",
      "_________________________________________________________________\n",
      "max_pooling2d_2 (MaxPooling2 (None, 6, 6, 64)          0         \n",
      "_________________________________________________________________\n",
      "batch_normalization_2 (Batch (None, 6, 6, 64)          256       \n",
      "_________________________________________________________________\n",
      "dropout (Dropout)            (None, 6, 6, 64)          0         \n",
      "_________________________________________________________________\n",
      "flatten (Flatten)            (None, 2304)              0         \n",
      "_________________________________________________________________\n",
      "dense (Dense)                (None, 128)               295040    \n",
      "_________________________________________________________________\n",
      "dense_1 (Dense)              (None, 42)                5418      \n",
      "=================================================================\n",
      "Total params: 357,418\n",
      "Trainable params: 357,098\n",
      "Non-trainable params: 320\n",
      "_________________________________________________________________\n"
     ]
    }
   ],
   "source": [
    "model1.summary()"
   ]
  },
  {
   "cell_type": "code",
   "execution_count": 676,
   "metadata": {},
   "outputs": [
    {
     "name": "stdout",
     "output_type": "stream",
     "text": [
      "1820/1820 [==============================] - 2s 1ms/sample - loss: 0.5165 - categorical_accuracy: 0.8995\n",
      "0.5165281082861699 0.89945054\n"
     ]
    }
   ],
   "source": [
    "loss, accuracy = model1.evaluate(X_test, y_test, batch_size=32)\n",
    "print(loss, accuracy)"
   ]
  },
  {
   "cell_type": "markdown",
   "metadata": {},
   "source": [
    "The accuracy of this model is 89.9% for the above mentioned layers and parameters with a loss of 0.516."
   ]
  },
  {
   "cell_type": "code",
   "execution_count": 677,
   "metadata": {},
   "outputs": [],
   "source": [
    "CATEGORIES = ['abraham_grampa_simpson','agnes_skinner','apu_nahasapeemapetilon','barney_gumble','bart_simpson','carl_carlson',\n",
    "              'charles_montgomery_burns','chief_wiggum','cletus_spuckler','comic_book_guy', 'disco_stu',\n",
    "              'edna_krabappel','fat_tony','gil','groundskeeper_willie', 'homer_simpson','kent_brockman','krusty_the_clown',\n",
    "              'lenny_leonard','lionel_hutz','lisa_simpson','maggie_simpson','marge_simpson','martin_prince',\n",
    "              'mayor_quimby','milhouse_van_houten','moe_szyslak','ned_flanders','nelson_muntz',\n",
    "              'otto_mann','patty_bouvier','principal_skinner','professor_john_frink','rainier_wolfcastle','ralph_wiggum',\n",
    "              'selma_bouvier','sideshow_bob','sideshow_mel','snake_jailbird','troy_mcclure','waylon_smithers']"
   ]
  },
  {
   "cell_type": "markdown",
   "metadata": {},
   "source": [
    "### Making Predictions on out of sample data"
   ]
  },
  {
   "cell_type": "code",
   "execution_count": 678,
   "metadata": {},
   "outputs": [
    {
     "name": "stdout",
     "output_type": "stream",
     "text": [
      "[[0. 0. 0. 0. 0. 0. 0. 0. 0. 0. 0. 0. 0. 0. 0. 0. 0. 1. 0. 0. 0. 0. 0. 0.\n",
      "  0. 0. 0. 0. 0. 0. 0. 0. 0. 0. 0. 0. 0. 0. 0. 0. 0. 0.]]\n"
     ]
    }
   ],
   "source": [
    "import cv2\n",
    "def prepare(filepath):\n",
    "    img_size = 64\n",
    "    img_array=cv2.imread(filepath)\n",
    "    new_array = cv2.resize(img_array,(img_size,img_size))\n",
    "    return new_array.reshape(-1,img_size,img_size,3)\n",
    "\n",
    "pred1 = model1.predict(prepare(\"C:/Python/.ipynb_checkpoints/kaggle_simpson_testset/simpson_dataset/lisa_simpson_34.jpg\"))\n",
    "print(pred)"
   ]
  },
  {
   "cell_type": "code",
   "execution_count": 679,
   "metadata": {},
   "outputs": [
    {
     "name": "stdout",
     "output_type": "stream",
     "text": [
      "abraham_grampa_simpson\n"
     ]
    }
   ],
   "source": [
    "pred = model1.predict(prepare(\"C:/Python/.ipynb_checkpoints/kaggle_simpson_testset/simpson_dataset/abraham_grampa_simpson_34.jpg\"))\n",
    "print(CATEGORIES[int(pred1[0][0])])"
   ]
  },
  {
   "cell_type": "code",
   "execution_count": 680,
   "metadata": {},
   "outputs": [
    {
     "name": "stdout",
     "output_type": "stream",
     "text": [
      "abraham_grampa_simpson\n"
     ]
    }
   ],
   "source": [
    "pred2 = model1.predict(prepare(\"C:/Python/.ipynb_checkpoints/kaggle_simpson_testset/simpson_dataset/marge_simpson_5.jpg\"))\n",
    "print(CATEGORIES[int(pred2[0][0])])"
   ]
  },
  {
   "cell_type": "markdown",
   "metadata": {},
   "source": [
    "Abraham_grampa_simpson is being correctly predicted but where as merge_simpson is not being correctly predicted. Further  Modifying the layers, activation functions, network_architecture, network initializers, etc to properly train the model."
   ]
  },
  {
   "cell_type": "code",
   "execution_count": null,
   "metadata": {},
   "outputs": [],
   "source": []
  },
  {
   "cell_type": "code",
   "execution_count": null,
   "metadata": {},
   "outputs": [],
   "source": []
  },
  {
   "cell_type": "markdown",
   "metadata": {},
   "source": [
    "# Part B - Activation function\n",
    "### Model2 "
   ]
  },
  {
   "cell_type": "markdown",
   "metadata": {},
   "source": [
    "Same as Model 1 but changing the activation function to Elu.\n",
    "Exponential Linear Unit or its widely known name ELU is a function that tend to converge cost to zero faster and produce more accurate results. Different to other activation functions, ELU has a extra alpha constant which should be positive number.\n",
    "\n",
    "ELU is very similiar to RELU except negative inputs. They are both in identity function form for non-negative inputs. On the other hand, ELU becomes smooth slowly until its output equal to -α whereas RELU sharply smoothes. Softmax function is used for a Classification problem to compute the probabilites for the classes"
   ]
  },
  {
   "cell_type": "code",
   "execution_count": 681,
   "metadata": {},
   "outputs": [],
   "source": [
    "#Creating an object of Sequential class\n",
    "model2 = tf.keras.models.Sequential()\n",
    "# Add convolution 2D\n",
    "model2.add(Conv2D(32, kernel_size = (3, 3), activation='elu',kernel_initializer = 'he_normal' ,\n",
    "                  input_shape=(img_size, img_size, 3)))\n",
    "model2.add(MaxPooling2D(pool_size=(2,2)))\n",
    "model2.add(BatchNormalization())\n",
    "\n",
    "model2.add(Conv2D(64, kernel_size=(3, 3),activation='elu'))\n",
    "model2.add(MaxPooling2D(pool_size=(2, 2)))\n",
    "model2.add(BatchNormalization())\n",
    "\n",
    "model2.add(Conv2D(64, kernel_size=(3, 3),activation='elu'))\n",
    "model2.add(MaxPooling2D(pool_size=(2, 2)))\n",
    "model2.add(BatchNormalization())\n",
    "\n",
    "model2.add(Dropout(0.2))\n",
    "model2.add(Flatten())\n",
    "model2.add(Dense(128, activation='elu'))\n",
    "model2.add(Dense(num_classes, activation='softmax'))"
   ]
  },
  {
   "cell_type": "code",
   "execution_count": 682,
   "metadata": {
    "scrolled": true
   },
   "outputs": [
    {
     "name": "stdout",
     "output_type": "stream",
     "text": [
      "Train on 7279 samples, validate on 1820 samples\n",
      "Epoch 1/8\n",
      "7279/7279 [==============================] - 67s 9ms/sample - loss: 1.8936 - categorical_accuracy: 0.5373 - val_loss: 1.5050 - val_categorical_accuracy: 0.5874\n",
      "Epoch 2/8\n",
      "7279/7279 [==============================] - 74s 10ms/sample - loss: 0.8677 - categorical_accuracy: 0.7660 - val_loss: 0.8527 - val_categorical_accuracy: 0.7907\n",
      "Epoch 3/8\n",
      "7279/7279 [==============================] - 80s 11ms/sample - loss: 0.5011 - categorical_accuracy: 0.8637 - val_loss: 0.7501 - val_categorical_accuracy: 0.8225\n",
      "Epoch 4/8\n",
      "7279/7279 [==============================] - 69s 10ms/sample - loss: 0.3031 - categorical_accuracy: 0.9156 - val_loss: 0.6279 - val_categorical_accuracy: 0.8538\n",
      "Epoch 5/8\n",
      "7279/7279 [==============================] - 70s 10ms/sample - loss: 0.1796 - categorical_accuracy: 0.9456 - val_loss: 0.6065 - val_categorical_accuracy: 0.8780\n",
      "Epoch 6/8\n",
      "7279/7279 [==============================] - 70s 10ms/sample - loss: 0.0989 - categorical_accuracy: 0.9722 - val_loss: 0.5993 - val_categorical_accuracy: 0.8874\n",
      "Epoch 7/8\n",
      "7279/7279 [==============================] - 73s 10ms/sample - loss: 0.0605 - categorical_accuracy: 0.9841 - val_loss: 0.6352 - val_categorical_accuracy: 0.8802\n",
      "Epoch 8/8\n",
      "7279/7279 [==============================] - 85s 12ms/sample - loss: 0.0446 - categorical_accuracy: 0.9893 - val_loss: 0.5993 - val_categorical_accuracy: 0.8929\n"
     ]
    }
   ],
   "source": [
    "sgd = tf.keras.optimizers.SGD(lr=0.01, decay=1e-6, momentum=0.9, nesterov=True)\n",
    "model2.compile(loss=tf.keras.losses.categorical_crossentropy,metrics = [metrics.categorical_accuracy], optimizer=sgd)\n",
    "result2 = model2.fit(X_train, y_train,batch_size=batch_size,verbose=1,epochs=epochs,validation_data=(X_test,y_test))"
   ]
  },
  {
   "cell_type": "code",
   "execution_count": 683,
   "metadata": {},
   "outputs": [
    {
     "name": "stdout",
     "output_type": "stream",
     "text": [
      "1820/1820 [==============================] - 3s 2ms/sample - loss: 0.5993 - categorical_accuracy: 0.8929\n",
      "0.5992832878461251 0.89285713\n"
     ]
    }
   ],
   "source": [
    "loss, accuracy = model2.evaluate(X_test, y_test, batch_size=32)\n",
    "print(loss, accuracy)"
   ]
  },
  {
   "cell_type": "markdown",
   "metadata": {},
   "source": [
    "### Accuracy plot Model 1 vs Model 2"
   ]
  },
  {
   "cell_type": "code",
   "execution_count": 684,
   "metadata": {},
   "outputs": [
    {
     "data": {
      "image/png": "[encoded data removed]",
      "text/plain": [
       "<Figure size 432x288 with 2 Axes>"
      ]
     },
     "metadata": {
      "needs_background": "light"
     },
     "output_type": "display_data"
    }
   ],
   "source": [
    "\n",
    "fig, (ax1, ax2) = plt.subplots(2)\n",
    "fig.suptitle('Model 1 vs. Model 2')\n",
    "ax1.plot(result1.history['categorical_accuracy'])\n",
    "ax2.plot(result2.history['categorical_accuracy'])\n",
    "plt.title('model accuracy')\n",
    "plt.ylabel('categorical_accuracy')\n",
    "plt.xlabel('epoch')\n",
    "plt.legend(['train'], loc='upper left')\n",
    "plt.show()"
   ]
  },
  {
   "cell_type": "markdown",
   "metadata": {},
   "source": [
    "For the model 1, the training accuracy plot depicts how the training accuracy for model 1 increases with the number of epochs and reaches a plateau during the final epochs. This shows that model 1 reaches a desired accuracy within 8 epochs.\n",
    "\n",
    "Same as model 1, training accuracy plot for the model 2 increases with the number of epochs thereby reaching a stable accuracy within the 8 epochs."
   ]
  },
  {
   "cell_type": "markdown",
   "metadata": {},
   "source": [
    "### Loss Value Plot - Model 1 vs. Model 2"
   ]
  },
  {
   "cell_type": "code",
   "execution_count": 685,
   "metadata": {},
   "outputs": [
    {
     "data": {
      "image/png": "[encoded data removed]",
      "text/plain": [
       "<Figure size 432x288 with 2 Axes>"
      ]
     },
     "metadata": {
      "needs_background": "light"
     },
     "output_type": "display_data"
    }
   ],
   "source": [
    "fig, (ax1, ax2) = plt.subplots(2)\n",
    "fig.suptitle('Model 1 vs. Model 2')\n",
    "ax1.plot(result1.history['loss'])\n",
    "ax2.plot(result2.history['loss'])\n",
    "plt.title('model loss')\n",
    "plt.ylabel('loss')\n",
    "plt.xlabel('epoch')\n",
    "plt.legend(['train', 'test'], loc='upper left')\n",
    "plt.show()"
   ]
  },
  {
   "cell_type": "markdown",
   "metadata": {},
   "source": [
    "The loss value curves for model 1 stabilizes during the last few epochs of the entire duration of the training process same as  the loss value curves of the model 2 which plateaus during the entire training process."
   ]
  },
  {
   "cell_type": "markdown",
   "metadata": {},
   "source": [
    "\n",
    "Here, we see that changing activation function to elu decreases the accuracy to 89.2%, slight increase in loss = 0.599 as compared to the activation function relu and softmax which gave an accuracy of about 89.9% with loss function = 0.516 Hence, we make use of relu and softmax as activation function."
   ]
  },
  {
   "cell_type": "code",
   "execution_count": null,
   "metadata": {},
   "outputs": [],
   "source": []
  },
  {
   "cell_type": "code",
   "execution_count": null,
   "metadata": {},
   "outputs": [],
   "source": []
  },
  {
   "cell_type": "markdown",
   "metadata": {},
   "source": [
    "## Part C - Changing cost function to Kullback Leibler Divergence Loss"
   ]
  },
  {
   "cell_type": "markdown",
   "metadata": {},
   "source": [
    "KL Divergence, is a measure of how one probability distribution differs from a baseline distribution.\n",
    "\n",
    "A KL divergence loss of 0 suggests the distributions are identical. In practice, the behavior of KL Divergence is very similar to cross-entropy. It calculates how much information is lost (in terms of bits) if the predicted probability distribution is used to approximate the desired target probability distribution."
   ]
  },
  {
   "cell_type": "code",
   "execution_count": 686,
   "metadata": {},
   "outputs": [],
   "source": [
    "epochs = 8\n",
    "#Creating an object of Sequential class\n",
    "model = tf.keras.models.Sequential()\n",
    "# Add convolution 2D\n",
    "model.add(Conv2D(32, kernel_size = (3, 3), activation='relu',kernel_initializer = 'he_normal' ,\n",
    "                 input_shape=(img_size, img_size, 3)))\n",
    "model.add(MaxPooling2D(pool_size=(2,2)))\n",
    "model.add(BatchNormalization())\n",
    "\n",
    "model.add(Conv2D(64, kernel_size=(3, 3),activation='relu'))\n",
    "model.add(MaxPooling2D(pool_size=(2, 2)))\n",
    "model.add(BatchNormalization())\n",
    "\n",
    "model.add(Conv2D(64, kernel_size=(3, 3),activation='relu'))\n",
    "model.add(MaxPooling2D(pool_size=(2, 2)))\n",
    "model.add(BatchNormalization())\n",
    "\n",
    "model.add(Dropout(0.2))\n",
    "model.add(Flatten())\n",
    "model.add(Dense(128, activation='relu'))\n",
    "model.add(Dense(num_classes, activation='softmax'))"
   ]
  },
  {
   "cell_type": "code",
   "execution_count": 687,
   "metadata": {},
   "outputs": [
    {
     "name": "stdout",
     "output_type": "stream",
     "text": [
      "Train on 7279 samples, validate on 1820 samples\n",
      "Epoch 1/8\n",
      "7279/7279 [==============================] - 59s 8ms/sample - loss: 1.7111 - categorical_accuracy: 0.5740 - val_loss: 1.4292 - val_categorical_accuracy: 0.6236\n",
      "Epoch 2/8\n",
      "7279/7279 [==============================] - 60s 8ms/sample - loss: 0.7470 - categorical_accuracy: 0.7971 - val_loss: 0.7939 - val_categorical_accuracy: 0.7863\n",
      "Epoch 3/8\n",
      "7279/7279 [==============================] - 62s 9ms/sample - loss: 0.3838 - categorical_accuracy: 0.8950 - val_loss: 0.7436 - val_categorical_accuracy: 0.8044\n",
      "Epoch 4/8\n",
      "7279/7279 [==============================] - 58s 8ms/sample - loss: 0.2253 - categorical_accuracy: 0.9341 - val_loss: 0.6058 - val_categorical_accuracy: 0.8599\n",
      "Epoch 5/8\n",
      "7279/7279 [==============================] - 56s 8ms/sample - loss: 0.1180 - categorical_accuracy: 0.9685 - val_loss: 0.5490 - val_categorical_accuracy: 0.8863\n",
      "Epoch 6/8\n",
      "7279/7279 [==============================] - 57s 8ms/sample - loss: 0.0716 - categorical_accuracy: 0.9820 - val_loss: 0.5928 - val_categorical_accuracy: 0.8857\n",
      "Epoch 7/8\n",
      "7279/7279 [==============================] - 60s 8ms/sample - loss: 0.0534 - categorical_accuracy: 0.9871 - val_loss: 0.5768 - val_categorical_accuracy: 0.8879\n",
      "Epoch 8/8\n",
      "7279/7279 [==============================] - 56s 8ms/sample - loss: 0.0428 - categorical_accuracy: 0.9898 - val_loss: 0.5497 - val_categorical_accuracy: 0.8967\n"
     ]
    }
   ],
   "source": [
    "sgd = tf.keras.optimizers.SGD(lr=0.01, decay=1e-6, momentum=0.9, nesterov=True)\n",
    "model.compile(loss=tf.keras.losses.kullback_leibler_divergence,metrics = [metrics.categorical_accuracy], optimizer=sgd)\n",
    "res = model.fit(X_train, y_train,batch_size=batch_size,verbose=1,epochs=epochs,validation_data=(X_test,y_test))"
   ]
  },
  {
   "cell_type": "code",
   "execution_count": 688,
   "metadata": {},
   "outputs": [
    {
     "name": "stdout",
     "output_type": "stream",
     "text": [
      "1820/1820 [==============================] - 4s 2ms/sample - loss: 0.5497 - categorical_accuracy: 0.8967\n",
      "0.5497096499898931 0.8967033\n"
     ]
    }
   ],
   "source": [
    "loss, accuracy = model.evaluate(X_test, y_test, batch_size=32)\n",
    "print(loss, accuracy)"
   ]
  },
  {
   "cell_type": "markdown",
   "metadata": {},
   "source": [
    "Here, changing cost function to kullback_leibler_divergence leads to the test accuracy of 89.6% that is slightly lesser than the cross entropy cost function which was 89.9% . Now, let us use both kullback_leibler_divergence and cross entropy as our loss function and change the number of epochs to see its effect on the accuracy."
   ]
  },
  {
   "cell_type": "code",
   "execution_count": 696,
   "metadata": {},
   "outputs": [
    {
     "data": {
      "image/png": "[encoded data removed]",
      "text/plain": [
       "<Figure size 432x288 with 1 Axes>"
      ]
     },
     "metadata": {
      "needs_background": "light"
     },
     "output_type": "display_data"
    }
   ],
   "source": [
    "fig, (ax1) = plt.subplots(1)\n",
    "ax1.plot(res.history['loss'])\n",
    "plt.title('model loss')\n",
    "plt.ylabel('loss')\n",
    "plt.xlabel('epoch')\n",
    "plt.legend(['train', 'test'], loc='upper left')\n",
    "plt.show()"
   ]
  },
  {
   "cell_type": "code",
   "execution_count": 697,
   "metadata": {},
   "outputs": [
    {
     "data": {
      "image/png": "[encoded data removed]",
      "text/plain": [
       "<Figure size 432x288 with 1 Axes>"
      ]
     },
     "metadata": {
      "needs_background": "light"
     },
     "output_type": "display_data"
    }
   ],
   "source": [
    "fig, (ax1) = plt.subplots(1)\n",
    "ax1.plot(res.history['categorical_accuracy'])\n",
    "plt.title('model accuracy')\n",
    "plt.ylabel('categorical_accuracy')\n",
    "plt.xlabel('epoch')\n",
    "plt.legend(['train', 'test'], loc='upper left')\n",
    "plt.show()"
   ]
  },
  {
   "cell_type": "markdown",
   "metadata": {},
   "source": [
    "Both the accuracy and loss for this model on changing cost function to Kullback Leibler Divergence stabilises after a point of increasing with the number of epochs, but later will see if the effect remains the same after 10 epochs and also lets check if the cost function stabilises with Kullback Leibler Divergence or using cross entropy for 10 epochs."
   ]
  },
  {
   "cell_type": "code",
   "execution_count": null,
   "metadata": {},
   "outputs": [],
   "source": []
  },
  {
   "cell_type": "markdown",
   "metadata": {},
   "source": [
    "# PART D - Changing epochs to 10"
   ]
  },
  {
   "cell_type": "code",
   "execution_count": 691,
   "metadata": {},
   "outputs": [],
   "source": [
    "epochs = 10"
   ]
  },
  {
   "cell_type": "code",
   "execution_count": 692,
   "metadata": {},
   "outputs": [],
   "source": [
    "# Build and train CNN model\n",
    "#Creating an object of Sequential class\n",
    "model = tf.keras.models.Sequential()\n",
    "# Add convolution 2D\n",
    "model.add(Conv2D(32, kernel_size = (3, 3), activation='relu',kernel_initializer = 'he_normal' ,input_shape=(img_size, img_size, 3)))\n",
    "model.add(MaxPooling2D(pool_size=(2,2)))\n",
    "model.add(BatchNormalization())\n",
    "\n",
    "model.add(Conv2D(64, kernel_size=(3, 3),activation='relu'))\n",
    "model.add(MaxPooling2D(pool_size=(2, 2)))\n",
    "model.add(BatchNormalization())\n",
    "\n",
    "model.add(Conv2D(64, kernel_size=(3, 3),activation='relu'))\n",
    "model.add(MaxPooling2D(pool_size=(2, 2)))\n",
    "model.add(BatchNormalization())\n",
    "\n",
    "model.add(Dropout(0.2))\n",
    "model.add(Flatten())\n",
    "model.add(Dense(128, activation='relu'))\n",
    "model.add(Dense(num_classes, activation='softmax'))\n"
   ]
  },
  {
   "cell_type": "code",
   "execution_count": 693,
   "metadata": {},
   "outputs": [
    {
     "name": "stdout",
     "output_type": "stream",
     "text": [
      "Train on 7279 samples, validate on 1820 samples\n",
      "Epoch 1/10\n",
      "7279/7279 [==============================] - 61s 8ms/sample - loss: 1.7441 - categorical_accuracy: 0.5616 - val_loss: 1.7896 - val_categorical_accuracy: 0.4951\n",
      "Epoch 2/10\n",
      "7279/7279 [==============================] - 65s 9ms/sample - loss: 0.7470 - categorical_accuracy: 0.8008 - val_loss: 0.8754 - val_categorical_accuracy: 0.7676\n",
      "Epoch 3/10\n",
      "7279/7279 [==============================] - 58s 8ms/sample - loss: 0.3998 - categorical_accuracy: 0.8880 - val_loss: 0.6629 - val_categorical_accuracy: 0.8390\n",
      "Epoch 4/10\n",
      "7279/7279 [==============================] - 61s 8ms/sample - loss: 0.1938 - categorical_accuracy: 0.9457 - val_loss: 0.5923 - val_categorical_accuracy: 0.8775\n",
      "Epoch 5/10\n",
      "7279/7279 [==============================] - 59s 8ms/sample - loss: 0.1078 - categorical_accuracy: 0.9714 - val_loss: 0.5522 - val_categorical_accuracy: 0.8824\n",
      "Epoch 6/10\n",
      "7279/7279 [==============================] - 58s 8ms/sample - loss: 0.0734 - categorical_accuracy: 0.9794 - val_loss: 0.5578 - val_categorical_accuracy: 0.8813\n",
      "Epoch 7/10\n",
      "7279/7279 [==============================] - 60s 8ms/sample - loss: 0.0407 - categorical_accuracy: 0.9913 - val_loss: 0.5201 - val_categorical_accuracy: 0.8934\n",
      "Epoch 8/10\n",
      "7279/7279 [==============================] - 204s 28ms/sample - loss: 0.0210 - categorical_accuracy: 0.9955 - val_loss: 0.5688 - val_categorical_accuracy: 0.8852\n",
      "Epoch 9/10\n",
      "7279/7279 [==============================] - 61s 8ms/sample - loss: 0.0162 - categorical_accuracy: 0.9977 - val_loss: 0.5503 - val_categorical_accuracy: 0.8912\n",
      "Epoch 10/10\n",
      "7279/7279 [==============================] - 55s 8ms/sample - loss: 0.0211 - categorical_accuracy: 0.9953 - val_loss: 0.5386 - val_categorical_accuracy: 0.9060\n"
     ]
    }
   ],
   "source": [
    "sgd = tf.keras.optimizers.SGD(lr=0.01, decay=1e-6, momentum=0.9, nesterov=True)\n",
    "model.compile(loss=tf.keras.losses.categorical_crossentropy,metrics = [metrics.categorical_accuracy], \n",
    "              optimizer=sgd)\n",
    "res1 = model.fit(X_train, y_train,batch_size=batch_size,verbose=1,epochs=epochs,validation_data=(X_test,y_test))"
   ]
  },
  {
   "cell_type": "code",
   "execution_count": 694,
   "metadata": {},
   "outputs": [
    {
     "name": "stdout",
     "output_type": "stream",
     "text": [
      "1820/1820 [==============================] - 4s 2ms/sample - loss: 0.5386 - categorical_accuracy: 0.9060\n",
      "0.5386457592248917 0.90604395\n"
     ]
    }
   ],
   "source": [
    "loss, accuracy = model.evaluate(X_test, y_test, batch_size=32)\n",
    "print(loss, accuracy)"
   ]
  },
  {
   "cell_type": "code",
   "execution_count": 698,
   "metadata": {},
   "outputs": [],
   "source": [
    "# Build and train CNN model\n",
    "#Creating an object of Sequential class\n",
    "model = tf.keras.models.Sequential()\n",
    "# Add convolution 2D\n",
    "model.add(Conv2D(32, kernel_size = (3, 3), activation='relu',kernel_initializer = 'he_normal' ,input_shape=(img_size, img_size, 3)))\n",
    "model.add(MaxPooling2D(pool_size=(2,2)))\n",
    "model.add(BatchNormalization())\n",
    "\n",
    "model.add(Conv2D(64, kernel_size=(3, 3),activation='relu'))\n",
    "model.add(MaxPooling2D(pool_size=(2, 2)))\n",
    "model.add(BatchNormalization())\n",
    "\n",
    "model.add(Conv2D(64, kernel_size=(3, 3),activation='relu'))\n",
    "model.add(MaxPooling2D(pool_size=(2, 2)))\n",
    "model.add(BatchNormalization())\n",
    "\n",
    "model.add(Dropout(0.2))\n",
    "model.add(Flatten())\n",
    "model.add(Dense(128, activation='relu'))\n",
    "model.add(Dense(num_classes, activation='softmax'))\n"
   ]
  },
  {
   "cell_type": "code",
   "execution_count": 699,
   "metadata": {},
   "outputs": [
    {
     "name": "stdout",
     "output_type": "stream",
     "text": [
      "Train on 7279 samples, validate on 1820 samples\n",
      "Epoch 1/10\n",
      "7279/7279 [==============================] - 59s 8ms/sample - loss: 1.7218 - categorical_accuracy: 0.5631 - val_loss: 1.6460 - val_categorical_accuracy: 0.5571\n",
      "Epoch 2/10\n",
      "7279/7279 [==============================] - 54s 7ms/sample - loss: 0.7420 - categorical_accuracy: 0.7963 - val_loss: 0.8530 - val_categorical_accuracy: 0.7786\n",
      "Epoch 3/10\n",
      "7279/7279 [==============================] - 54s 7ms/sample - loss: 0.3771 - categorical_accuracy: 0.8920 - val_loss: 0.6764 - val_categorical_accuracy: 0.8396\n",
      "Epoch 4/10\n",
      "7279/7279 [==============================] - 56s 8ms/sample - loss: 0.2105 - categorical_accuracy: 0.9411 - val_loss: 0.6380 - val_categorical_accuracy: 0.8544\n",
      "Epoch 5/10\n",
      "7279/7279 [==============================] - 59s 8ms/sample - loss: 0.0997 - categorical_accuracy: 0.9738 - val_loss: 0.5546 - val_categorical_accuracy: 0.8863\n",
      "Epoch 6/10\n",
      "7279/7279 [==============================] - 54s 7ms/sample - loss: 0.0662 - categorical_accuracy: 0.9809 - val_loss: 0.7171 - val_categorical_accuracy: 0.8588\n",
      "Epoch 7/10\n",
      "7279/7279 [==============================] - 54s 7ms/sample - loss: 0.0436 - categorical_accuracy: 0.9896 - val_loss: 0.5300 - val_categorical_accuracy: 0.9022\n",
      "Epoch 8/10\n",
      "7279/7279 [==============================] - 56s 8ms/sample - loss: 0.0274 - categorical_accuracy: 0.9934 - val_loss: 0.5534 - val_categorical_accuracy: 0.8995\n",
      "Epoch 9/10\n",
      "7279/7279 [==============================] - 56s 8ms/sample - loss: 0.0173 - categorical_accuracy: 0.9970 - val_loss: 0.5673 - val_categorical_accuracy: 0.8995\n",
      "Epoch 10/10\n",
      "7279/7279 [==============================] - 58s 8ms/sample - loss: 0.0110 - categorical_accuracy: 0.9977 - val_loss: 0.5363 - val_categorical_accuracy: 0.9099\n"
     ]
    }
   ],
   "source": [
    "sgd = tf.keras.optimizers.SGD(lr=0.01, decay=1e-6, momentum=0.9, nesterov=True)\n",
    "model.compile(loss=tf.keras.losses.kullback_leibler_divergence,metrics = [metrics.categorical_accuracy], \n",
    "              optimizer=sgd)\n",
    "res_3 = model.fit(X_train, y_train,batch_size=batch_size,verbose=1,epochs=epochs,validation_data=(X_test,y_test))"
   ]
  },
  {
   "cell_type": "code",
   "execution_count": 700,
   "metadata": {},
   "outputs": [
    {
     "name": "stdout",
     "output_type": "stream",
     "text": [
      "1820/1820 [==============================] - 4s 2ms/sample - loss: 0.5363 - categorical_accuracy: 0.9099\n",
      "0.5363247164125954 0.9098901\n"
     ]
    }
   ],
   "source": [
    "loss, accuracy = model.evaluate(X_test, y_test, batch_size=32)\n",
    "print(loss, accuracy)"
   ]
  },
  {
   "cell_type": "markdown",
   "metadata": {},
   "source": [
    "On comparing both the models with cost function with catgeorical cross entropy and kullback_leibler_divergence for 10 epochs"
   ]
  },
  {
   "cell_type": "code",
   "execution_count": 701,
   "metadata": {},
   "outputs": [
    {
     "data": {
      "image/png": "[encoded data removed]",
      "text/plain": [
       "<Figure size 432x288 with 2 Axes>"
      ]
     },
     "metadata": {
      "needs_background": "light"
     },
     "output_type": "display_data"
    }
   ],
   "source": [
    "fig, (ax1, ax2) = plt.subplots(2)\n",
    "fig.suptitle('Model 1 vs. Model 2')\n",
    "ax1.plot(res1.history['loss'])\n",
    "ax2.plot(res_3.history['loss'])\n",
    "plt.title('model loss')\n",
    "plt.ylabel('loss')\n",
    "plt.xlabel('epoch')\n",
    "plt.legend(['train', 'test'], loc='upper left')\n",
    "plt.show()"
   ]
  },
  {
   "cell_type": "code",
   "execution_count": 702,
   "metadata": {},
   "outputs": [
    {
     "data": {
      "image/png": "[encoded data removed]",
      "text/plain": [
       "<Figure size 432x288 with 2 Axes>"
      ]
     },
     "metadata": {
      "needs_background": "light"
     },
     "output_type": "display_data"
    }
   ],
   "source": [
    "fig, (ax1, ax2) = plt.subplots(2)\n",
    "fig.suptitle('Model 1 vs. Model 2')\n",
    "ax1.plot(res1.history['categorical_accuracy'])\n",
    "ax2.plot(res_3.history['categorical_accuracy'])\n",
    "plt.title('model accuracy')\n",
    "plt.xlabel('epoch')\n",
    "plt.legend(['train', 'test'], loc='upper left')\n",
    "plt.show()"
   ]
  },
  {
   "cell_type": "markdown",
   "metadata": {},
   "source": [
    "Increasing the epochs to 10 with loss function as categorical_crossentropy resulted in loss of 0.538 and accuracy plateaus at 90.6% and same goes with kullback_leibler_divergence with accuracy of 90.9% and loss of 0.536 with not much difference in either of the models with 8 or 10 epochs as well as with different loss functions. Hence lets continue with 8 epochs and cost  function - cross_entropy as that of first model with closely similar accuracy of 89.9% and slightly lesser loss of 0.516 compared to the above models."
   ]
  },
  {
   "cell_type": "code",
   "execution_count": null,
   "metadata": {},
   "outputs": [],
   "source": []
  },
  {
   "cell_type": "markdown",
   "metadata": {},
   "source": [
    "# Part E : Changing Gradient Estimation to ADAM"
   ]
  },
  {
   "cell_type": "markdown",
   "metadata": {},
   "source": [
    "ADAM -  Adaptive Adaptive Moment Estimation (Adam) optimizer nearly always works better (faster and more reliably reaching a global minimum) when minimising the cost function in training neural nets. Adam can be looked at as a combination of RMSprop and Stochastic Gradient Descent with momentum. It uses the squared gradients to scale the learning rate like RMSprop and it takes advantage of momentum by using moving average of the gradient instead of gradient itself like SGD with momentum."
   ]
  },
  {
   "cell_type": "code",
   "execution_count": 705,
   "metadata": {},
   "outputs": [],
   "source": [
    "epochs = 8\n",
    "# Build and train CNN model\n",
    "#Creating an object of Sequential class\n",
    "model = tf.keras.models.Sequential()\n",
    "# Add convolution 2D\n",
    "model.add(Conv2D(32, kernel_size = (3, 3), activation='relu',kernel_initializer = 'he_normal' ,input_shape=(img_size, img_size, 3)))\n",
    "model.add(MaxPooling2D(pool_size=(2,2)))\n",
    "model.add(BatchNormalization())\n",
    "\n",
    "model.add(Conv2D(64, kernel_size=(3, 3),activation='relu'))\n",
    "model.add(MaxPooling2D(pool_size=(2, 2)))\n",
    "model.add(BatchNormalization())\n",
    "\n",
    "model.add(Conv2D(64, kernel_size=(3, 3),activation='relu'))\n",
    "model.add(MaxPooling2D(pool_size=(2, 2)))\n",
    "model.add(BatchNormalization())\n",
    "\n",
    "model.add(Dropout(0.2))\n",
    "model.add(Flatten())\n",
    "model.add(Dense(128, activation='relu'))\n",
    "model.add(Dense(num_classes, activation='softmax'))"
   ]
  },
  {
   "cell_type": "code",
   "execution_count": 706,
   "metadata": {},
   "outputs": [
    {
     "name": "stdout",
     "output_type": "stream",
     "text": [
      "Train on 7279 samples, validate on 1820 samples\n",
      "Epoch 1/8\n",
      "7279/7279 [==============================] - 62s 9ms/sample - loss: 2.5390 - categorical_accuracy: 0.4422 - val_loss: 1.8412 - val_categorical_accuracy: 0.5209\n",
      "Epoch 2/8\n",
      "7279/7279 [==============================] - 60s 8ms/sample - loss: 1.3791 - categorical_accuracy: 0.6405 - val_loss: 1.2608 - val_categorical_accuracy: 0.6797\n",
      "Epoch 3/8\n",
      "7279/7279 [==============================] - 54s 7ms/sample - loss: 0.9628 - categorical_accuracy: 0.7431 - val_loss: 1.0311 - val_categorical_accuracy: 0.7429\n",
      "Epoch 4/8\n",
      "7279/7279 [==============================] - 54s 7ms/sample - loss: 0.7125 - categorical_accuracy: 0.8041 - val_loss: 1.1083 - val_categorical_accuracy: 0.7566\n",
      "Epoch 5/8\n",
      "7279/7279 [==============================] - 53s 7ms/sample - loss: 0.5750 - categorical_accuracy: 0.8362 - val_loss: 1.1450 - val_categorical_accuracy: 0.7687\n",
      "Epoch 6/8\n",
      "7279/7279 [==============================] - 52s 7ms/sample - loss: 0.4421 - categorical_accuracy: 0.8769 - val_loss: 1.8082 - val_categorical_accuracy: 0.6896\n",
      "Epoch 7/8\n",
      "7279/7279 [==============================] - 63s 9ms/sample - loss: 0.4179 - categorical_accuracy: 0.8816 - val_loss: 1.1313 - val_categorical_accuracy: 0.7654\n",
      "Epoch 8/8\n",
      "7279/7279 [==============================] - 59s 8ms/sample - loss: 0.3863 - categorical_accuracy: 0.8926 - val_loss: 1.2121 - val_categorical_accuracy: 0.7593\n"
     ]
    }
   ],
   "source": [
    "adam= tf.keras.optimizers.Adam(lr=0.01)\n",
    "model.compile(loss=tf.keras.losses.categorical_crossentropy,metrics = [metrics.categorical_accuracy], \n",
    "              optimizer=adam)\n",
    "res_adam = model.fit(X_train, y_train,batch_size=batch_size,verbose=1,epochs=epochs,validation_data=(X_test,y_test))"
   ]
  },
  {
   "cell_type": "code",
   "execution_count": 707,
   "metadata": {},
   "outputs": [
    {
     "name": "stdout",
     "output_type": "stream",
     "text": [
      "1820/1820 [==============================] - 3s 2ms/sample - loss: 1.2121 - categorical_accuracy: 0.7593\n",
      "1.2121171581876147 0.75934064\n"
     ]
    }
   ],
   "source": [
    "loss, accuracy = model.evaluate(X_test, y_test, batch_size=32)\n",
    "print(loss, accuracy)"
   ]
  },
  {
   "cell_type": "code",
   "execution_count": 708,
   "metadata": {},
   "outputs": [
    {
     "data": {
      "image/png": "[encoded data removed]",
      "text/plain": [
       "<Figure size 432x288 with 1 Axes>"
      ]
     },
     "metadata": {
      "needs_background": "light"
     },
     "output_type": "display_data"
    }
   ],
   "source": [
    "fig, (ax1) = plt.subplots(1)\n",
    "fig.suptitle('Model 1')\n",
    "ax1.plot(res_adam.history['categorical_accuracy'])\n",
    "plt.title('model accuracy')\n",
    "plt.xlabel('epoch')\n",
    "plt.legend(['train', 'test'], loc='upper left')\n",
    "plt.show()"
   ]
  },
  {
   "cell_type": "code",
   "execution_count": 709,
   "metadata": {},
   "outputs": [
    {
     "data": {
      "image/png": "[encoded data removed]",
      "text/plain": [
       "<Figure size 432x288 with 1 Axes>"
      ]
     },
     "metadata": {
      "needs_background": "light"
     },
     "output_type": "display_data"
    }
   ],
   "source": [
    "fig, (ax1) = plt.subplots(1)\n",
    "fig.suptitle('Model 1')\n",
    "ax1.plot(res_adam.history['loss'])\n",
    "plt.title('loss')\n",
    "plt.xlabel('epoch')\n",
    "plt.legend(['train', 'test'], loc='upper left')\n",
    "plt.show()"
   ]
  },
  {
   "cell_type": "markdown",
   "metadata": {},
   "source": [
    "Here, we see that the test accuracy decreased to 75.9% and loss increased to 1.212 on using adam optimizer, Also the evalues does not stablilize at any point for the epochs = 8 in comparison with the sgd optimizer that gave us an accuracy of 89.9% with loss of 0.519. Hence, Adam optimizer does not provide better accuracy so it is better to use sgd to configure the learning process. \n",
    "\n",
    "Let us now try to change the number of layers in the network architecture and see its impact."
   ]
  },
  {
   "cell_type": "code",
   "execution_count": null,
   "metadata": {},
   "outputs": [],
   "source": []
  },
  {
   "cell_type": "code",
   "execution_count": null,
   "metadata": {},
   "outputs": [],
   "source": []
  },
  {
   "cell_type": "markdown",
   "metadata": {},
   "source": [
    "# Part F : Network Architecture\n",
    "### Changing the number of layers to 2 "
   ]
  },
  {
   "cell_type": "code",
   "execution_count": 364,
   "metadata": {},
   "outputs": [],
   "source": [
    "# Build and train CNN model\n",
    "#Creating an object of Sequential class\n",
    "model = tf.keras.models.Sequential()\n",
    "# Add convolution 2D\n",
    "model.add(Conv2D(32, kernel_size = (3, 3), activation='relu',\n",
    "                 kernel_initializer = 'he_normal' ,input_shape=(img_size, img_size, 3)))\n",
    "model.add(MaxPooling2D(pool_size=(2,2)))\n",
    "model.add(BatchNormalization())\n",
    "\n",
    "model.add(Conv2D(64, kernel_size=(3, 3),activation='relu'))\n",
    "model.add(MaxPooling2D(pool_size=(2, 2)))\n",
    "model.add(BatchNormalization())\n",
    "\n",
    "model.add(Dropout(0.2))\n",
    "model.add(Flatten())\n",
    "model.add(Dense(128, activation='relu'))\n",
    "model.add(Dense(num_classes, activation='softmax'))"
   ]
  },
  {
   "cell_type": "code",
   "execution_count": 365,
   "metadata": {
    "scrolled": false
   },
   "outputs": [
    {
     "name": "stdout",
     "output_type": "stream",
     "text": [
      "Train on 7279 samples, validate on 1820 samples\n",
      "Epoch 1/8\n",
      "7279/7279 [==============================] - 52s 7ms/sample - loss: 1.7401 - categorical_accuracy: 0.5916 - val_loss: 2.8889 - val_categorical_accuracy: 0.3473\n",
      "Epoch 2/8\n",
      "7279/7279 [==============================] - 55s 8ms/sample - loss: 0.4319 - categorical_accuracy: 0.8819 - val_loss: 0.9725 - val_categorical_accuracy: 0.7621\n",
      "Epoch 3/8\n",
      "7279/7279 [==============================] - 54s 7ms/sample - loss: 0.1122 - categorical_accuracy: 0.9679 - val_loss: 0.8469 - val_categorical_accuracy: 0.8489\n",
      "Epoch 4/8\n",
      "7279/7279 [==============================] - 60s 8ms/sample - loss: 0.0289 - categorical_accuracy: 0.9941 - val_loss: 0.7782 - val_categorical_accuracy: 0.8698\n",
      "Epoch 5/8\n",
      "7279/7279 [==============================] - 58s 8ms/sample - loss: 0.0096 - categorical_accuracy: 0.9984 - val_loss: 0.8383 - val_categorical_accuracy: 0.8648\n",
      "Epoch 6/8\n",
      "7279/7279 [==============================] - 56s 8ms/sample - loss: 0.0046 - categorical_accuracy: 0.9995 - val_loss: 0.8291 - val_categorical_accuracy: 0.8742\n",
      "Epoch 7/8\n",
      "7279/7279 [==============================] - 61s 8ms/sample - loss: 0.0019 - categorical_accuracy: 1.0000 - val_loss: 0.8218 - val_categorical_accuracy: 0.8802\n",
      "Epoch 8/8\n",
      "7279/7279 [==============================] - 66s 9ms/sample - loss: 0.0011 - categorical_accuracy: 1.0000 - val_loss: 0.8303 - val_categorical_accuracy: 0.8791\n"
     ]
    }
   ],
   "source": [
    "sgd = tf.keras.optimizers.SGD(lr=0.01, decay=1e-6, momentum=0.9, nesterov=True)\n",
    "model.compile(loss=tf.keras.losses.categorical_crossentropy,metrics = [metrics.categorical_accuracy], \n",
    "              optimizer=sgd)\n",
    "res4 = model.fit(X_train, y_train,batch_size=batch_size,verbose=1,\n",
    "                 epochs=epochs,validation_data=(X_test,y_test))"
   ]
  },
  {
   "cell_type": "code",
   "execution_count": 366,
   "metadata": {},
   "outputs": [
    {
     "name": "stdout",
     "output_type": "stream",
     "text": [
      "1820/1820 [==============================] - 4s 2ms/sample - loss: 0.8303 - categorical_accuracy: 0.8791\n",
      "0.8302908207034017 0.8791209\n"
     ]
    }
   ],
   "source": [
    "loss, accuracy = model.evaluate(X_test, y_test, batch_size=32)\n",
    "print(loss, accuracy)"
   ]
  },
  {
   "cell_type": "markdown",
   "metadata": {},
   "source": [
    "The accuracy is 0.87(lower than 89.9 as model 1) and loss of 0.83 (slightly higher than 0.516) same as the one with the three layers as model 1 and hence check if  it has any effect by changing the size of the layers."
   ]
  },
  {
   "cell_type": "code",
   "execution_count": 369,
   "metadata": {},
   "outputs": [],
   "source": [
    "# Build and train CNN model\n",
    "#Creating an object of Sequential class\n",
    "model = tf.keras.models.Sequential()\n",
    "# Add convolution 2D\n",
    "model.add(Conv2D(32, kernel_size = (5, 5), activation='relu',\n",
    "                 kernel_initializer = 'he_normal' ,input_shape=(img_size, img_size, 3)))\n",
    "model.add(MaxPooling2D(pool_size=(3,3)))\n",
    "model.add(BatchNormalization())\n",
    "\n",
    "model.add(Conv2D(32, kernel_size = (5, 5), activation='relu',\n",
    "                 kernel_initializer = 'he_normal' ,input_shape=(img_size, img_size, 3)))\n",
    "model.add(MaxPooling2D(pool_size=(3,3)))\n",
    "model.add(BatchNormalization())\n",
    "\n",
    "\n",
    "model.add(Dropout(0.2))\n",
    "model.add(Flatten())\n",
    "model.add(Dense(128, activation='relu'))\n",
    "model.add(Dense(num_classes, activation='softmax'))"
   ]
  },
  {
   "cell_type": "code",
   "execution_count": 371,
   "metadata": {
    "scrolled": true
   },
   "outputs": [
    {
     "name": "stdout",
     "output_type": "stream",
     "text": [
      "Train on 7279 samples, validate on 1820 samples\n",
      "Epoch 1/8\n",
      "7279/7279 [==============================] - 43s 6ms/sample - loss: 1.8463 - categorical_accuracy: 0.5252 - val_loss: 1.8854 - val_categorical_accuracy: 0.4764\n",
      "Epoch 2/8\n",
      "7279/7279 [==============================] - 43s 6ms/sample - loss: 1.0140 - categorical_accuracy: 0.7258 - val_loss: 1.3947 - val_categorical_accuracy: 0.6198\n",
      "Epoch 3/8\n",
      "7279/7279 [==============================] - 44s 6ms/sample - loss: 0.6850 - categorical_accuracy: 0.8165 - val_loss: 0.9322 - val_categorical_accuracy: 0.7731\n",
      "Epoch 4/8\n",
      "7279/7279 [==============================] - 43s 6ms/sample - loss: 0.4888 - categorical_accuracy: 0.8659 - val_loss: 0.8364 - val_categorical_accuracy: 0.8016\n",
      "Epoch 5/8\n",
      "7279/7279 [==============================] - 39s 5ms/sample - loss: 0.3456 - categorical_accuracy: 0.8989 - val_loss: 1.0128 - val_categorical_accuracy: 0.7808\n",
      "Epoch 6/8\n",
      "7279/7279 [==============================] - 41s 6ms/sample - loss: 0.2613 - categorical_accuracy: 0.9232 - val_loss: 0.7755 - val_categorical_accuracy: 0.8500\n",
      "Epoch 7/8\n",
      "7279/7279 [==============================] - 45s 6ms/sample - loss: 0.1822 - categorical_accuracy: 0.9439 - val_loss: 0.7499 - val_categorical_accuracy: 0.8632\n",
      "Epoch 8/8\n",
      "7279/7279 [==============================] - 40s 5ms/sample - loss: 0.1421 - categorical_accuracy: 0.9563 - val_loss: 0.8286 - val_categorical_accuracy: 0.8412\n"
     ]
    }
   ],
   "source": [
    "sgd = tf.keras.optimizers.SGD(lr=0.01, decay=1e-6, momentum=0.9, nesterov=True)\n",
    "model.compile(loss=tf.keras.losses.categorical_crossentropy,metrics = [metrics.categorical_accuracy], \n",
    "              optimizer=sgd)\n",
    "res5 = model.fit(X_train, y_train,batch_size=batch_size,verbose=1,\n",
    "                 epochs=epochs,validation_data=(X_test,y_test))"
   ]
  },
  {
   "cell_type": "code",
   "execution_count": 372,
   "metadata": {},
   "outputs": [
    {
     "name": "stdout",
     "output_type": "stream",
     "text": [
      "1820/1820 [==============================] - 3s 1ms/sample - loss: 0.8286 - categorical_accuracy: 0.8412\n",
      "0.828647819849161 0.8412088\n"
     ]
    }
   ],
   "source": [
    "loss, accuracy = model.evaluate(X_test, y_test, batch_size=32)\n",
    "print(loss, accuracy)"
   ]
  },
  {
   "cell_type": "markdown",
   "metadata": {},
   "source": [
    "On decreasing the number of layers and increasing the size the accuracy decreased from 89.9% to 84%, loss increased from 0.516 to 0.82, hence continuing with three layers further."
   ]
  },
  {
   "cell_type": "code",
   "execution_count": 373,
   "metadata": {},
   "outputs": [
    {
     "data": {
      "image/png": "[encoded data removed]",
      "text/plain": [
       "<Figure size 432x288 with 2 Axes>"
      ]
     },
     "metadata": {
      "needs_background": "light"
     },
     "output_type": "display_data"
    }
   ],
   "source": [
    "fig, (ax1, ax2) = plt.subplots(2)\n",
    "fig.suptitle('Model 1 vs. Model 2')\n",
    "ax1.plot(res4.history['categorical_accuracy'])\n",
    "ax2.plot(res5.history['categorical_accuracy'])\n",
    "plt.title('model accuracy')\n",
    "plt.xlabel('epoch')\n",
    "plt.legend(['train', 'test'], loc='upper left')\n",
    "plt.show()"
   ]
  },
  {
   "cell_type": "code",
   "execution_count": 374,
   "metadata": {},
   "outputs": [
    {
     "data": {
      "image/png": "[encoded data removed]",
      "text/plain": [
       "<Figure size 432x288 with 2 Axes>"
      ]
     },
     "metadata": {
      "needs_background": "light"
     },
     "output_type": "display_data"
    }
   ],
   "source": [
    "fig, (ax1, ax2) = plt.subplots(2)\n",
    "fig.suptitle('Model 1 vs. Model 2')\n",
    "ax1.plot(res4.history['loss'])\n",
    "ax2.plot(res5.history['loss'])\n",
    "plt.title('loss')\n",
    "plt.xlabel('epoch')\n",
    "plt.legend(['train', 'test'], loc='upper left')\n",
    "plt.show()"
   ]
  },
  {
   "cell_type": "markdown",
   "metadata": {},
   "source": [
    "On increasing the number of layers and changing the size of the layers the accuracy and the loss values plateau after it has reached a point with the increase in th enumber of epochs, also the accuracy values being the same compared to model 1 continuing with model 1 further.."
   ]
  },
  {
   "cell_type": "code",
   "execution_count": null,
   "metadata": {},
   "outputs": [],
   "source": []
  },
  {
   "cell_type": "markdown",
   "metadata": {},
   "source": [
    "# Part G: Network Initialization"
   ]
  },
  {
   "cell_type": "markdown",
   "metadata": {},
   "source": [
    "## Changing Network initializer to uniform"
   ]
  },
  {
   "cell_type": "code",
   "execution_count": 376,
   "metadata": {},
   "outputs": [],
   "source": [
    "epochs = 8\n",
    "# Build and train CNN model\n",
    "#Creating an object of Sequential class\n",
    "model = tf.keras.models.Sequential()\n",
    "# Add convolution 2D\n",
    "model.add(Conv2D(32, kernel_size = (3, 3), activation='relu', kernel_initializer = 'uniform' ,\n",
    "                 input_shape=(img_size, img_size, 3)))\n",
    "model.add(MaxPooling2D(pool_size=(2,2)))\n",
    "model.add(BatchNormalization())\n",
    "\n",
    "model.add(Conv2D(64, kernel_size=(3, 3),activation='relu'))\n",
    "model.add(MaxPooling2D(pool_size=(2, 2)))\n",
    "model.add(BatchNormalization())\n",
    "\n",
    "model.add(Conv2D(64, kernel_size=(3, 3),activation='relu'))\n",
    "model.add(MaxPooling2D(pool_size=(2, 2)))\n",
    "model.add(BatchNormalization())\n",
    "\n",
    "model.add(Dropout(0.2))\n",
    "model.add(Flatten())\n",
    "model.add(Dense(128, activation='relu'))\n",
    "model.add(Dense(num_classes, activation='softmax'))"
   ]
  },
  {
   "cell_type": "code",
   "execution_count": 377,
   "metadata": {},
   "outputs": [
    {
     "name": "stdout",
     "output_type": "stream",
     "text": [
      "Train on 7279 samples, validate on 1820 samples\n",
      "Epoch 1/8\n",
      "7279/7279 [==============================] - 65s 9ms/sample - loss: 1.8409 - categorical_accuracy: 0.5400 - val_loss: 1.6251 - val_categorical_accuracy: 0.5648\n",
      "Epoch 2/8\n",
      "7279/7279 [==============================] - 55s 8ms/sample - loss: 0.8772 - categorical_accuracy: 0.7696 - val_loss: 0.9757 - val_categorical_accuracy: 0.7571\n",
      "Epoch 3/8\n",
      "7279/7279 [==============================] - 56s 8ms/sample - loss: 0.5074 - categorical_accuracy: 0.8599 - val_loss: 0.7593 - val_categorical_accuracy: 0.8159\n",
      "Epoch 4/8\n",
      "7279/7279 [==============================] - 66s 9ms/sample - loss: 0.3031 - categorical_accuracy: 0.9130 - val_loss: 0.8472 - val_categorical_accuracy: 0.8159\n",
      "Epoch 5/8\n",
      "7279/7279 [==============================] - 59s 8ms/sample - loss: 0.1692 - categorical_accuracy: 0.9497 - val_loss: 0.7801 - val_categorical_accuracy: 0.8445\n",
      "Epoch 6/8\n",
      "7279/7279 [==============================] - 62s 9ms/sample - loss: 0.0901 - categorical_accuracy: 0.9765 - val_loss: 0.7259 - val_categorical_accuracy: 0.8665\n",
      "Epoch 7/8\n",
      "7279/7279 [==============================] - 69s 9ms/sample - loss: 0.0732 - categorical_accuracy: 0.9791 - val_loss: 0.7917 - val_categorical_accuracy: 0.8593\n",
      "Epoch 8/8\n",
      "7279/7279 [==============================] - 62s 8ms/sample - loss: 0.0492 - categorical_accuracy: 0.9874 - val_loss: 0.7601 - val_categorical_accuracy: 0.8742\n"
     ]
    }
   ],
   "source": [
    "sgd = tf.keras.optimizers.SGD(lr=0.01, decay=1e-6, momentum=0.9, nesterov=True)\n",
    "model.compile(loss=tf.keras.losses.categorical_crossentropy,metrics = [metrics.categorical_accuracy], \n",
    "              optimizer=sgd)\n",
    "res3 = model.fit(X_train, y_train,batch_size=batch_size,verbose=1,\n",
    "                 epochs=epochs,validation_data=(X_test,y_test))"
   ]
  },
  {
   "cell_type": "code",
   "execution_count": 378,
   "metadata": {},
   "outputs": [
    {
     "name": "stdout",
     "output_type": "stream",
     "text": [
      "1820/1820 [==============================] - 4s 2ms/sample - loss: 0.7601 - categorical_accuracy: 0.8742\n",
      "0.7600521409249568 0.87417585\n"
     ]
    }
   ],
   "source": [
    "loss2, accuracy2 = model.evaluate(X_test, y_test, batch_size=32)\n",
    "print(loss2, accuracy2)"
   ]
  },
  {
   "cell_type": "markdown",
   "metadata": {},
   "source": [
    "With kernel initializer = uniform, accuracy reduces to 0.87 (from 89.9 as in model1) and loss increases to 0.76 from 0.516, hence trying out different kernel initializer glorot_normal"
   ]
  },
  {
   "cell_type": "markdown",
   "metadata": {},
   "source": [
    "### Changing the kernel initializer to glorot_normal"
   ]
  },
  {
   "cell_type": "code",
   "execution_count": 710,
   "metadata": {},
   "outputs": [],
   "source": [
    "model = tf.keras.models.Sequential()\n",
    "# Add convolution 2D\n",
    "model.add(Conv2D(32, kernel_size = (3, 3), activation='relu',kernel_initializer = 'glorot_normal' ,\n",
    "                 input_shape=(img_size, img_size, 3)))\n",
    "model.add(MaxPooling2D(pool_size=(2,2)))\n",
    "model.add(BatchNormalization())\n",
    "\n",
    "model.add(Conv2D(64, kernel_size=(3, 3),activation='relu'))\n",
    "model.add(MaxPooling2D(pool_size=(2, 2)))\n",
    "model.add(BatchNormalization())\n",
    "\n",
    "model.add(Conv2D(64, kernel_size=(3, 3),activation='relu'))\n",
    "model.add(MaxPooling2D(pool_size=(2, 2)))\n",
    "model.add(BatchNormalization())\n",
    "\n",
    "model.add(Dropout(0.2))\n",
    "model.add(Flatten())\n",
    "model.add(Dense(128, activation='relu'))\n",
    "model.add(Dense(num_classes, activation='softmax'))"
   ]
  },
  {
   "cell_type": "code",
   "execution_count": 711,
   "metadata": {},
   "outputs": [
    {
     "name": "stdout",
     "output_type": "stream",
     "text": [
      "Train on 7279 samples, validate on 1820 samples\n",
      "Epoch 1/8\n",
      "7279/7279 [==============================] - 57s 8ms/sample - loss: 1.7544 - categorical_accuracy: 0.5597 - val_loss: 1.8245 - val_categorical_accuracy: 0.4967\n",
      "Epoch 2/8\n",
      "7279/7279 [==============================] - 52s 7ms/sample - loss: 0.7828 - categorical_accuracy: 0.7883 - val_loss: 0.9426 - val_categorical_accuracy: 0.7533\n",
      "Epoch 3/8\n",
      "7279/7279 [==============================] - 52s 7ms/sample - loss: 0.4302 - categorical_accuracy: 0.8823 - val_loss: 0.7362 - val_categorical_accuracy: 0.8275\n",
      "Epoch 4/8\n",
      "7279/7279 [==============================] - 51s 7ms/sample - loss: 0.2370 - categorical_accuracy: 0.9332 - val_loss: 0.7432 - val_categorical_accuracy: 0.8593\n",
      "Epoch 5/8\n",
      "7279/7279 [==============================] - 51s 7ms/sample - loss: 0.1335 - categorical_accuracy: 0.9607 - val_loss: 0.5725 - val_categorical_accuracy: 0.8830\n",
      "Epoch 6/8\n",
      "7279/7279 [==============================] - 52s 7ms/sample - loss: 0.0714 - categorical_accuracy: 0.9826 - val_loss: 0.6252 - val_categorical_accuracy: 0.8797\n",
      "Epoch 7/8\n",
      "7279/7279 [==============================] - 52s 7ms/sample - loss: 0.0534 - categorical_accuracy: 0.9864 - val_loss: 0.7151 - val_categorical_accuracy: 0.8775\n",
      "Epoch 8/8\n",
      "7279/7279 [==============================] - 54s 7ms/sample - loss: 0.0323 - categorical_accuracy: 0.9922 - val_loss: 0.6186 - val_categorical_accuracy: 0.8868\n"
     ]
    }
   ],
   "source": [
    "sgd = tf.keras.optimizers.SGD(lr=0.01, decay=1e-6, momentum=0.9, nesterov=True)\n",
    "model.compile(loss=tf.keras.losses.categorical_crossentropy,metrics = [metrics.categorical_accuracy], \n",
    "              optimizer=sgd)\n",
    "res31 = model.fit(X_train, y_train,batch_size=batch_size,verbose=1,\n",
    "                 epochs=epochs,validation_data=(X_test,y_test))"
   ]
  },
  {
   "cell_type": "code",
   "execution_count": 712,
   "metadata": {},
   "outputs": [
    {
     "name": "stdout",
     "output_type": "stream",
     "text": [
      "1820/1820 [==============================] - 3s 2ms/sample - loss: 0.6186 - categorical_accuracy: 0.88681s -\n",
      "0.6186248891956203 0.88681316\n"
     ]
    }
   ],
   "source": [
    "loss, accuracy = model.evaluate(X_test, y_test, batch_size=32)\n",
    "print(loss, accuracy)\n"
   ]
  },
  {
   "cell_type": "code",
   "execution_count": 713,
   "metadata": {},
   "outputs": [
    {
     "data": {
      "image/png": "[encoded data removed]",
      "text/plain": [
       "<Figure size 432x288 with 2 Axes>"
      ]
     },
     "metadata": {
      "needs_background": "light"
     },
     "output_type": "display_data"
    }
   ],
   "source": [
    "fig, (ax1, ax2) = plt.subplots(2)\n",
    "fig.suptitle('Model 1 vs. Model 2')\n",
    "ax1.plot(res3.history['loss'])\n",
    "ax2.plot(res31.history['loss'])\n",
    "plt.title('loss')\n",
    "plt.xlabel('epoch')\n",
    "plt.legend(['train', 'test'], loc='upper left')\n",
    "plt.show()"
   ]
  },
  {
   "cell_type": "code",
   "execution_count": 714,
   "metadata": {},
   "outputs": [
    {
     "data": {
      "image/png": "[encoded data removed]",
      "text/plain": [
       "<Figure size 432x288 with 2 Axes>"
      ]
     },
     "metadata": {
      "needs_background": "light"
     },
     "output_type": "display_data"
    }
   ],
   "source": [
    "fig, (ax1, ax2) = plt.subplots(2)\n",
    "fig.suptitle('Model 1 vs. Model 2')\n",
    "ax1.plot(res3.history['categorical_accuracy'])\n",
    "ax2.plot(res31.history['categorical_accuracy'])\n",
    "plt.title('categorical_accuracy')\n",
    "plt.xlabel('epoch')\n",
    "plt.legend(['train', 'test'], loc='upper left')\n",
    "plt.show()"
   ]
  },
  {
   "cell_type": "markdown",
   "metadata": {},
   "source": [
    "Here the accuracy is less which is 88.6% and loss of 0.618 so we keep the kernel initializer as he_uniform only for our modelling to get best accuracy of 89.9% and test loss of 0.519"
   ]
  },
  {
   "cell_type": "markdown",
   "metadata": {},
   "source": [
    "To prevent overfitting of the model and just to increase the accuracy of the model, changing the kernel_size, adding dropout layers.,"
   ]
  },
  {
   "cell_type": "code",
   "execution_count": 595,
   "metadata": {},
   "outputs": [],
   "source": [
    "#Creating an object of Sequential class\n",
    "model1 = tf.keras.models.Sequential()\n",
    "epochs = 30\n",
    "# Add convolution 2D\n",
    "model1.add(Conv2D(32, kernel_size = (5, 5), activation='relu',kernel_initializer = 'he_normal',\n",
    "                  padding = 'same', strides = 1,\n",
    "                  input_shape=(img_size, img_size, 3)))\n",
    "model1.add(MaxPooling2D(pool_size=(2,2)))\n",
    "model1.add(BatchNormalization())\n",
    "model1.add(Dropout(0.2))\n",
    "\n",
    "model1.add(Conv2D(64, kernel_size=(3, 3),activation='relu'))\n",
    "model1.add(MaxPooling2D(pool_size=(2, 2)))\n",
    "model1.add(BatchNormalization())\n",
    "model1.add(Dropout(0.2))\n",
    "\n",
    "model1.add(Conv2D(128, kernel_size=(3, 3),activation='relu'))\n",
    "model1.add(MaxPooling2D(pool_size=(2, 2)))\n",
    "model1.add(BatchNormalization())\n",
    "\n",
    "model1.add(Dropout(0.2))\n",
    "model1.add(Flatten())\n",
    "model1.add(Dense(128, activation='relu'))\n",
    "model1.add(Dense(num_classes, activation='softmax'))"
   ]
  },
  {
   "cell_type": "code",
   "execution_count": 598,
   "metadata": {},
   "outputs": [
    {
     "name": "stdout",
     "output_type": "stream",
     "text": [
      "Train on 7279 samples, validate on 1820 samples\n",
      "Epoch 1/30\n",
      "7279/7279 [==============================] - 97s 13ms/sample - loss: 1.8675 - categorical_accuracy: 0.5319 - val_loss: 1.8445 - val_categorical_accuracy: 0.5242\n",
      "Epoch 2/30\n",
      "7279/7279 [==============================] - 98s 13ms/sample - loss: 0.9804 - categorical_accuracy: 0.7405 - val_loss: 0.9910 - val_categorical_accuracy: 0.7467\n",
      "Epoch 3/30\n",
      "7279/7279 [==============================] - 94s 13ms/sample - loss: 0.6023 - categorical_accuracy: 0.8365 - val_loss: 0.8473 - val_categorical_accuracy: 0.7962\n",
      "Epoch 4/30\n",
      "7279/7279 [==============================] - 100s 14ms/sample - loss: 0.3787 - categorical_accuracy: 0.8898 - val_loss: 0.8562 - val_categorical_accuracy: 0.8176\n",
      "Epoch 5/30\n",
      "7279/7279 [==============================] - 102s 14ms/sample - loss: 0.2609 - categorical_accuracy: 0.9247 - val_loss: 0.8285 - val_categorical_accuracy: 0.8313\n",
      "Epoch 6/30\n",
      "7279/7279 [==============================] - 94s 13ms/sample - loss: 0.1809 - categorical_accuracy: 0.9452 - val_loss: 0.8037 - val_categorical_accuracy: 0.8478\n",
      "Epoch 7/30\n",
      "7279/7279 [==============================] - 92s 13ms/sample - loss: 0.1099 - categorical_accuracy: 0.9657 - val_loss: 0.7769 - val_categorical_accuracy: 0.8643\n",
      "Epoch 8/30\n",
      "7279/7279 [==============================] - 92s 13ms/sample - loss: 0.0809 - categorical_accuracy: 0.9760 - val_loss: 0.7962 - val_categorical_accuracy: 0.8588\n",
      "Epoch 9/30\n",
      "7279/7279 [==============================] - 92s 13ms/sample - loss: 0.0797 - categorical_accuracy: 0.9771 - val_loss: 0.7889 - val_categorical_accuracy: 0.8676\n",
      "Epoch 10/30\n",
      "7279/7279 [==============================] - 92s 13ms/sample - loss: 0.0580 - categorical_accuracy: 0.9834 - val_loss: 0.8374 - val_categorical_accuracy: 0.8626\n",
      "Epoch 11/30\n",
      "7279/7279 [==============================] - 90s 12ms/sample - loss: 0.0479 - categorical_accuracy: 0.9854 - val_loss: 0.8754 - val_categorical_accuracy: 0.8709\n",
      "Epoch 12/30\n",
      "7279/7279 [==============================] - 92s 13ms/sample - loss: 0.0395 - categorical_accuracy: 0.9893 - val_loss: 1.0095 - val_categorical_accuracy: 0.8560\n",
      "Epoch 13/30\n",
      "7279/7279 [==============================] - 92s 13ms/sample - loss: 0.0350 - categorical_accuracy: 0.9897 - val_loss: 0.8963 - val_categorical_accuracy: 0.8670\n",
      "Epoch 14/30\n",
      "7279/7279 [==============================] - 94s 13ms/sample - loss: 0.0364 - categorical_accuracy: 0.9885 - val_loss: 0.9450 - val_categorical_accuracy: 0.8709\n",
      "Epoch 15/30\n",
      "7279/7279 [==============================] - 90s 12ms/sample - loss: 0.0277 - categorical_accuracy: 0.9922 - val_loss: 0.9113 - val_categorical_accuracy: 0.8703\n",
      "Epoch 16/30\n",
      "7279/7279 [==============================] - 92s 13ms/sample - loss: 0.0353 - categorical_accuracy: 0.9898 - val_loss: 0.9676 - val_categorical_accuracy: 0.8703\n",
      "Epoch 17/30\n",
      "7279/7279 [==============================] - 90s 12ms/sample - loss: 0.0267 - categorical_accuracy: 0.9923 - val_loss: 0.9510 - val_categorical_accuracy: 0.8632\n",
      "Epoch 18/30\n",
      "7279/7279 [==============================] - 92s 13ms/sample - loss: 0.0256 - categorical_accuracy: 0.9920 - val_loss: 1.0402 - val_categorical_accuracy: 0.8665\n",
      "Epoch 19/30\n",
      "7279/7279 [==============================] - 99s 14ms/sample - loss: 0.0225 - categorical_accuracy: 0.9923 - val_loss: 1.0769 - val_categorical_accuracy: 0.8615\n",
      "Epoch 20/30\n",
      "7279/7279 [==============================] - 99s 14ms/sample - loss: 0.0249 - categorical_accuracy: 0.9934 - val_loss: 1.0489 - val_categorical_accuracy: 0.8681\n",
      "Epoch 21/30\n",
      "7279/7279 [==============================] - 108s 15ms/sample - loss: 0.0176 - categorical_accuracy: 0.9948 - val_loss: 1.0132 - val_categorical_accuracy: 0.8676\n",
      "Epoch 22/30\n",
      "7279/7279 [==============================] - 85s 12ms/sample - loss: 0.0247 - categorical_accuracy: 0.9922 - val_loss: 0.9784 - val_categorical_accuracy: 0.8758\n",
      "Epoch 23/30\n",
      "7279/7279 [==============================] - 85s 12ms/sample - loss: 0.0179 - categorical_accuracy: 0.9948 - val_loss: 1.0451 - val_categorical_accuracy: 0.8753\n",
      "Epoch 24/30\n",
      "7279/7279 [==============================] - 98s 13ms/sample - loss: 0.0170 - categorical_accuracy: 0.9955 - val_loss: 1.0141 - val_categorical_accuracy: 0.8643\n",
      "Epoch 25/30\n",
      "7279/7279 [==============================] - 84s 12ms/sample - loss: 0.0228 - categorical_accuracy: 0.9933 - val_loss: 1.0922 - val_categorical_accuracy: 0.8626\n",
      "Epoch 26/30\n",
      "7279/7279 [==============================] - 84s 12ms/sample - loss: 0.0226 - categorical_accuracy: 0.9933 - val_loss: 1.0490 - val_categorical_accuracy: 0.8621\n",
      "Epoch 27/30\n",
      "7279/7279 [==============================] - 85s 12ms/sample - loss: 0.0160 - categorical_accuracy: 0.9944 - val_loss: 1.0098 - val_categorical_accuracy: 0.8725\n",
      "Epoch 28/30\n",
      "7279/7279 [==============================] - 95s 13ms/sample - loss: 0.0124 - categorical_accuracy: 0.9959 - val_loss: 1.0150 - val_categorical_accuracy: 0.8731\n",
      "Epoch 29/30\n",
      "7279/7279 [==============================] - 91s 12ms/sample - loss: 0.0243 - categorical_accuracy: 0.9924 - val_loss: 0.9906 - val_categorical_accuracy: 0.8775\n",
      "Epoch 30/30\n",
      "7279/7279 [==============================] - 91s 13ms/sample - loss: 0.0166 - categorical_accuracy: 0.9951 - val_loss: 0.9936 - val_categorical_accuracy: 0.8703\n"
     ]
    }
   ],
   "source": [
    "sgd = tf.keras.optimizers.SGD(lr=0.01, decay=1e-6, momentum=0.9, nesterov=True)\n",
    "model1.compile(loss=tf.keras.losses.categorical_crossentropy,metrics = [metrics.categorical_accuracy], \n",
    "              optimizer=sgd)\n",
    "res_final = model1.fit(X_train, y_train,batch_size=batch_size,verbose=1,\n",
    "                 epochs=epochs, validation_data=(X_test, y_test))"
   ]
  },
  {
   "cell_type": "code",
   "execution_count": 599,
   "metadata": {},
   "outputs": [
    {
     "name": "stdout",
     "output_type": "stream",
     "text": [
      "1820/1820 [==============================] - 3s 2ms/sample - loss: 0.9936 - categorical_accuracy: 0.8703\n",
      "0.9935831248105227 0.8703297\n"
     ]
    }
   ],
   "source": [
    "loss, accuracy = model1.evaluate(X_test, y_test, batch_size=32)\n",
    "print(loss, accuracy)"
   ]
  },
  {
   "cell_type": "code",
   "execution_count": 600,
   "metadata": {},
   "outputs": [
    {
     "data": {
      "image/png": "[encoded data removed]",
      "text/plain": [
       "<Figure size 432x288 with 1 Axes>"
      ]
     },
     "metadata": {
      "needs_background": "light"
     },
     "output_type": "display_data"
    }
   ],
   "source": [
    "fig, (ax1) = plt.subplots(1)\n",
    "fig.suptitle(res_final)\n",
    "ax1.plot(res_final.history['categorical_accuracy'])\n",
    "plt.title('categorical_accuracy')\n",
    "plt.xlabel('epoch')\n",
    "plt.legend(['train', 'test'], loc='upper left')\n",
    "plt.show()"
   ]
  },
  {
   "cell_type": "code",
   "execution_count": 601,
   "metadata": {},
   "outputs": [
    {
     "data": {
      "image/png": "[encoded data removed]",
      "text/plain": [
       "<Figure size 432x288 with 1 Axes>"
      ]
     },
     "metadata": {
      "needs_background": "light"
     },
     "output_type": "display_data"
    }
   ],
   "source": [
    "fig, (ax1) = plt.subplots(1)\n",
    "fig.suptitle(res_final)\n",
    "ax1.plot(res_final.history['loss'])\n",
    "plt.title('loss')\n",
    "plt.xlabel('epoch')\n",
    "plt.legend(['train', 'test'], loc='upper left')\n",
    "plt.show()"
   ]
  },
  {
   "cell_type": "markdown",
   "metadata": {},
   "source": [
    "Foe epochs = 10, with SGD optimizer, kernel_initilizer = he_normal, activation = relu the loss is 0.99 and accuracy is 0.87 hence considering the best model so far is model 1 with accuracy = 89.9 with a loss of 0.516.."
   ]
  },
  {
   "cell_type": "markdown",
   "metadata": {},
   "source": [
    "# Conclusions"
   ]
  },
  {
   "cell_type": "markdown",
   "metadata": {},
   "source": [
    "Acheived best accuracy of 89.9% and a test loss of 0.516 using CNN to classify the Simpsons dataset images by tuning various hyper-parameters and trying out different activation function, epochs, cost functions and even by changing network architecture."
   ]
  },
  {
   "cell_type": "code",
   "execution_count": null,
   "metadata": {},
   "outputs": [],
   "source": []
  },
  {
   "cell_type": "markdown",
   "metadata": {},
   "source": [
    "# Readme"
   ]
  },
  {
   "cell_type": "markdown",
   "metadata": {},
   "source": [
    "Install Python version>= 3.6 and tensorflow using \"pip install tensorflow\", to install PILLOW ==>  \"pip install pillow\"\n",
    "Download the dataset from the link mentioned above, with these installations and the jupyter notebook one should be able to run this file."
   ]
  },
  {
   "cell_type": "code",
   "execution_count": null,
   "metadata": {},
   "outputs": [],
   "source": []
  },
  {
   "cell_type": "markdown",
   "metadata": {},
   "source": [
    "# Contributions"
   ]
  },
  {
   "cell_type": "markdown",
   "metadata": {},
   "source": [
    "Personal contribution: 20%                                                          \n",
    "External references: 80%"
   ]
  },
  {
   "cell_type": "markdown",
   "metadata": {},
   "source": [
    "# Citations"
   ]
  },
  {
   "cell_type": "markdown",
   "metadata": {},
   "source": [
    "1.https://towardsdatascience.com/a-simple-cnn-multi-image-classifier-31c463324fa                                  \n",
    "2.http://brainmaps.org/index.php?p=speciesdata&species=mus-musculus                                                 \n",
    "3.https://towardsdatascience.com/types-of-optimization-algorithms-used-in-neural-networks-and-ways-to-optimize-gradient-95ae5d39529f                                                                                          \n",
    "4.https://towardsdatascience.com/image-classification-python-keras-tutorial-kaggle-challenge-45a6332a58b8                        \n",
    "5.https://towardsdatascience.com/image-detection-from-scratch-in-keras-f314872006c9                                  \n",
    "6.https://towardsdatascience.com/estimating-optimal-learning-rate-for-a-deep-neural-network-ce32f2556ce0                         \n",
    "7.https://machinelearningmastery.com/loss-and-loss-functions-for-training-deep-learning-neural-networks/                          \n",
    "8.https://machinelearningmastery.com/multi-class-classification-tutorial-keras-deep-learning-library/                            \n",
    "9.https://towardsdatascience.com/using-artificial-neural-network-for-image-classification-9df3c34577dd                          \n",
    "10.https://towardsdatascience.com/activation-functions-and-its-types-which-is-better-a9a5310cc8f                               \n",
    "\n",
    "11.https://machinelearningmastery.com/how-to-choose-loss-functions-when-training-deep-learning-neural-networks/  \n"
   ]
  },
  {
   "cell_type": "markdown",
   "metadata": {},
   "source": [
    "# LICENSE"
   ]
  },
  {
   "cell_type": "markdown",
   "metadata": {},
   "source": [
    "Copyright 2020, Chaitanya Prasanna Kumar\n",
    "\n",
    "Permission is hereby granted, free of charge, to any person obtaining a copy of this software and associated documentation files (the \"Software\"), to deal in the Software without restriction, including without limitation the rights to use, copy, modify, merge, publish, distribute, sublicense, and/or sell copies of the Software, and to permit persons to whom the Software is furnished to do so, subject to the following conditions:\n",
    "\n",
    "The above copyright notice and this permission notice shall be included in all copies or substantial portions of the Software.\n",
    "\n",
    "THE SOFTWARE IS PROVIDED \"AS IS\", WITHOUT WARRANTY OF ANY KIND, EXPRESS OR IMPLIED, INCLUDING BUT NOT LIMITED TO THE WARRANTIES OF MERCHANTABILITY, FITNESS FOR A PARTICULAR PURPOSE AND NONINFRINGEMENT. IN NO EVENT SHALL THE AUTHORS OR COPYRIGHT HOLDERS BE LIABLE FOR ANY CLAIM, DAMAGES OR OTHER LIABILITY, WHETHER IN AN ACTION OF CONTRACT, TORT OR OTHERWISE, ARISING FROM, OUT OF OR IN CONNECTION WITH THE SOFTWARE OR THE USE OR OTHER DEALINGS IN THE SOFTWARE.\n",
    "\n",
    "​"
   ]
  },
  {
   "cell_type": "code",
   "execution_count": null,
   "metadata": {},
   "outputs": [],
   "source": []
  }
 ],
 "metadata": {
  "kernelspec": {
   "display_name": "Python 3",
   "language": "python",
   "name": "python3"
  },
  "language_info": {
   "codemirror_mode": {
    "name": "ipython",
    "version": 3
   },
   "file_extension": ".py",
   "mimetype": "text/x-python",
   "name": "python",
   "nbconvert_exporter": "python",
   "pygments_lexer": "ipython3",
   "version": "3.7.7"
  }
 },
 "nbformat": 4,
 "nbformat_minor": 2
}
