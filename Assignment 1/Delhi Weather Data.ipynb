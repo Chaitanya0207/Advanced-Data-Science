{
 "cells": [
  {
   "cell_type": "markdown",
   "metadata": {},
   "source": [
    "## Delhi Weather Data"
   ]
  },
  {
   "cell_type": "markdown",
   "metadata": {},
   "source": [
    "# Abstract"
   ]
  },
  {
   "cell_type": "markdown",
   "metadata": {},
   "source": [
    "The main aim is to perform EDA and implemnt linear regression, decrease the complexity of the model or overfitting by performing ridge regularization, implementing random forest regression, Gradient boosting regression and to determine the best models using step wise regression, multi-colinearity and hyperparameter tuning using MSE, RMSE and R squared as the evaluation metrics."
   ]
  },
  {
   "cell_type": "markdown",
   "metadata": {},
   "source": [
    "# Dataset"
   ]
  },
  {
   "cell_type": "markdown",
   "metadata": {},
   "source": [
    "This notebook contains data cleaning, visualisation,Linear Regressions, Interaction Effects and Regularization.\n",
    "The dataset considered here is Historical weather of Delhi for year 1997 to 2016 : https://www.kaggle.com/mahirkukreja/delhi-weather-data/data\n",
    "\n",
    "The dataset contains 20 columns with 100990 observations.\n",
    "\n",
    "The description for the 20 features is given below:\n",
    "datetime_utc : data recorded at specific dates and times(unique)\n",
    "_conds:categorical variable -  Weather conditions such as 'Smoke', 'Clear', 'Haze', 'Unknown', 'Scattered Clouds',\n",
    "       'Shallow Fog', 'Mostly Cloudy', 'Fog', 'Partly Cloudy',\n",
    "       'Patches of Fog', 'Thunderstorms and Rain', 'Overcast', 'Rain',\n",
    "       'Light Rain',etc\n",
    "_dewptm: dewpoint temperature in C                                                                \n",
    "_fog: Binary variable which depicts whether it is foggy or not affecting the visibility                                     \n",
    "_hail: Binary variable which depicts whether it is going to hail                                                         \n",
    "_heatindexm: Heat Index temperature (apparent temperature) which is a measure of how hot it feels to the human body         \n",
    "_hum: Humidity                                                                                                        \n",
    "_precipm: Precipitation                                                                                                      \n",
    "_pressurem: pressure                                                                                                             \n",
    "_rain: Binary variable which depicts whether it is going to rain or not                                                               \n",
    "_snow: Binary variable which depicts whether it is going to snow or not                                                                       \n",
    "_tempm: Temperature recorded at specific dates and times                                                                                          \n",
    "_thunder: Binary variable which depicts whether it is going to thunder or not                                                                      \n",
    "_tornado: Binary variable which depicts whether there is a tornado or not                                                                                \n",
    "_vism: visibility                                                                                                                           \n",
    "_wdird: categorical variable for wind direction with values such as North, South, East, West, etc                                                             \n",
    "_wdire: wind direction in mph                                                                                                                             \n",
    "_wgustm: wind gust                                                                                                                         \n",
    "_windchillm: wind chill                                                                                                                     \n",
    "_wspdm:wind speed                                                                                                                                                  \n",
    "                                                                "
   ]
  },
  {
   "cell_type": "code",
   "execution_count": 1,
   "metadata": {},
   "outputs": [],
   "source": [
    "import pandas as pd\n",
    "import matplotlib.pyplot as plt\n",
    "import statsmodels.api as sm\n",
    "import statsmodels as stats\n",
    "import numpy as np\n",
    "import seaborn as sns\n",
    "import warnings\n",
    "warnings.filterwarnings('ignore')\n",
    "from sklearn import linear_model\n",
    "from sklearn.model_selection import cross_val_score\n",
    "from statsmodels.formula.api import ols\n",
    "from sklearn.feature_selection import RFE\n",
    "from sklearn.linear_model import LogisticRegression # to perform linear regression\n",
    "from sklearn.linear_model import LinearRegression # to perform logistci regression\n",
    "import statsmodels.api as sm\n",
    "from sklearn import linear_model # Scikit learn library that implements generalized linear models\n",
    "from sklearn.preprocessing import LabelEncoder, OneHotEncoder # To encode categorical variables\n",
    "from sklearn.model_selection import train_test_split # To split train and test dataset\n",
    "from statsmodels.stats.outliers_influence import variance_inflation_factor # to check multicolinearity\n",
    "from sklearn.model_selection import cross_val_score # To perform cross validation"
   ]
  },
  {
   "cell_type": "markdown",
   "metadata": {},
   "source": [
    "# Loading the Dataset using Pandas Libraries"
   ]
  },
  {
   "cell_type": "code",
   "execution_count": 2,
   "metadata": {},
   "outputs": [],
   "source": [
    "data = pd.read_csv('testset.csv')"
   ]
  },
  {
   "cell_type": "markdown",
   "metadata": {},
   "source": [
    "# Exploratory Data Analysis"
   ]
  },
  {
   "cell_type": "code",
   "execution_count": 3,
   "metadata": {},
   "outputs": [
    {
     "data": {
      "text/plain": [
       "Index(['datetime_utc', ' _conds', ' _dewptm', ' _fog', ' _hail',\n",
       "       ' _heatindexm', ' _hum', ' _precipm', ' _pressurem', ' _rain', ' _snow',\n",
       "       ' _tempm', ' _thunder', ' _tornado', ' _vism', ' _wdird', ' _wdire',\n",
       "       ' _wgustm', ' _windchillm', ' _wspdm'],\n",
       "      dtype='object')"
      ]
     },
     "execution_count": 3,
     "metadata": {},
     "output_type": "execute_result"
    }
   ],
   "source": [
    "data.columns"
   ]
  },
  {
   "cell_type": "code",
   "execution_count": 4,
   "metadata": {},
   "outputs": [
    {
     "data": {
      "text/plain": [
       "Index(['datetimeutc', 'conds', 'dewptm', 'fog', 'hail', 'heatindexm', 'hum',\n",
       "       'precipm', 'pressurem', 'rain', 'snow', 'tempm', 'thunder', 'tornado',\n",
       "       'vism', 'wdird', 'wdire', 'wgustm', 'windchillm', 'wspdm'],\n",
       "      dtype='object')"
      ]
     },
     "execution_count": 4,
     "metadata": {},
     "output_type": "execute_result"
    }
   ],
   "source": [
    "#handling column names - removing column names with '-'\n",
    "columns_name=list(data.columns)\n",
    "new_columns=list(i.replace(\"_\",\"\").strip() for i in columns_name)\n",
    "data.columns=new_columns\n",
    "data.columns"
   ]
  },
  {
   "cell_type": "markdown",
   "metadata": {},
   "source": [
    "#### Summary Statistics"
   ]
  },
  {
   "cell_type": "code",
   "execution_count": 5,
   "metadata": {},
   "outputs": [
    {
     "data": {
      "text/html": [
       "<div>\n",
       "<style scoped>\n",
       "    .dataframe tbody tr th:only-of-type {\n",
       "        vertical-align: middle;\n",
       "    }\n",
       "\n",
       "    .dataframe tbody tr th {\n",
       "        vertical-align: top;\n",
       "    }\n",
       "\n",
       "    .dataframe thead th {\n",
       "        text-align: right;\n",
       "    }\n",
       "</style>\n",
       "<table border=\"1\" class=\"dataframe\">\n",
       "  <thead>\n",
       "    <tr style=\"text-align: right;\">\n",
       "      <th></th>\n",
       "      <th>datetimeutc</th>\n",
       "      <th>conds</th>\n",
       "      <th>dewptm</th>\n",
       "      <th>fog</th>\n",
       "      <th>hail</th>\n",
       "      <th>heatindexm</th>\n",
       "      <th>hum</th>\n",
       "      <th>precipm</th>\n",
       "      <th>pressurem</th>\n",
       "      <th>rain</th>\n",
       "      <th>snow</th>\n",
       "      <th>tempm</th>\n",
       "      <th>thunder</th>\n",
       "      <th>tornado</th>\n",
       "      <th>vism</th>\n",
       "      <th>wdird</th>\n",
       "      <th>wdire</th>\n",
       "      <th>wgustm</th>\n",
       "      <th>windchillm</th>\n",
       "      <th>wspdm</th>\n",
       "    </tr>\n",
       "  </thead>\n",
       "  <tbody>\n",
       "    <tr>\n",
       "      <th>0</th>\n",
       "      <td>19961101-11:00</td>\n",
       "      <td>Smoke</td>\n",
       "      <td>9.0</td>\n",
       "      <td>0</td>\n",
       "      <td>0</td>\n",
       "      <td>NaN</td>\n",
       "      <td>27.0</td>\n",
       "      <td>NaN</td>\n",
       "      <td>1010.0</td>\n",
       "      <td>0</td>\n",
       "      <td>0</td>\n",
       "      <td>30.0</td>\n",
       "      <td>0</td>\n",
       "      <td>0</td>\n",
       "      <td>5.0</td>\n",
       "      <td>280.0</td>\n",
       "      <td>West</td>\n",
       "      <td>NaN</td>\n",
       "      <td>NaN</td>\n",
       "      <td>7.4</td>\n",
       "    </tr>\n",
       "    <tr>\n",
       "      <th>1</th>\n",
       "      <td>19961101-12:00</td>\n",
       "      <td>Smoke</td>\n",
       "      <td>10.0</td>\n",
       "      <td>0</td>\n",
       "      <td>0</td>\n",
       "      <td>NaN</td>\n",
       "      <td>32.0</td>\n",
       "      <td>NaN</td>\n",
       "      <td>-9999.0</td>\n",
       "      <td>0</td>\n",
       "      <td>0</td>\n",
       "      <td>28.0</td>\n",
       "      <td>0</td>\n",
       "      <td>0</td>\n",
       "      <td>NaN</td>\n",
       "      <td>0.0</td>\n",
       "      <td>North</td>\n",
       "      <td>NaN</td>\n",
       "      <td>NaN</td>\n",
       "      <td>NaN</td>\n",
       "    </tr>\n",
       "    <tr>\n",
       "      <th>2</th>\n",
       "      <td>19961101-13:00</td>\n",
       "      <td>Smoke</td>\n",
       "      <td>11.0</td>\n",
       "      <td>0</td>\n",
       "      <td>0</td>\n",
       "      <td>NaN</td>\n",
       "      <td>44.0</td>\n",
       "      <td>NaN</td>\n",
       "      <td>-9999.0</td>\n",
       "      <td>0</td>\n",
       "      <td>0</td>\n",
       "      <td>24.0</td>\n",
       "      <td>0</td>\n",
       "      <td>0</td>\n",
       "      <td>NaN</td>\n",
       "      <td>0.0</td>\n",
       "      <td>North</td>\n",
       "      <td>NaN</td>\n",
       "      <td>NaN</td>\n",
       "      <td>NaN</td>\n",
       "    </tr>\n",
       "    <tr>\n",
       "      <th>3</th>\n",
       "      <td>19961101-14:00</td>\n",
       "      <td>Smoke</td>\n",
       "      <td>10.0</td>\n",
       "      <td>0</td>\n",
       "      <td>0</td>\n",
       "      <td>NaN</td>\n",
       "      <td>41.0</td>\n",
       "      <td>NaN</td>\n",
       "      <td>1010.0</td>\n",
       "      <td>0</td>\n",
       "      <td>0</td>\n",
       "      <td>24.0</td>\n",
       "      <td>0</td>\n",
       "      <td>0</td>\n",
       "      <td>2.0</td>\n",
       "      <td>0.0</td>\n",
       "      <td>North</td>\n",
       "      <td>NaN</td>\n",
       "      <td>NaN</td>\n",
       "      <td>NaN</td>\n",
       "    </tr>\n",
       "    <tr>\n",
       "      <th>4</th>\n",
       "      <td>19961101-16:00</td>\n",
       "      <td>Smoke</td>\n",
       "      <td>11.0</td>\n",
       "      <td>0</td>\n",
       "      <td>0</td>\n",
       "      <td>NaN</td>\n",
       "      <td>47.0</td>\n",
       "      <td>NaN</td>\n",
       "      <td>1011.0</td>\n",
       "      <td>0</td>\n",
       "      <td>0</td>\n",
       "      <td>23.0</td>\n",
       "      <td>0</td>\n",
       "      <td>0</td>\n",
       "      <td>1.2</td>\n",
       "      <td>0.0</td>\n",
       "      <td>North</td>\n",
       "      <td>NaN</td>\n",
       "      <td>NaN</td>\n",
       "      <td>0.0</td>\n",
       "    </tr>\n",
       "  </tbody>\n",
       "</table>\n",
       "</div>"
      ],
      "text/plain": [
       "      datetimeutc  conds  dewptm  fog  hail  heatindexm   hum  precipm  \\\n",
       "0  19961101-11:00  Smoke     9.0    0     0         NaN  27.0      NaN   \n",
       "1  19961101-12:00  Smoke    10.0    0     0         NaN  32.0      NaN   \n",
       "2  19961101-13:00  Smoke    11.0    0     0         NaN  44.0      NaN   \n",
       "3  19961101-14:00  Smoke    10.0    0     0         NaN  41.0      NaN   \n",
       "4  19961101-16:00  Smoke    11.0    0     0         NaN  47.0      NaN   \n",
       "\n",
       "   pressurem  rain  snow  tempm  thunder  tornado  vism  wdird  wdire  wgustm  \\\n",
       "0     1010.0     0     0   30.0        0        0   5.0  280.0   West     NaN   \n",
       "1    -9999.0     0     0   28.0        0        0   NaN    0.0  North     NaN   \n",
       "2    -9999.0     0     0   24.0        0        0   NaN    0.0  North     NaN   \n",
       "3     1010.0     0     0   24.0        0        0   2.0    0.0  North     NaN   \n",
       "4     1011.0     0     0   23.0        0        0   1.2    0.0  North     NaN   \n",
       "\n",
       "   windchillm  wspdm  \n",
       "0         NaN    7.4  \n",
       "1         NaN    NaN  \n",
       "2         NaN    NaN  \n",
       "3         NaN    NaN  \n",
       "4         NaN    0.0  "
      ]
     },
     "execution_count": 5,
     "metadata": {},
     "output_type": "execute_result"
    }
   ],
   "source": [
    "# displays the first five records/observations from the dataset\n",
    "data.head()"
   ]
  },
  {
   "cell_type": "code",
   "execution_count": 6,
   "metadata": {},
   "outputs": [
    {
     "data": {
      "text/html": [
       "<div>\n",
       "<style scoped>\n",
       "    .dataframe tbody tr th:only-of-type {\n",
       "        vertical-align: middle;\n",
       "    }\n",
       "\n",
       "    .dataframe tbody tr th {\n",
       "        vertical-align: top;\n",
       "    }\n",
       "\n",
       "    .dataframe thead th {\n",
       "        text-align: right;\n",
       "    }\n",
       "</style>\n",
       "<table border=\"1\" class=\"dataframe\">\n",
       "  <thead>\n",
       "    <tr style=\"text-align: right;\">\n",
       "      <th></th>\n",
       "      <th>dewptm</th>\n",
       "      <th>fog</th>\n",
       "      <th>hail</th>\n",
       "      <th>heatindexm</th>\n",
       "      <th>hum</th>\n",
       "      <th>precipm</th>\n",
       "      <th>pressurem</th>\n",
       "      <th>rain</th>\n",
       "      <th>snow</th>\n",
       "      <th>tempm</th>\n",
       "      <th>thunder</th>\n",
       "      <th>tornado</th>\n",
       "      <th>vism</th>\n",
       "      <th>wdird</th>\n",
       "      <th>wgustm</th>\n",
       "      <th>windchillm</th>\n",
       "      <th>wspdm</th>\n",
       "    </tr>\n",
       "  </thead>\n",
       "  <tbody>\n",
       "    <tr>\n",
       "      <th>count</th>\n",
       "      <td>100369.000000</td>\n",
       "      <td>100990.000000</td>\n",
       "      <td>100990.000000</td>\n",
       "      <td>29155.000000</td>\n",
       "      <td>100233.000000</td>\n",
       "      <td>0.0</td>\n",
       "      <td>1.007580e+05</td>\n",
       "      <td>100990.000000</td>\n",
       "      <td>100990.000000</td>\n",
       "      <td>100317.000000</td>\n",
       "      <td>100990.000000</td>\n",
       "      <td>100990.00000</td>\n",
       "      <td>96562.000000</td>\n",
       "      <td>86235.000000</td>\n",
       "      <td>1072.000000</td>\n",
       "      <td>579.000000</td>\n",
       "      <td>98632.000000</td>\n",
       "    </tr>\n",
       "    <tr>\n",
       "      <th>mean</th>\n",
       "      <td>15.741205</td>\n",
       "      <td>0.069690</td>\n",
       "      <td>0.000129</td>\n",
       "      <td>35.651710</td>\n",
       "      <td>57.909481</td>\n",
       "      <td>NaN</td>\n",
       "      <td>1.932331e+03</td>\n",
       "      <td>0.026260</td>\n",
       "      <td>0.000010</td>\n",
       "      <td>25.451269</td>\n",
       "      <td>0.009427</td>\n",
       "      <td>0.00002</td>\n",
       "      <td>2.402774</td>\n",
       "      <td>163.549974</td>\n",
       "      <td>37.671175</td>\n",
       "      <td>5.713817</td>\n",
       "      <td>7.678463</td>\n",
       "    </tr>\n",
       "    <tr>\n",
       "      <th>std</th>\n",
       "      <td>7.058587</td>\n",
       "      <td>0.254625</td>\n",
       "      <td>0.011345</td>\n",
       "      <td>5.015384</td>\n",
       "      <td>23.807771</td>\n",
       "      <td>NaN</td>\n",
       "      <td>3.183786e+05</td>\n",
       "      <td>0.159908</td>\n",
       "      <td>0.003147</td>\n",
       "      <td>8.482859</td>\n",
       "      <td>0.096633</td>\n",
       "      <td>0.00445</td>\n",
       "      <td>20.746028</td>\n",
       "      <td>120.002076</td>\n",
       "      <td>6.848666</td>\n",
       "      <td>1.203290</td>\n",
       "      <td>11.932157</td>\n",
       "    </tr>\n",
       "    <tr>\n",
       "      <th>min</th>\n",
       "      <td>-24.000000</td>\n",
       "      <td>0.000000</td>\n",
       "      <td>0.000000</td>\n",
       "      <td>26.800000</td>\n",
       "      <td>4.000000</td>\n",
       "      <td>NaN</td>\n",
       "      <td>-9.999000e+03</td>\n",
       "      <td>0.000000</td>\n",
       "      <td>0.000000</td>\n",
       "      <td>1.000000</td>\n",
       "      <td>0.000000</td>\n",
       "      <td>0.00000</td>\n",
       "      <td>0.000000</td>\n",
       "      <td>0.000000</td>\n",
       "      <td>25.900000</td>\n",
       "      <td>2.100000</td>\n",
       "      <td>0.000000</td>\n",
       "    </tr>\n",
       "    <tr>\n",
       "      <th>25%</th>\n",
       "      <td>10.000000</td>\n",
       "      <td>0.000000</td>\n",
       "      <td>0.000000</td>\n",
       "      <td>31.700000</td>\n",
       "      <td>39.000000</td>\n",
       "      <td>NaN</td>\n",
       "      <td>1.002000e+03</td>\n",
       "      <td>0.000000</td>\n",
       "      <td>0.000000</td>\n",
       "      <td>19.000000</td>\n",
       "      <td>0.000000</td>\n",
       "      <td>0.00000</td>\n",
       "      <td>1.500000</td>\n",
       "      <td>50.000000</td>\n",
       "      <td>33.300000</td>\n",
       "      <td>4.900000</td>\n",
       "      <td>0.000000</td>\n",
       "    </tr>\n",
       "    <tr>\n",
       "      <th>50%</th>\n",
       "      <td>15.000000</td>\n",
       "      <td>0.000000</td>\n",
       "      <td>0.000000</td>\n",
       "      <td>35.100000</td>\n",
       "      <td>59.000000</td>\n",
       "      <td>NaN</td>\n",
       "      <td>1.008000e+03</td>\n",
       "      <td>0.000000</td>\n",
       "      <td>0.000000</td>\n",
       "      <td>27.000000</td>\n",
       "      <td>0.000000</td>\n",
       "      <td>0.00000</td>\n",
       "      <td>2.000000</td>\n",
       "      <td>160.000000</td>\n",
       "      <td>37.000000</td>\n",
       "      <td>6.100000</td>\n",
       "      <td>7.400000</td>\n",
       "    </tr>\n",
       "    <tr>\n",
       "      <th>75%</th>\n",
       "      <td>22.000000</td>\n",
       "      <td>0.000000</td>\n",
       "      <td>0.000000</td>\n",
       "      <td>39.200000</td>\n",
       "      <td>78.000000</td>\n",
       "      <td>NaN</td>\n",
       "      <td>1.014000e+03</td>\n",
       "      <td>0.000000</td>\n",
       "      <td>0.000000</td>\n",
       "      <td>32.000000</td>\n",
       "      <td>0.000000</td>\n",
       "      <td>0.00000</td>\n",
       "      <td>3.000000</td>\n",
       "      <td>270.000000</td>\n",
       "      <td>40.700000</td>\n",
       "      <td>6.800000</td>\n",
       "      <td>11.100000</td>\n",
       "    </tr>\n",
       "    <tr>\n",
       "      <th>max</th>\n",
       "      <td>75.000000</td>\n",
       "      <td>1.000000</td>\n",
       "      <td>1.000000</td>\n",
       "      <td>73.600000</td>\n",
       "      <td>243.000000</td>\n",
       "      <td>NaN</td>\n",
       "      <td>1.010614e+08</td>\n",
       "      <td>1.000000</td>\n",
       "      <td>1.000000</td>\n",
       "      <td>90.000000</td>\n",
       "      <td>1.000000</td>\n",
       "      <td>1.00000</td>\n",
       "      <td>6436.000000</td>\n",
       "      <td>960.000000</td>\n",
       "      <td>92.600000</td>\n",
       "      <td>7.300000</td>\n",
       "      <td>1514.900000</td>\n",
       "    </tr>\n",
       "  </tbody>\n",
       "</table>\n",
       "</div>"
      ],
      "text/plain": [
       "              dewptm            fog           hail    heatindexm  \\\n",
       "count  100369.000000  100990.000000  100990.000000  29155.000000   \n",
       "mean       15.741205       0.069690       0.000129     35.651710   \n",
       "std         7.058587       0.254625       0.011345      5.015384   \n",
       "min       -24.000000       0.000000       0.000000     26.800000   \n",
       "25%        10.000000       0.000000       0.000000     31.700000   \n",
       "50%        15.000000       0.000000       0.000000     35.100000   \n",
       "75%        22.000000       0.000000       0.000000     39.200000   \n",
       "max        75.000000       1.000000       1.000000     73.600000   \n",
       "\n",
       "                 hum  precipm     pressurem           rain           snow  \\\n",
       "count  100233.000000      0.0  1.007580e+05  100990.000000  100990.000000   \n",
       "mean       57.909481      NaN  1.932331e+03       0.026260       0.000010   \n",
       "std        23.807771      NaN  3.183786e+05       0.159908       0.003147   \n",
       "min         4.000000      NaN -9.999000e+03       0.000000       0.000000   \n",
       "25%        39.000000      NaN  1.002000e+03       0.000000       0.000000   \n",
       "50%        59.000000      NaN  1.008000e+03       0.000000       0.000000   \n",
       "75%        78.000000      NaN  1.014000e+03       0.000000       0.000000   \n",
       "max       243.000000      NaN  1.010614e+08       1.000000       1.000000   \n",
       "\n",
       "               tempm        thunder       tornado          vism         wdird  \\\n",
       "count  100317.000000  100990.000000  100990.00000  96562.000000  86235.000000   \n",
       "mean       25.451269       0.009427       0.00002      2.402774    163.549974   \n",
       "std         8.482859       0.096633       0.00445     20.746028    120.002076   \n",
       "min         1.000000       0.000000       0.00000      0.000000      0.000000   \n",
       "25%        19.000000       0.000000       0.00000      1.500000     50.000000   \n",
       "50%        27.000000       0.000000       0.00000      2.000000    160.000000   \n",
       "75%        32.000000       0.000000       0.00000      3.000000    270.000000   \n",
       "max        90.000000       1.000000       1.00000   6436.000000    960.000000   \n",
       "\n",
       "            wgustm  windchillm         wspdm  \n",
       "count  1072.000000  579.000000  98632.000000  \n",
       "mean     37.671175    5.713817      7.678463  \n",
       "std       6.848666    1.203290     11.932157  \n",
       "min      25.900000    2.100000      0.000000  \n",
       "25%      33.300000    4.900000      0.000000  \n",
       "50%      37.000000    6.100000      7.400000  \n",
       "75%      40.700000    6.800000     11.100000  \n",
       "max      92.600000    7.300000   1514.900000  "
      ]
     },
     "execution_count": 6,
     "metadata": {},
     "output_type": "execute_result"
    }
   ],
   "source": [
    "# summary statistics\n",
    "data.describe()"
   ]
  },
  {
   "cell_type": "code",
   "execution_count": 7,
   "metadata": {},
   "outputs": [
    {
     "name": "stdout",
     "output_type": "stream",
     "text": [
      "<class 'pandas.core.frame.DataFrame'>\n",
      "RangeIndex: 100990 entries, 0 to 100989\n",
      "Data columns (total 20 columns):\n",
      "datetimeutc    100990 non-null object\n",
      "conds          100918 non-null object\n",
      "dewptm         100369 non-null float64\n",
      "fog            100990 non-null int64\n",
      "hail           100990 non-null int64\n",
      "heatindexm     29155 non-null float64\n",
      "hum            100233 non-null float64\n",
      "precipm        0 non-null float64\n",
      "pressurem      100758 non-null float64\n",
      "rain           100990 non-null int64\n",
      "snow           100990 non-null int64\n",
      "tempm          100317 non-null float64\n",
      "thunder        100990 non-null int64\n",
      "tornado        100990 non-null int64\n",
      "vism           96562 non-null float64\n",
      "wdird          86235 non-null float64\n",
      "wdire          86235 non-null object\n",
      "wgustm         1072 non-null float64\n",
      "windchillm     579 non-null float64\n",
      "wspdm          98632 non-null float64\n",
      "dtypes: float64(11), int64(6), object(3)\n",
      "memory usage: 15.4+ MB\n"
     ]
    }
   ],
   "source": [
    "# gives us the data type of each column, null or not null in the dataset\n",
    "data.info()"
   ]
  },
  {
   "cell_type": "code",
   "execution_count": 8,
   "metadata": {},
   "outputs": [
    {
     "data": {
      "text/plain": [
       "(100990, 20)"
      ]
     },
     "execution_count": 8,
     "metadata": {},
     "output_type": "execute_result"
    }
   ],
   "source": [
    "# to describe the total number of entries and total number of columns\n",
    "data.shape"
   ]
  },
  {
   "cell_type": "markdown",
   "metadata": {},
   "source": [
    "### Data Cleaning"
   ]
  },
  {
   "cell_type": "code",
   "execution_count": 9,
   "metadata": {},
   "outputs": [],
   "source": [
    "#dropping column datetimeutc from the dataset as it is the unique values of recorded dates and time\n",
    "data.drop([\"datetimeutc\"],axis=1,inplace=True)"
   ]
  },
  {
   "cell_type": "code",
   "execution_count": 10,
   "metadata": {},
   "outputs": [
    {
     "name": "stdout",
     "output_type": "stream",
     "text": [
      "conds\n",
      "dewptm\n",
      "heatindexm\n",
      "hum\n",
      "precipm\n",
      "pressurem\n",
      "tempm\n",
      "vism\n",
      "wdird\n",
      "wdire\n",
      "wgustm\n",
      "windchillm\n",
      "wspdm\n"
     ]
    }
   ],
   "source": [
    "#check for missing data, and output columns that have missing data\n",
    "for col in data:\n",
    "    if (data[col].isnull().any()):\n",
    "        print(col)"
   ]
  },
  {
   "cell_type": "code",
   "execution_count": 11,
   "metadata": {},
   "outputs": [
    {
     "data": {
      "text/plain": [
       "conds             72\n",
       "dewptm           621\n",
       "fog                0\n",
       "hail               0\n",
       "heatindexm     71835\n",
       "hum              757\n",
       "precipm       100990\n",
       "pressurem        232\n",
       "rain               0\n",
       "snow               0\n",
       "tempm            673\n",
       "thunder            0\n",
       "tornado            0\n",
       "vism            4428\n",
       "wdird          14755\n",
       "wdire          14755\n",
       "wgustm         99918\n",
       "windchillm    100411\n",
       "wspdm           2358\n",
       "dtype: int64"
      ]
     },
     "execution_count": 11,
     "metadata": {},
     "output_type": "execute_result"
    }
   ],
   "source": [
    "data.isnull().sum()"
   ]
  },
  {
   "cell_type": "code",
   "execution_count": 12,
   "metadata": {},
   "outputs": [
    {
     "data": {
      "text/html": [
       "<div>\n",
       "<style scoped>\n",
       "    .dataframe tbody tr th:only-of-type {\n",
       "        vertical-align: middle;\n",
       "    }\n",
       "\n",
       "    .dataframe tbody tr th {\n",
       "        vertical-align: top;\n",
       "    }\n",
       "\n",
       "    .dataframe thead th {\n",
       "        text-align: right;\n",
       "    }\n",
       "</style>\n",
       "<table border=\"1\" class=\"dataframe\">\n",
       "  <thead>\n",
       "    <tr style=\"text-align: right;\">\n",
       "      <th></th>\n",
       "      <th>conds</th>\n",
       "      <th>dewptm</th>\n",
       "      <th>fog</th>\n",
       "      <th>hail</th>\n",
       "      <th>hum</th>\n",
       "      <th>pressurem</th>\n",
       "      <th>rain</th>\n",
       "      <th>snow</th>\n",
       "      <th>tempm</th>\n",
       "      <th>thunder</th>\n",
       "      <th>tornado</th>\n",
       "      <th>vism</th>\n",
       "      <th>wdird</th>\n",
       "      <th>wdire</th>\n",
       "      <th>wspdm</th>\n",
       "    </tr>\n",
       "  </thead>\n",
       "  <tbody>\n",
       "    <tr>\n",
       "      <th>0</th>\n",
       "      <td>Smoke</td>\n",
       "      <td>9.0</td>\n",
       "      <td>0</td>\n",
       "      <td>0</td>\n",
       "      <td>27.0</td>\n",
       "      <td>1010.0</td>\n",
       "      <td>0</td>\n",
       "      <td>0</td>\n",
       "      <td>30.0</td>\n",
       "      <td>0</td>\n",
       "      <td>0</td>\n",
       "      <td>5.0</td>\n",
       "      <td>280.0</td>\n",
       "      <td>West</td>\n",
       "      <td>7.4</td>\n",
       "    </tr>\n",
       "    <tr>\n",
       "      <th>1</th>\n",
       "      <td>Smoke</td>\n",
       "      <td>10.0</td>\n",
       "      <td>0</td>\n",
       "      <td>0</td>\n",
       "      <td>32.0</td>\n",
       "      <td>-9999.0</td>\n",
       "      <td>0</td>\n",
       "      <td>0</td>\n",
       "      <td>28.0</td>\n",
       "      <td>0</td>\n",
       "      <td>0</td>\n",
       "      <td>NaN</td>\n",
       "      <td>0.0</td>\n",
       "      <td>North</td>\n",
       "      <td>NaN</td>\n",
       "    </tr>\n",
       "    <tr>\n",
       "      <th>2</th>\n",
       "      <td>Smoke</td>\n",
       "      <td>11.0</td>\n",
       "      <td>0</td>\n",
       "      <td>0</td>\n",
       "      <td>44.0</td>\n",
       "      <td>-9999.0</td>\n",
       "      <td>0</td>\n",
       "      <td>0</td>\n",
       "      <td>24.0</td>\n",
       "      <td>0</td>\n",
       "      <td>0</td>\n",
       "      <td>NaN</td>\n",
       "      <td>0.0</td>\n",
       "      <td>North</td>\n",
       "      <td>NaN</td>\n",
       "    </tr>\n",
       "    <tr>\n",
       "      <th>3</th>\n",
       "      <td>Smoke</td>\n",
       "      <td>10.0</td>\n",
       "      <td>0</td>\n",
       "      <td>0</td>\n",
       "      <td>41.0</td>\n",
       "      <td>1010.0</td>\n",
       "      <td>0</td>\n",
       "      <td>0</td>\n",
       "      <td>24.0</td>\n",
       "      <td>0</td>\n",
       "      <td>0</td>\n",
       "      <td>2.0</td>\n",
       "      <td>0.0</td>\n",
       "      <td>North</td>\n",
       "      <td>NaN</td>\n",
       "    </tr>\n",
       "    <tr>\n",
       "      <th>4</th>\n",
       "      <td>Smoke</td>\n",
       "      <td>11.0</td>\n",
       "      <td>0</td>\n",
       "      <td>0</td>\n",
       "      <td>47.0</td>\n",
       "      <td>1011.0</td>\n",
       "      <td>0</td>\n",
       "      <td>0</td>\n",
       "      <td>23.0</td>\n",
       "      <td>0</td>\n",
       "      <td>0</td>\n",
       "      <td>1.2</td>\n",
       "      <td>0.0</td>\n",
       "      <td>North</td>\n",
       "      <td>0.0</td>\n",
       "    </tr>\n",
       "  </tbody>\n",
       "</table>\n",
       "</div>"
      ],
      "text/plain": [
       "   conds  dewptm  fog  hail   hum  pressurem  rain  snow  tempm  thunder  \\\n",
       "0  Smoke     9.0    0     0  27.0     1010.0     0     0   30.0        0   \n",
       "1  Smoke    10.0    0     0  32.0    -9999.0     0     0   28.0        0   \n",
       "2  Smoke    11.0    0     0  44.0    -9999.0     0     0   24.0        0   \n",
       "3  Smoke    10.0    0     0  41.0     1010.0     0     0   24.0        0   \n",
       "4  Smoke    11.0    0     0  47.0     1011.0     0     0   23.0        0   \n",
       "\n",
       "   tornado  vism  wdird  wdire  wspdm  \n",
       "0        0   5.0  280.0   West    7.4  \n",
       "1        0   NaN    0.0  North    NaN  \n",
       "2        0   NaN    0.0  North    NaN  \n",
       "3        0   2.0    0.0  North    NaN  \n",
       "4        0   1.2    0.0  North    0.0  "
      ]
     },
     "execution_count": 12,
     "metadata": {},
     "output_type": "execute_result"
    }
   ],
   "source": [
    "#dropping column precipm,windchillm,wgustm and heatindexm since these column has maximum only null values throughout\n",
    "data.drop([\"heatindexm\",\"precipm\",\"wgustm\",\"windchillm\"],axis=1,inplace=True)\n",
    "data.head()"
   ]
  },
  {
   "cell_type": "code",
   "execution_count": 13,
   "metadata": {},
   "outputs": [
    {
     "data": {
      "text/plain": [
       "conds          58\n",
       "dewptm        604\n",
       "fog             0\n",
       "hail            0\n",
       "hum           730\n",
       "pressurem     156\n",
       "rain            0\n",
       "snow            0\n",
       "tempm         657\n",
       "thunder         0\n",
       "tornado         0\n",
       "vism         4428\n",
       "wdird           0\n",
       "wdire           0\n",
       "wspdm        2356\n",
       "dtype: int64"
      ]
     },
     "execution_count": 13,
     "metadata": {},
     "output_type": "execute_result"
    }
   ],
   "source": [
    "#dropping rows with null values in columns - wdird and wdire\n",
    "data.dropna(subset=['wdird', 'wdire'],inplace=True)\n",
    "data.isnull().sum()"
   ]
  },
  {
   "cell_type": "code",
   "execution_count": 14,
   "metadata": {},
   "outputs": [
    {
     "data": {
      "text/html": [
       "<div>\n",
       "<style scoped>\n",
       "    .dataframe tbody tr th:only-of-type {\n",
       "        vertical-align: middle;\n",
       "    }\n",
       "\n",
       "    .dataframe tbody tr th {\n",
       "        vertical-align: top;\n",
       "    }\n",
       "\n",
       "    .dataframe thead th {\n",
       "        text-align: right;\n",
       "    }\n",
       "</style>\n",
       "<table border=\"1\" class=\"dataframe\">\n",
       "  <thead>\n",
       "    <tr style=\"text-align: right;\">\n",
       "      <th></th>\n",
       "      <th>dewptm</th>\n",
       "      <th>fog</th>\n",
       "      <th>hail</th>\n",
       "      <th>hum</th>\n",
       "      <th>pressurem</th>\n",
       "      <th>rain</th>\n",
       "      <th>snow</th>\n",
       "      <th>tempm</th>\n",
       "      <th>thunder</th>\n",
       "      <th>tornado</th>\n",
       "      <th>vism</th>\n",
       "      <th>wdird</th>\n",
       "      <th>wspdm</th>\n",
       "    </tr>\n",
       "  </thead>\n",
       "  <tbody>\n",
       "    <tr>\n",
       "      <th>count</th>\n",
       "      <td>85631.000000</td>\n",
       "      <td>86235.000000</td>\n",
       "      <td>86235.000000</td>\n",
       "      <td>85505.000000</td>\n",
       "      <td>8.607900e+04</td>\n",
       "      <td>86235.000000</td>\n",
       "      <td>86235.000000</td>\n",
       "      <td>85578.000000</td>\n",
       "      <td>86235.000000</td>\n",
       "      <td>86235.000000</td>\n",
       "      <td>81807.000000</td>\n",
       "      <td>86235.000000</td>\n",
       "      <td>83879.000000</td>\n",
       "    </tr>\n",
       "    <tr>\n",
       "      <th>mean</th>\n",
       "      <td>15.561385</td>\n",
       "      <td>0.062411</td>\n",
       "      <td>0.000128</td>\n",
       "      <td>55.817753</td>\n",
       "      <td>2.089739e+03</td>\n",
       "      <td>0.026497</td>\n",
       "      <td>0.000012</td>\n",
       "      <td>26.078104</td>\n",
       "      <td>0.010008</td>\n",
       "      <td>0.000023</td>\n",
       "      <td>2.557252</td>\n",
       "      <td>163.549974</td>\n",
       "      <td>9.007716</td>\n",
       "    </tr>\n",
       "    <tr>\n",
       "      <th>std</th>\n",
       "      <td>7.164415</td>\n",
       "      <td>0.241902</td>\n",
       "      <td>0.011294</td>\n",
       "      <td>23.749717</td>\n",
       "      <td>3.444571e+05</td>\n",
       "      <td>0.160610</td>\n",
       "      <td>0.003405</td>\n",
       "      <td>8.430999</td>\n",
       "      <td>0.099536</td>\n",
       "      <td>0.004816</td>\n",
       "      <td>22.530848</td>\n",
       "      <td>120.002076</td>\n",
       "      <td>12.359953</td>\n",
       "    </tr>\n",
       "    <tr>\n",
       "      <th>min</th>\n",
       "      <td>-24.000000</td>\n",
       "      <td>0.000000</td>\n",
       "      <td>0.000000</td>\n",
       "      <td>4.000000</td>\n",
       "      <td>-9.999000e+03</td>\n",
       "      <td>0.000000</td>\n",
       "      <td>0.000000</td>\n",
       "      <td>3.000000</td>\n",
       "      <td>0.000000</td>\n",
       "      <td>0.000000</td>\n",
       "      <td>0.000000</td>\n",
       "      <td>0.000000</td>\n",
       "      <td>0.000000</td>\n",
       "    </tr>\n",
       "    <tr>\n",
       "      <th>25%</th>\n",
       "      <td>10.000000</td>\n",
       "      <td>0.000000</td>\n",
       "      <td>0.000000</td>\n",
       "      <td>37.000000</td>\n",
       "      <td>1.002000e+03</td>\n",
       "      <td>0.000000</td>\n",
       "      <td>0.000000</td>\n",
       "      <td>20.000000</td>\n",
       "      <td>0.000000</td>\n",
       "      <td>0.000000</td>\n",
       "      <td>1.800000</td>\n",
       "      <td>50.000000</td>\n",
       "      <td>3.700000</td>\n",
       "    </tr>\n",
       "    <tr>\n",
       "      <th>50%</th>\n",
       "      <td>15.000000</td>\n",
       "      <td>0.000000</td>\n",
       "      <td>0.000000</td>\n",
       "      <td>55.000000</td>\n",
       "      <td>1.008000e+03</td>\n",
       "      <td>0.000000</td>\n",
       "      <td>0.000000</td>\n",
       "      <td>28.000000</td>\n",
       "      <td>0.000000</td>\n",
       "      <td>0.000000</td>\n",
       "      <td>2.200000</td>\n",
       "      <td>160.000000</td>\n",
       "      <td>7.400000</td>\n",
       "    </tr>\n",
       "    <tr>\n",
       "      <th>75%</th>\n",
       "      <td>22.000000</td>\n",
       "      <td>0.000000</td>\n",
       "      <td>0.000000</td>\n",
       "      <td>74.000000</td>\n",
       "      <td>1.014000e+03</td>\n",
       "      <td>0.000000</td>\n",
       "      <td>0.000000</td>\n",
       "      <td>32.000000</td>\n",
       "      <td>0.000000</td>\n",
       "      <td>0.000000</td>\n",
       "      <td>3.000000</td>\n",
       "      <td>270.000000</td>\n",
       "      <td>13.000000</td>\n",
       "    </tr>\n",
       "    <tr>\n",
       "      <th>max</th>\n",
       "      <td>75.000000</td>\n",
       "      <td>1.000000</td>\n",
       "      <td>1.000000</td>\n",
       "      <td>243.000000</td>\n",
       "      <td>1.010614e+08</td>\n",
       "      <td>1.000000</td>\n",
       "      <td>1.000000</td>\n",
       "      <td>72.000000</td>\n",
       "      <td>1.000000</td>\n",
       "      <td>1.000000</td>\n",
       "      <td>6436.000000</td>\n",
       "      <td>960.000000</td>\n",
       "      <td>1514.900000</td>\n",
       "    </tr>\n",
       "  </tbody>\n",
       "</table>\n",
       "</div>"
      ],
      "text/plain": [
       "             dewptm           fog          hail           hum     pressurem  \\\n",
       "count  85631.000000  86235.000000  86235.000000  85505.000000  8.607900e+04   \n",
       "mean      15.561385      0.062411      0.000128     55.817753  2.089739e+03   \n",
       "std        7.164415      0.241902      0.011294     23.749717  3.444571e+05   \n",
       "min      -24.000000      0.000000      0.000000      4.000000 -9.999000e+03   \n",
       "25%       10.000000      0.000000      0.000000     37.000000  1.002000e+03   \n",
       "50%       15.000000      0.000000      0.000000     55.000000  1.008000e+03   \n",
       "75%       22.000000      0.000000      0.000000     74.000000  1.014000e+03   \n",
       "max       75.000000      1.000000      1.000000    243.000000  1.010614e+08   \n",
       "\n",
       "               rain          snow         tempm       thunder       tornado  \\\n",
       "count  86235.000000  86235.000000  85578.000000  86235.000000  86235.000000   \n",
       "mean       0.026497      0.000012     26.078104      0.010008      0.000023   \n",
       "std        0.160610      0.003405      8.430999      0.099536      0.004816   \n",
       "min        0.000000      0.000000      3.000000      0.000000      0.000000   \n",
       "25%        0.000000      0.000000     20.000000      0.000000      0.000000   \n",
       "50%        0.000000      0.000000     28.000000      0.000000      0.000000   \n",
       "75%        0.000000      0.000000     32.000000      0.000000      0.000000   \n",
       "max        1.000000      1.000000     72.000000      1.000000      1.000000   \n",
       "\n",
       "               vism         wdird         wspdm  \n",
       "count  81807.000000  86235.000000  83879.000000  \n",
       "mean       2.557252    163.549974      9.007716  \n",
       "std       22.530848    120.002076     12.359953  \n",
       "min        0.000000      0.000000      0.000000  \n",
       "25%        1.800000     50.000000      3.700000  \n",
       "50%        2.200000    160.000000      7.400000  \n",
       "75%        3.000000    270.000000     13.000000  \n",
       "max     6436.000000    960.000000   1514.900000  "
      ]
     },
     "execution_count": 14,
     "metadata": {},
     "output_type": "execute_result"
    }
   ],
   "source": [
    "data.describe()"
   ]
  },
  {
   "cell_type": "markdown",
   "metadata": {},
   "source": [
    "#### Outliers -"
   ]
  },
  {
   "cell_type": "code",
   "execution_count": 15,
   "metadata": {},
   "outputs": [
    {
     "data": {
      "image/png": "[encoded data removed]",
      "text/plain": [
       "<matplotlib.figure.Figure at 0x2b8be0fc710>"
      ]
     },
     "metadata": {
      "needs_background": "light"
     },
     "output_type": "display_data"
    }
   ],
   "source": [
    "#outliers detection before filling the null values with mean or median\n",
    "fig, ax = plt.subplots(figsize=(25,14))\n",
    "sns.boxplot(x = 'hum',y='tempm', data = data, orient = 'h', width = 0.8, fliersize = 3, showmeans=True, ax = ax)\n",
    "plt.show()"
   ]
  },
  {
   "cell_type": "code",
   "execution_count": 16,
   "metadata": {
    "scrolled": true
   },
   "outputs": [
    {
     "data": {
      "image/png": "[encoded data removed]",
      "text/plain": [
       "<matplotlib.figure.Figure at 0x2b8be10f4e0>"
      ]
     },
     "metadata": {
      "needs_background": "light"
     },
     "output_type": "display_data"
    }
   ],
   "source": [
    "fig, ax = plt.subplots(figsize=(25,14))\n",
    "sns.boxplot(x = 'vism',y='tempm', data = data, orient = 'h', width = 0.8, fliersize = 3, showmeans=True, ax = ax)\n",
    "plt.show()"
   ]
  },
  {
   "cell_type": "code",
   "execution_count": 17,
   "metadata": {
    "scrolled": true
   },
   "outputs": [
    {
     "data": {
      "image/png": "[encoded data removed]",
      "text/plain": [
       "<matplotlib.figure.Figure at 0x2b8c157e4e0>"
      ]
     },
     "metadata": {
      "needs_background": "light"
     },
     "output_type": "display_data"
    }
   ],
   "source": [
    "fig, ax = plt.subplots(figsize=(25,14))\n",
    "sns.boxplot(x = 'wdird',y='tempm', data = data, orient = 'h', width = 0.8, fliersize = 3, showmeans=True, ax = ax)\n",
    "plt.show()"
   ]
  },
  {
   "cell_type": "markdown",
   "metadata": {},
   "source": [
    "Since there are a few outliers we can ignore them"
   ]
  },
  {
   "cell_type": "code",
   "execution_count": 18,
   "metadata": {},
   "outputs": [],
   "source": [
    "#replacing the null values with mean values since mean and median values predicted the same accuracy of the model and\n",
    "#with less number of outliers in the model\n",
    "mean_dewptm=data['dewptm'].mean()\n",
    "data['dewptm']=data['dewptm'].fillna(mean_dewptm)\n",
    "\n",
    "mean_hum=data['hum'].mean()\n",
    "data['hum']=data['hum'].fillna(mean_hum)\n",
    "\n",
    "mean_pressurem=data['pressurem'].mean()\n",
    "data['pressurem']=data['pressurem'].fillna(mean_pressurem)\n",
    "\n",
    "mean_vism=data['vism'].mean()\n",
    "data['vism']=data['vism'].fillna(mean_vism)\n",
    "\n",
    "mean_tempm=data['tempm'].mean()\n",
    "data['tempm']=data['tempm'].fillna(mean_tempm)\n",
    "\n",
    "mean_wspdm=data['wspdm'].mean()\n",
    "data['wspdm']=data['wspdm'].fillna(mean_wspdm)"
   ]
  },
  {
   "cell_type": "code",
   "execution_count": 19,
   "metadata": {},
   "outputs": [
    {
     "data": {
      "text/plain": [
       "conds        58\n",
       "dewptm        0\n",
       "fog           0\n",
       "hail          0\n",
       "hum           0\n",
       "pressurem     0\n",
       "rain          0\n",
       "snow          0\n",
       "tempm         0\n",
       "thunder       0\n",
       "tornado       0\n",
       "vism          0\n",
       "wdird         0\n",
       "wdire         0\n",
       "wspdm         0\n",
       "dtype: int64"
      ]
     },
     "execution_count": 19,
     "metadata": {},
     "output_type": "execute_result"
    }
   ],
   "source": [
    "#checking the number of null values left\n",
    "data.isnull().sum()"
   ]
  },
  {
   "cell_type": "code",
   "execution_count": 20,
   "metadata": {},
   "outputs": [
    {
     "data": {
      "text/plain": [
       "conds        0\n",
       "dewptm       0\n",
       "fog          0\n",
       "hail         0\n",
       "hum          0\n",
       "pressurem    0\n",
       "rain         0\n",
       "snow         0\n",
       "tempm        0\n",
       "thunder      0\n",
       "tornado      0\n",
       "vism         0\n",
       "wdird        0\n",
       "wdire        0\n",
       "wspdm        0\n",
       "dtype: int64"
      ]
     },
     "execution_count": 20,
     "metadata": {},
     "output_type": "execute_result"
    }
   ],
   "source": [
    "#replacing null values in categorical column - conds with value \"\"\n",
    "data['conds'] = data['conds'].fillna('Other_unknown')\n",
    "data.isnull().sum()"
   ]
  },
  {
   "cell_type": "markdown",
   "metadata": {},
   "source": [
    "### Handling Categorical values - conds and wdire"
   ]
  },
  {
   "cell_type": "code",
   "execution_count": 21,
   "metadata": {},
   "outputs": [
    {
     "data": {
      "text/plain": [
       "array(['Smoke', 'Clear', 'Haze', 'Unknown', 'Scattered Clouds',\n",
       "       'Shallow Fog', 'Mostly Cloudy', 'Fog', 'Partly Cloudy',\n",
       "       'Patches of Fog', 'Thunderstorms and Rain', 'Overcast', 'Rain',\n",
       "       'Light Rain', 'Light Drizzle', 'Drizzle', 'Mist', 'Volcanic Ash',\n",
       "       'Thunderstorm', 'Light Thunderstorms and Rain',\n",
       "       'Light Thunderstorm', 'Squalls', 'Heavy Rain', 'Light Haze',\n",
       "       'Sandstorm', 'Widespread Dust', 'Funnel Cloud',\n",
       "       'Heavy Thunderstorms and Rain', 'Heavy Thunderstorms with Hail',\n",
       "       'Light Rain Showers', 'Thunderstorms with Hail', 'Other_unknown',\n",
       "       'Partial Fog', 'Heavy Fog', 'Light Fog', 'Blowing Sand',\n",
       "       'Light Hail Showers', 'Light Sandstorm', 'Light Freezing Rain',\n",
       "       'Rain Showers'], dtype=object)"
      ]
     },
     "execution_count": 21,
     "metadata": {},
     "output_type": "execute_result"
    }
   ],
   "source": [
    "data['conds'].unique() # got more unique result "
   ]
  },
  {
   "cell_type": "code",
   "execution_count": 22,
   "metadata": {},
   "outputs": [
    {
     "name": "stdout",
     "output_type": "stream",
     "text": [
      "40\n"
     ]
    }
   ],
   "source": [
    "# to check count of the distinct categories within the feature \n",
    "print(data['conds'].value_counts().count())"
   ]
  },
  {
   "cell_type": "code",
   "execution_count": 23,
   "metadata": {},
   "outputs": [
    {
     "data": {
      "image/png": "[encoded data removed]",
      "text/plain": [
       "<matplotlib.figure.Figure at 0x2b8c2ac2eb8>"
      ]
     },
     "metadata": {},
     "output_type": "display_data"
    }
   ],
   "source": [
    "#plotting categorical values using bar plots\n",
    "carrier_count = data['conds'].value_counts()\n",
    "sns.set(style=\"darkgrid\")\n",
    "sns.barplot(carrier_count.index, carrier_count.values, alpha=0.9)\n",
    "plt.title('Frequency Distribution')\n",
    "plt.ylabel('Number of Occurrences', fontsize=12)\n",
    "plt.xlabel('Summary', fontsize=12)\n",
    "plt.xticks(rotation=90)\n",
    "plt.show()"
   ]
  },
  {
   "cell_type": "code",
   "execution_count": 24,
   "metadata": {},
   "outputs": [],
   "source": [
    "#handling categorical values groupin it under \"others\" column\n",
    "data['conds']=np.where(data[\"conds\"].isin(['Unknown', 'Scattered Clouds',\n",
    "       'Shallow Fog', 'Mostly Cloudy', 'Fog', 'Partly Cloudy',\n",
    "       'Patches of Fog', 'Thunderstorms and Rain', 'Overcast', \n",
    "       'Light Rain', 'Light Drizzle', 'Drizzle',  'Volcanic Ash',\n",
    "       'Thunderstorm', 'Light Thunderstorms and Rain',\n",
    "       'Light Thunderstorm', 'Squalls', 'Heavy Rain', 'Light Haze',\n",
    "       'Sandstorm', 'Widespread Dust', 'Funnel Cloud',\n",
    "       'Heavy Thunderstorms and Rain', 'Heavy Thunderstorms with Hail',\n",
    "       'Light Rain Showers', 'Thunderstorms with Hail', 'Other',\n",
    "       'Partial Fog', 'Heavy Fog', 'Light Fog', 'Blowing Sand',\n",
    "       'Light Hail Showers', 'Light Sandstorm', 'Light Freezing Rain',\n",
    "       'Rain Showers']),\"Other_Conditions\",data['conds'])"
   ]
  },
  {
   "cell_type": "code",
   "execution_count": 25,
   "metadata": {},
   "outputs": [
    {
     "data": {
      "text/plain": [
       "Haze                42209\n",
       "Smoke               19839\n",
       "Other_Conditions    17230\n",
       "Mist                 3394\n",
       "Clear                3128\n",
       "Rain                  377\n",
       "Other_unknown          58\n",
       "Name: conds, dtype: int64"
      ]
     },
     "execution_count": 25,
     "metadata": {},
     "output_type": "execute_result"
    }
   ],
   "source": [
    "#checking if the values are all grouped under column \"other_unknown\"\n",
    "data[\"conds\"].value_counts()"
   ]
  },
  {
   "cell_type": "markdown",
   "metadata": {},
   "source": [
    "Dummy variables (also known as an indicator variable, design variable, Boolean indicator, categorical variable, binary variable, or qualitative variable) is one that takes the value 0 or 1 to indicate the absence or presence of some categorical effect that may be expected to shift the outcome"
   ]
  },
  {
   "cell_type": "code",
   "execution_count": 26,
   "metadata": {},
   "outputs": [],
   "source": [
    "#creating dummies variables and dropping the initial column - Summary\n",
    "data=pd.get_dummies(data,columns=['conds'], drop_first= True)"
   ]
  },
  {
   "cell_type": "code",
   "execution_count": 27,
   "metadata": {},
   "outputs": [
    {
     "data": {
      "text/html": [
       "<div>\n",
       "<style scoped>\n",
       "    .dataframe tbody tr th:only-of-type {\n",
       "        vertical-align: middle;\n",
       "    }\n",
       "\n",
       "    .dataframe tbody tr th {\n",
       "        vertical-align: top;\n",
       "    }\n",
       "\n",
       "    .dataframe thead th {\n",
       "        text-align: right;\n",
       "    }\n",
       "</style>\n",
       "<table border=\"1\" class=\"dataframe\">\n",
       "  <thead>\n",
       "    <tr style=\"text-align: right;\">\n",
       "      <th></th>\n",
       "      <th>dewptm</th>\n",
       "      <th>fog</th>\n",
       "      <th>hail</th>\n",
       "      <th>hum</th>\n",
       "      <th>pressurem</th>\n",
       "      <th>rain</th>\n",
       "      <th>snow</th>\n",
       "      <th>tempm</th>\n",
       "      <th>thunder</th>\n",
       "      <th>tornado</th>\n",
       "      <th>vism</th>\n",
       "      <th>wdird</th>\n",
       "      <th>wdire</th>\n",
       "      <th>wspdm</th>\n",
       "      <th>conds_Haze</th>\n",
       "      <th>conds_Mist</th>\n",
       "      <th>conds_Other_Conditions</th>\n",
       "      <th>conds_Other_unknown</th>\n",
       "      <th>conds_Rain</th>\n",
       "      <th>conds_Smoke</th>\n",
       "    </tr>\n",
       "  </thead>\n",
       "  <tbody>\n",
       "    <tr>\n",
       "      <th>0</th>\n",
       "      <td>9.0</td>\n",
       "      <td>0</td>\n",
       "      <td>0</td>\n",
       "      <td>27.0</td>\n",
       "      <td>1010.0</td>\n",
       "      <td>0</td>\n",
       "      <td>0</td>\n",
       "      <td>30.0</td>\n",
       "      <td>0</td>\n",
       "      <td>0</td>\n",
       "      <td>5.000000</td>\n",
       "      <td>280.0</td>\n",
       "      <td>West</td>\n",
       "      <td>7.400000</td>\n",
       "      <td>0</td>\n",
       "      <td>0</td>\n",
       "      <td>0</td>\n",
       "      <td>0</td>\n",
       "      <td>0</td>\n",
       "      <td>1</td>\n",
       "    </tr>\n",
       "    <tr>\n",
       "      <th>1</th>\n",
       "      <td>10.0</td>\n",
       "      <td>0</td>\n",
       "      <td>0</td>\n",
       "      <td>32.0</td>\n",
       "      <td>-9999.0</td>\n",
       "      <td>0</td>\n",
       "      <td>0</td>\n",
       "      <td>28.0</td>\n",
       "      <td>0</td>\n",
       "      <td>0</td>\n",
       "      <td>2.557252</td>\n",
       "      <td>0.0</td>\n",
       "      <td>North</td>\n",
       "      <td>9.007716</td>\n",
       "      <td>0</td>\n",
       "      <td>0</td>\n",
       "      <td>0</td>\n",
       "      <td>0</td>\n",
       "      <td>0</td>\n",
       "      <td>1</td>\n",
       "    </tr>\n",
       "    <tr>\n",
       "      <th>2</th>\n",
       "      <td>11.0</td>\n",
       "      <td>0</td>\n",
       "      <td>0</td>\n",
       "      <td>44.0</td>\n",
       "      <td>-9999.0</td>\n",
       "      <td>0</td>\n",
       "      <td>0</td>\n",
       "      <td>24.0</td>\n",
       "      <td>0</td>\n",
       "      <td>0</td>\n",
       "      <td>2.557252</td>\n",
       "      <td>0.0</td>\n",
       "      <td>North</td>\n",
       "      <td>9.007716</td>\n",
       "      <td>0</td>\n",
       "      <td>0</td>\n",
       "      <td>0</td>\n",
       "      <td>0</td>\n",
       "      <td>0</td>\n",
       "      <td>1</td>\n",
       "    </tr>\n",
       "    <tr>\n",
       "      <th>3</th>\n",
       "      <td>10.0</td>\n",
       "      <td>0</td>\n",
       "      <td>0</td>\n",
       "      <td>41.0</td>\n",
       "      <td>1010.0</td>\n",
       "      <td>0</td>\n",
       "      <td>0</td>\n",
       "      <td>24.0</td>\n",
       "      <td>0</td>\n",
       "      <td>0</td>\n",
       "      <td>2.000000</td>\n",
       "      <td>0.0</td>\n",
       "      <td>North</td>\n",
       "      <td>9.007716</td>\n",
       "      <td>0</td>\n",
       "      <td>0</td>\n",
       "      <td>0</td>\n",
       "      <td>0</td>\n",
       "      <td>0</td>\n",
       "      <td>1</td>\n",
       "    </tr>\n",
       "    <tr>\n",
       "      <th>4</th>\n",
       "      <td>11.0</td>\n",
       "      <td>0</td>\n",
       "      <td>0</td>\n",
       "      <td>47.0</td>\n",
       "      <td>1011.0</td>\n",
       "      <td>0</td>\n",
       "      <td>0</td>\n",
       "      <td>23.0</td>\n",
       "      <td>0</td>\n",
       "      <td>0</td>\n",
       "      <td>1.200000</td>\n",
       "      <td>0.0</td>\n",
       "      <td>North</td>\n",
       "      <td>0.000000</td>\n",
       "      <td>0</td>\n",
       "      <td>0</td>\n",
       "      <td>0</td>\n",
       "      <td>0</td>\n",
       "      <td>0</td>\n",
       "      <td>1</td>\n",
       "    </tr>\n",
       "  </tbody>\n",
       "</table>\n",
       "</div>"
      ],
      "text/plain": [
       "   dewptm  fog  hail   hum  pressurem  rain  snow  tempm  thunder  tornado  \\\n",
       "0     9.0    0     0  27.0     1010.0     0     0   30.0        0        0   \n",
       "1    10.0    0     0  32.0    -9999.0     0     0   28.0        0        0   \n",
       "2    11.0    0     0  44.0    -9999.0     0     0   24.0        0        0   \n",
       "3    10.0    0     0  41.0     1010.0     0     0   24.0        0        0   \n",
       "4    11.0    0     0  47.0     1011.0     0     0   23.0        0        0   \n",
       "\n",
       "       vism  wdird  wdire     wspdm  conds_Haze  conds_Mist  \\\n",
       "0  5.000000  280.0   West  7.400000           0           0   \n",
       "1  2.557252    0.0  North  9.007716           0           0   \n",
       "2  2.557252    0.0  North  9.007716           0           0   \n",
       "3  2.000000    0.0  North  9.007716           0           0   \n",
       "4  1.200000    0.0  North  0.000000           0           0   \n",
       "\n",
       "   conds_Other_Conditions  conds_Other_unknown  conds_Rain  conds_Smoke  \n",
       "0                       0                    0           0            1  \n",
       "1                       0                    0           0            1  \n",
       "2                       0                    0           0            1  \n",
       "3                       0                    0           0            1  \n",
       "4                       0                    0           0            1  "
      ]
     },
     "execution_count": 27,
     "metadata": {},
     "output_type": "execute_result"
    }
   ],
   "source": [
    "data.head()"
   ]
  },
  {
   "cell_type": "code",
   "execution_count": 28,
   "metadata": {},
   "outputs": [
    {
     "data": {
      "text/plain": [
       "array(['West', 'North', 'SSW', 'WSW', 'NNE', 'SW', 'WNW', 'NW', 'SSE',\n",
       "       'East', 'ENE', 'ESE', 'SE', 'NE', 'NNW', 'South', 'Variable'],\n",
       "      dtype=object)"
      ]
     },
     "execution_count": 28,
     "metadata": {},
     "output_type": "execute_result"
    }
   ],
   "source": [
    "#handling wdire categorical values\n",
    "data['wdire'].unique()"
   ]
  },
  {
   "cell_type": "code",
   "execution_count": 29,
   "metadata": {},
   "outputs": [
    {
     "data": {
      "text/plain": [
       "North       19034\n",
       "West        11888\n",
       "WNW          7464\n",
       "East         7233\n",
       "NW           7117\n",
       "WSW          5466\n",
       "ESE          5336\n",
       "ENE          3721\n",
       "SE           3513\n",
       "SW           3200\n",
       "NNW          2696\n",
       "NE           2500\n",
       "SSE          2052\n",
       "NNE          1752\n",
       "SSW          1715\n",
       "South        1543\n",
       "Variable        5\n",
       "Name: wdire, dtype: int64"
      ]
     },
     "execution_count": 29,
     "metadata": {},
     "output_type": "execute_result"
    }
   ],
   "source": [
    "#checking the count of values for categorical values\n",
    "data['wdire'].value_counts()"
   ]
  },
  {
   "cell_type": "code",
   "execution_count": 30,
   "metadata": {},
   "outputs": [
    {
     "name": "stdout",
     "output_type": "stream",
     "text": [
      "17\n"
     ]
    }
   ],
   "source": [
    "# to check count of the distinct categories within the feature \n",
    "print(data['wdire'].value_counts().count())"
   ]
  },
  {
   "cell_type": "code",
   "execution_count": 31,
   "metadata": {},
   "outputs": [
    {
     "data": {
      "image/png": "[encoded data removed]",
      "text/plain": [
       "<matplotlib.figure.Figure at 0x2b8c1571048>"
      ]
     },
     "metadata": {},
     "output_type": "display_data"
    }
   ],
   "source": [
    "#plotting categorical values using a bar plots\n",
    "carrier_count = data['wdire'].value_counts()\n",
    "sns.set(style=\"darkgrid\")\n",
    "sns.barplot(carrier_count.index, carrier_count.values, alpha=0.9)\n",
    "plt.title('Frequency Distribution')\n",
    "plt.ylabel('Number of Occurrences', fontsize=12)\n",
    "plt.xlabel('Summary', fontsize=12)\n",
    "plt.xticks(rotation=90)\n",
    "plt.show()"
   ]
  },
  {
   "cell_type": "code",
   "execution_count": 32,
   "metadata": {},
   "outputs": [],
   "source": [
    "#handling categorical values groupin it under \"others\" column\n",
    "data[\"wdire\"]=np.where(data[\"wdire\"].isin(['SSW', 'WSW', 'NNE', 'SW', 'WNW', 'NW', 'SSE',\n",
    "        'ENE', 'ESE', 'SE', 'NE', 'NNW', 'Variable']),\"Others\",data[\"wdire\"])"
   ]
  },
  {
   "cell_type": "code",
   "execution_count": 33,
   "metadata": {},
   "outputs": [
    {
     "data": {
      "text/plain": [
       "Others    46537\n",
       "North     19034\n",
       "West      11888\n",
       "East       7233\n",
       "South      1543\n",
       "Name: wdire, dtype: int64"
      ]
     },
     "execution_count": 33,
     "metadata": {},
     "output_type": "execute_result"
    }
   ],
   "source": [
    "#checking if the values are all grouped under column \"others\"\n",
    "data[\"wdire\"].value_counts()"
   ]
  },
  {
   "cell_type": "code",
   "execution_count": 34,
   "metadata": {},
   "outputs": [],
   "source": [
    "#creating dummies variables and dropping the initial column - Summary\n",
    "data=pd.get_dummies(data,columns=['wdire'], drop_first= True)"
   ]
  },
  {
   "cell_type": "code",
   "execution_count": 35,
   "metadata": {},
   "outputs": [
    {
     "data": {
      "text/plain": [
       "Index(['dewptm', 'fog', 'hail', 'hum', 'pressurem', 'rain', 'snow', 'tempm',\n",
       "       'thunder', 'tornado', 'vism', 'wdird', 'wspdm', 'conds_Haze',\n",
       "       'conds_Mist', 'conds_Other_Conditions', 'conds_Other_unknown',\n",
       "       'conds_Rain', 'conds_Smoke', 'wdire_North', 'wdire_Others',\n",
       "       'wdire_South', 'wdire_West'],\n",
       "      dtype='object')"
      ]
     },
     "execution_count": 35,
     "metadata": {},
     "output_type": "execute_result"
    }
   ],
   "source": [
    "# cross checking the count of values for categorical values\n",
    "data.columns"
   ]
  },
  {
   "cell_type": "markdown",
   "metadata": {},
   "source": [
    "Feature scaling - It is a method done during pre-processing of data to range all the variables on the same scale either\n",
    "in a range of 0-1 or a range of 1-10 so that all the features are on the same scale else it would be irrelevant to be \n",
    "comparing or building any kind  of models."
   ]
  },
  {
   "cell_type": "code",
   "execution_count": 36,
   "metadata": {},
   "outputs": [],
   "source": [
    "#feature scaling\n",
    "from sklearn import preprocessing\n",
    "scaler = preprocessing.MinMaxScaler(feature_range=(0,1))\n",
    "scaler.fit(data)\n",
    "data = pd.DataFrame(scaler.transform(data), index=data.index, columns=data.columns)\n"
   ]
  },
  {
   "cell_type": "code",
   "execution_count": 37,
   "metadata": {},
   "outputs": [
    {
     "data": {
      "text/html": [
       "<div>\n",
       "<style scoped>\n",
       "    .dataframe tbody tr th:only-of-type {\n",
       "        vertical-align: middle;\n",
       "    }\n",
       "\n",
       "    .dataframe tbody tr th {\n",
       "        vertical-align: top;\n",
       "    }\n",
       "\n",
       "    .dataframe thead th {\n",
       "        text-align: right;\n",
       "    }\n",
       "</style>\n",
       "<table border=\"1\" class=\"dataframe\">\n",
       "  <thead>\n",
       "    <tr style=\"text-align: right;\">\n",
       "      <th></th>\n",
       "      <th>dewptm</th>\n",
       "      <th>fog</th>\n",
       "      <th>hail</th>\n",
       "      <th>hum</th>\n",
       "      <th>pressurem</th>\n",
       "      <th>rain</th>\n",
       "      <th>snow</th>\n",
       "      <th>tempm</th>\n",
       "      <th>thunder</th>\n",
       "      <th>tornado</th>\n",
       "      <th>...</th>\n",
       "      <th>conds_Haze</th>\n",
       "      <th>conds_Mist</th>\n",
       "      <th>conds_Other_Conditions</th>\n",
       "      <th>conds_Other_unknown</th>\n",
       "      <th>conds_Rain</th>\n",
       "      <th>conds_Smoke</th>\n",
       "      <th>wdire_North</th>\n",
       "      <th>wdire_Others</th>\n",
       "      <th>wdire_South</th>\n",
       "      <th>wdire_West</th>\n",
       "    </tr>\n",
       "  </thead>\n",
       "  <tbody>\n",
       "    <tr>\n",
       "      <th>0</th>\n",
       "      <td>0.333333</td>\n",
       "      <td>0.0</td>\n",
       "      <td>0.0</td>\n",
       "      <td>0.096234</td>\n",
       "      <td>0.000109</td>\n",
       "      <td>0.0</td>\n",
       "      <td>0.0</td>\n",
       "      <td>0.391304</td>\n",
       "      <td>0.0</td>\n",
       "      <td>0.0</td>\n",
       "      <td>...</td>\n",
       "      <td>0.0</td>\n",
       "      <td>0.0</td>\n",
       "      <td>0.0</td>\n",
       "      <td>0.0</td>\n",
       "      <td>0.0</td>\n",
       "      <td>1.0</td>\n",
       "      <td>0.0</td>\n",
       "      <td>0.0</td>\n",
       "      <td>0.0</td>\n",
       "      <td>1.0</td>\n",
       "    </tr>\n",
       "    <tr>\n",
       "      <th>1</th>\n",
       "      <td>0.343434</td>\n",
       "      <td>0.0</td>\n",
       "      <td>0.0</td>\n",
       "      <td>0.117155</td>\n",
       "      <td>0.000000</td>\n",
       "      <td>0.0</td>\n",
       "      <td>0.0</td>\n",
       "      <td>0.362319</td>\n",
       "      <td>0.0</td>\n",
       "      <td>0.0</td>\n",
       "      <td>...</td>\n",
       "      <td>0.0</td>\n",
       "      <td>0.0</td>\n",
       "      <td>0.0</td>\n",
       "      <td>0.0</td>\n",
       "      <td>0.0</td>\n",
       "      <td>1.0</td>\n",
       "      <td>1.0</td>\n",
       "      <td>0.0</td>\n",
       "      <td>0.0</td>\n",
       "      <td>0.0</td>\n",
       "    </tr>\n",
       "    <tr>\n",
       "      <th>2</th>\n",
       "      <td>0.353535</td>\n",
       "      <td>0.0</td>\n",
       "      <td>0.0</td>\n",
       "      <td>0.167364</td>\n",
       "      <td>0.000000</td>\n",
       "      <td>0.0</td>\n",
       "      <td>0.0</td>\n",
       "      <td>0.304348</td>\n",
       "      <td>0.0</td>\n",
       "      <td>0.0</td>\n",
       "      <td>...</td>\n",
       "      <td>0.0</td>\n",
       "      <td>0.0</td>\n",
       "      <td>0.0</td>\n",
       "      <td>0.0</td>\n",
       "      <td>0.0</td>\n",
       "      <td>1.0</td>\n",
       "      <td>1.0</td>\n",
       "      <td>0.0</td>\n",
       "      <td>0.0</td>\n",
       "      <td>0.0</td>\n",
       "    </tr>\n",
       "    <tr>\n",
       "      <th>3</th>\n",
       "      <td>0.343434</td>\n",
       "      <td>0.0</td>\n",
       "      <td>0.0</td>\n",
       "      <td>0.154812</td>\n",
       "      <td>0.000109</td>\n",
       "      <td>0.0</td>\n",
       "      <td>0.0</td>\n",
       "      <td>0.304348</td>\n",
       "      <td>0.0</td>\n",
       "      <td>0.0</td>\n",
       "      <td>...</td>\n",
       "      <td>0.0</td>\n",
       "      <td>0.0</td>\n",
       "      <td>0.0</td>\n",
       "      <td>0.0</td>\n",
       "      <td>0.0</td>\n",
       "      <td>1.0</td>\n",
       "      <td>1.0</td>\n",
       "      <td>0.0</td>\n",
       "      <td>0.0</td>\n",
       "      <td>0.0</td>\n",
       "    </tr>\n",
       "    <tr>\n",
       "      <th>4</th>\n",
       "      <td>0.353535</td>\n",
       "      <td>0.0</td>\n",
       "      <td>0.0</td>\n",
       "      <td>0.179916</td>\n",
       "      <td>0.000109</td>\n",
       "      <td>0.0</td>\n",
       "      <td>0.0</td>\n",
       "      <td>0.289855</td>\n",
       "      <td>0.0</td>\n",
       "      <td>0.0</td>\n",
       "      <td>...</td>\n",
       "      <td>0.0</td>\n",
       "      <td>0.0</td>\n",
       "      <td>0.0</td>\n",
       "      <td>0.0</td>\n",
       "      <td>0.0</td>\n",
       "      <td>1.0</td>\n",
       "      <td>1.0</td>\n",
       "      <td>0.0</td>\n",
       "      <td>0.0</td>\n",
       "      <td>0.0</td>\n",
       "    </tr>\n",
       "    <tr>\n",
       "      <th>5</th>\n",
       "      <td>0.363636</td>\n",
       "      <td>0.0</td>\n",
       "      <td>0.0</td>\n",
       "      <td>0.217573</td>\n",
       "      <td>0.000109</td>\n",
       "      <td>0.0</td>\n",
       "      <td>0.0</td>\n",
       "      <td>0.260870</td>\n",
       "      <td>0.0</td>\n",
       "      <td>0.0</td>\n",
       "      <td>...</td>\n",
       "      <td>0.0</td>\n",
       "      <td>0.0</td>\n",
       "      <td>0.0</td>\n",
       "      <td>0.0</td>\n",
       "      <td>0.0</td>\n",
       "      <td>1.0</td>\n",
       "      <td>1.0</td>\n",
       "      <td>0.0</td>\n",
       "      <td>0.0</td>\n",
       "      <td>0.0</td>\n",
       "    </tr>\n",
       "    <tr>\n",
       "      <th>6</th>\n",
       "      <td>0.373737</td>\n",
       "      <td>0.0</td>\n",
       "      <td>0.0</td>\n",
       "      <td>0.234310</td>\n",
       "      <td>0.000109</td>\n",
       "      <td>0.0</td>\n",
       "      <td>0.0</td>\n",
       "      <td>0.260870</td>\n",
       "      <td>0.0</td>\n",
       "      <td>0.0</td>\n",
       "      <td>...</td>\n",
       "      <td>0.0</td>\n",
       "      <td>0.0</td>\n",
       "      <td>0.0</td>\n",
       "      <td>0.0</td>\n",
       "      <td>0.0</td>\n",
       "      <td>1.0</td>\n",
       "      <td>1.0</td>\n",
       "      <td>0.0</td>\n",
       "      <td>0.0</td>\n",
       "      <td>0.0</td>\n",
       "    </tr>\n",
       "    <tr>\n",
       "      <th>7</th>\n",
       "      <td>0.373737</td>\n",
       "      <td>0.0</td>\n",
       "      <td>0.0</td>\n",
       "      <td>0.234310</td>\n",
       "      <td>0.000000</td>\n",
       "      <td>0.0</td>\n",
       "      <td>0.0</td>\n",
       "      <td>0.260870</td>\n",
       "      <td>0.0</td>\n",
       "      <td>0.0</td>\n",
       "      <td>...</td>\n",
       "      <td>0.0</td>\n",
       "      <td>0.0</td>\n",
       "      <td>0.0</td>\n",
       "      <td>0.0</td>\n",
       "      <td>0.0</td>\n",
       "      <td>1.0</td>\n",
       "      <td>1.0</td>\n",
       "      <td>0.0</td>\n",
       "      <td>0.0</td>\n",
       "      <td>0.0</td>\n",
       "    </tr>\n",
       "    <tr>\n",
       "      <th>8</th>\n",
       "      <td>0.373737</td>\n",
       "      <td>0.0</td>\n",
       "      <td>0.0</td>\n",
       "      <td>0.267782</td>\n",
       "      <td>0.000000</td>\n",
       "      <td>0.0</td>\n",
       "      <td>0.0</td>\n",
       "      <td>0.231884</td>\n",
       "      <td>0.0</td>\n",
       "      <td>0.0</td>\n",
       "      <td>...</td>\n",
       "      <td>0.0</td>\n",
       "      <td>0.0</td>\n",
       "      <td>0.0</td>\n",
       "      <td>0.0</td>\n",
       "      <td>0.0</td>\n",
       "      <td>1.0</td>\n",
       "      <td>1.0</td>\n",
       "      <td>0.0</td>\n",
       "      <td>0.0</td>\n",
       "      <td>0.0</td>\n",
       "    </tr>\n",
       "    <tr>\n",
       "      <th>9</th>\n",
       "      <td>0.373737</td>\n",
       "      <td>0.0</td>\n",
       "      <td>0.0</td>\n",
       "      <td>0.267782</td>\n",
       "      <td>0.000109</td>\n",
       "      <td>0.0</td>\n",
       "      <td>0.0</td>\n",
       "      <td>0.231884</td>\n",
       "      <td>0.0</td>\n",
       "      <td>0.0</td>\n",
       "      <td>...</td>\n",
       "      <td>0.0</td>\n",
       "      <td>0.0</td>\n",
       "      <td>0.0</td>\n",
       "      <td>0.0</td>\n",
       "      <td>0.0</td>\n",
       "      <td>1.0</td>\n",
       "      <td>1.0</td>\n",
       "      <td>0.0</td>\n",
       "      <td>0.0</td>\n",
       "      <td>0.0</td>\n",
       "    </tr>\n",
       "  </tbody>\n",
       "</table>\n",
       "<p>10 rows × 23 columns</p>\n",
       "</div>"
      ],
      "text/plain": [
       "     dewptm  fog  hail       hum  pressurem  rain  snow     tempm  thunder  \\\n",
       "0  0.333333  0.0   0.0  0.096234   0.000109   0.0   0.0  0.391304      0.0   \n",
       "1  0.343434  0.0   0.0  0.117155   0.000000   0.0   0.0  0.362319      0.0   \n",
       "2  0.353535  0.0   0.0  0.167364   0.000000   0.0   0.0  0.304348      0.0   \n",
       "3  0.343434  0.0   0.0  0.154812   0.000109   0.0   0.0  0.304348      0.0   \n",
       "4  0.353535  0.0   0.0  0.179916   0.000109   0.0   0.0  0.289855      0.0   \n",
       "5  0.363636  0.0   0.0  0.217573   0.000109   0.0   0.0  0.260870      0.0   \n",
       "6  0.373737  0.0   0.0  0.234310   0.000109   0.0   0.0  0.260870      0.0   \n",
       "7  0.373737  0.0   0.0  0.234310   0.000000   0.0   0.0  0.260870      0.0   \n",
       "8  0.373737  0.0   0.0  0.267782   0.000000   0.0   0.0  0.231884      0.0   \n",
       "9  0.373737  0.0   0.0  0.267782   0.000109   0.0   0.0  0.231884      0.0   \n",
       "\n",
       "   tornado  ...  conds_Haze  conds_Mist  conds_Other_Conditions  \\\n",
       "0      0.0  ...         0.0         0.0                     0.0   \n",
       "1      0.0  ...         0.0         0.0                     0.0   \n",
       "2      0.0  ...         0.0         0.0                     0.0   \n",
       "3      0.0  ...         0.0         0.0                     0.0   \n",
       "4      0.0  ...         0.0         0.0                     0.0   \n",
       "5      0.0  ...         0.0         0.0                     0.0   \n",
       "6      0.0  ...         0.0         0.0                     0.0   \n",
       "7      0.0  ...         0.0         0.0                     0.0   \n",
       "8      0.0  ...         0.0         0.0                     0.0   \n",
       "9      0.0  ...         0.0         0.0                     0.0   \n",
       "\n",
       "   conds_Other_unknown  conds_Rain  conds_Smoke  wdire_North  wdire_Others  \\\n",
       "0                  0.0         0.0          1.0          0.0           0.0   \n",
       "1                  0.0         0.0          1.0          1.0           0.0   \n",
       "2                  0.0         0.0          1.0          1.0           0.0   \n",
       "3                  0.0         0.0          1.0          1.0           0.0   \n",
       "4                  0.0         0.0          1.0          1.0           0.0   \n",
       "5                  0.0         0.0          1.0          1.0           0.0   \n",
       "6                  0.0         0.0          1.0          1.0           0.0   \n",
       "7                  0.0         0.0          1.0          1.0           0.0   \n",
       "8                  0.0         0.0          1.0          1.0           0.0   \n",
       "9                  0.0         0.0          1.0          1.0           0.0   \n",
       "\n",
       "   wdire_South  wdire_West  \n",
       "0          0.0         1.0  \n",
       "1          0.0         0.0  \n",
       "2          0.0         0.0  \n",
       "3          0.0         0.0  \n",
       "4          0.0         0.0  \n",
       "5          0.0         0.0  \n",
       "6          0.0         0.0  \n",
       "7          0.0         0.0  \n",
       "8          0.0         0.0  \n",
       "9          0.0         0.0  \n",
       "\n",
       "[10 rows x 23 columns]"
      ]
     },
     "execution_count": 37,
     "metadata": {},
     "output_type": "execute_result"
    }
   ],
   "source": [
    "data.head(10)"
   ]
  },
  {
   "cell_type": "markdown",
   "metadata": {},
   "source": [
    "### Feature Selection"
   ]
  },
  {
   "cell_type": "markdown",
   "metadata": {},
   "source": [
    "Correlation matrix with heatmap helps us determine how the features are related to with each other. It can either be positive\n",
    "or negative meaning increase in one of the value of features incraeses the target variable and decrease in one value of the \n",
    "feature decreases the value of target variable"
   ]
  },
  {
   "cell_type": "code",
   "execution_count": 38,
   "metadata": {},
   "outputs": [
    {
     "name": "stdout",
     "output_type": "stream",
     "text": [
      "tempm                     1.000000\n",
      "dewptm                    0.511014\n",
      "conds_Haze                0.401594\n",
      "wspdm                     0.188605\n",
      "wdire_Others              0.173152\n",
      "wdird                     0.155818\n",
      "wdire_South               0.051422\n",
      "vism                      0.028285\n",
      "pressurem                 0.004861\n",
      "conds_Other_unknown       0.002104\n",
      "tornado                   0.001102\n",
      "snow                     -0.000032\n",
      "hail                     -0.003773\n",
      "thunder                  -0.008319\n",
      "wdire_West               -0.010303\n",
      "conds_Rain               -0.013583\n",
      "rain                     -0.021656\n",
      "conds_Other_Conditions   -0.129265\n",
      "conds_Mist               -0.131384\n",
      "wdire_North              -0.252385\n",
      "conds_Smoke              -0.303134\n",
      "fog                      -0.451268\n",
      "hum                      -0.575128\n",
      "Name: tempm, dtype: float64\n"
     ]
    }
   ],
   "source": [
    "corr=data.corr()\n",
    "corr.sort_values([\"tempm\"], ascending = False, inplace = True)\n",
    "print(corr.tempm)"
   ]
  },
  {
   "cell_type": "code",
   "execution_count": 39,
   "metadata": {
    "scrolled": false
   },
   "outputs": [
    {
     "data": {
      "text/plain": [
       "<matplotlib.axes._subplots.AxesSubplot at 0x2b8c0f32940>"
      ]
     },
     "execution_count": 39,
     "metadata": {},
     "output_type": "execute_result"
    },
    {
     "data": {
      "image/png": "[encoded data removed]",
      "text/plain": [
       "<matplotlib.figure.Figure at 0x2b8c107abe0>"
      ]
     },
     "metadata": {},
     "output_type": "display_data"
    }
   ],
   "source": [
    "plt.figure(figsize=(22,22))\n",
    "sns.heatmap(data.corr(),annot=True,cmap=\"RdYlGn\")"
   ]
  },
  {
   "cell_type": "markdown",
   "metadata": {},
   "source": [
    "Based on the observation from the above heatmap, dewptm is highly correlated with temperature (taking into consideration the basolute values) followed by hum, fog, conds_smoke,conds_Haze,wdird, wspdm, conds_smoke, wdire_North, smoke, conds_Mist, wdire_others. "
   ]
  },
  {
   "cell_type": "code",
   "execution_count": 40,
   "metadata": {},
   "outputs": [
    {
     "data": {
      "text/plain": [
       "<matplotlib.axes._subplots.AxesSubplot at 0x2b8c0457278>"
      ]
     },
     "execution_count": 40,
     "metadata": {},
     "output_type": "execute_result"
    },
    {
     "data": {
      "image/png": "[encoded data removed]",
      "text/plain": [
       "<matplotlib.figure.Figure at 0x2b8bea93f60>"
      ]
     },
     "metadata": {},
     "output_type": "display_data"
    }
   ],
   "source": [
    "plt.figure(figsize=(10,10))\n",
    "sns.regplot(x=\"dewptm\", y=\"tempm\", data=data)"
   ]
  },
  {
   "cell_type": "code",
   "execution_count": 41,
   "metadata": {},
   "outputs": [
    {
     "data": {
      "text/plain": [
       "<matplotlib.axes._subplots.AxesSubplot at 0x2b8c1202ac8>"
      ]
     },
     "execution_count": 41,
     "metadata": {},
     "output_type": "execute_result"
    },
    {
     "data": {
      "image/png": "[encoded data removed]",
      "text/plain": [
       "<matplotlib.figure.Figure at 0x2b8c1313ba8>"
      ]
     },
     "metadata": {},
     "output_type": "display_data"
    }
   ],
   "source": [
    "plt.figure(figsize=(10,10))\n",
    "sns.regplot(x=\"hum\", y=\"tempm\", data=data)"
   ]
  },
  {
   "cell_type": "code",
   "execution_count": 42,
   "metadata": {},
   "outputs": [
    {
     "data": {
      "text/plain": [
       "<matplotlib.axes._subplots.AxesSubplot at 0x2b8c14b3c50>"
      ]
     },
     "execution_count": 42,
     "metadata": {},
     "output_type": "execute_result"
    },
    {
     "data": {
      "image/png": "[encoded data removed]",
      "text/plain": [
       "<matplotlib.figure.Figure at 0x2b8c0f1b128>"
      ]
     },
     "metadata": {},
     "output_type": "display_data"
    }
   ],
   "source": [
    "plt.figure(figsize=(10,10))\n",
    "sns.regplot(x=\"wspdm\", y=\"tempm\", data=data)"
   ]
  },
  {
   "cell_type": "code",
   "execution_count": 43,
   "metadata": {},
   "outputs": [
    {
     "data": {
      "text/plain": [
       "<matplotlib.axes._subplots.AxesSubplot at 0x2b8c1057550>"
      ]
     },
     "execution_count": 43,
     "metadata": {},
     "output_type": "execute_result"
    },
    {
     "data": {
      "image/png": "[encoded data removed]",
      "text/plain": [
       "<matplotlib.figure.Figure at 0x2b8beaf37f0>"
      ]
     },
     "metadata": {},
     "output_type": "display_data"
    }
   ],
   "source": [
    "plt.figure(figsize=(10,10))\n",
    "sns.regplot(x=\"wdird\", y=\"tempm\", data=data)"
   ]
  },
  {
   "cell_type": "markdown",
   "metadata": {},
   "source": [
    "The above regplots shows how best the predictors are related or how it varies with the temperature or the target variable.\n",
    "The plots shows that wdird, dewptm and wspdm varies atleast or a clear linear relationship with the temperature and the hum varies inversely with the temperature."
   ]
  },
  {
   "cell_type": "markdown",
   "metadata": {},
   "source": [
    "# Linear Regression"
   ]
  },
  {
   "cell_type": "markdown",
   "metadata": {},
   "source": [
    "Target Variable - tempm (Temperature)"
   ]
  },
  {
   "cell_type": "markdown",
   "metadata": {},
   "source": [
    "Linear regression is used for finding linear relationship between target and one or more predictors. One is predictor or independent variable and other is response or dependent variable.The core idea is to obtain a line that best fits the data. The best fit line is the one for which total prediction error (all data points) is as small as possible. Error is the distance between the point to the regression line."
   ]
  },
  {
   "cell_type": "code",
   "execution_count": 44,
   "metadata": {},
   "outputs": [
    {
     "data": {
      "image/png": "[encoded data removed]",
      "text/plain": [
       "<matplotlib.figure.Figure at 0x26c43f8c550>"
      ]
     },
     "metadata": {},
     "output_type": "display_data"
    }
   ],
   "source": [
    "fig, ax = plt.subplots(figsize=(12,4))\n",
    "sns.boxplot(x = 'tempm', data = data, orient = 'h', width = 0.8, \n",
    "                 fliersize = 3, showmeans=True, ax = ax)\n",
    "plt.show()"
   ]
  },
  {
   "cell_type": "markdown",
   "metadata": {},
   "source": [
    "From this we understand that there are very few outliers towards the right of the third quartile range or minimum values with the mean at approximately 28 and interquartile range of 20-32"
   ]
  },
  {
   "cell_type": "markdown",
   "metadata": {},
   "source": [
    "### Model 1"
   ]
  },
  {
   "cell_type": "markdown",
   "metadata": {},
   "source": [
    "Considering the independent variables - 'dewptm','fog','hum','rain','wdird','wspdm','conds_Haze','conds_Smoke',\n",
    "'conds_Mist','conds_Rain','wdire_North', 'wdire_Others', 'wdire_West' in predicting the target variable based on the correlation matrix or heatmap values as they are either positively or negatively correlated with the target variable"
   ]
  },
  {
   "cell_type": "code",
   "execution_count": 45,
   "metadata": {},
   "outputs": [],
   "source": [
    "# Store independent and dependent variable in X, Y respectively\n",
    "X = data[['dewptm','fog','hum','rain','wdird','wspdm','conds_Haze','conds_Smoke',\n",
    "          'conds_Mist','conds_Rain','wdire_North', 'wdire_Others', 'wdire_West']]\n",
    "Y = data[['tempm']]"
   ]
  },
  {
   "cell_type": "code",
   "execution_count": 46,
   "metadata": {},
   "outputs": [],
   "source": [
    "# Split dataset into training and test set\n",
    "X_train, X_test, Y_train, Y_test = train_test_split(X, Y, train_size = 0.75)"
   ]
  },
  {
   "cell_type": "code",
   "execution_count": 47,
   "metadata": {},
   "outputs": [
    {
     "name": "stdout",
     "output_type": "stream",
     "text": [
      "(64676, 13) (21559, 13) (64676, 1) (21559, 1)\n"
     ]
    }
   ],
   "source": [
    "print(X_train.shape, X_test.shape, Y_train.shape, Y_test.shape)"
   ]
  },
  {
   "cell_type": "code",
   "execution_count": 48,
   "metadata": {},
   "outputs": [
    {
     "data": {
      "text/plain": [
       "LinearRegression(copy_X=True, fit_intercept=True, n_jobs=None,\n",
       "         normalize=False)"
      ]
     },
     "execution_count": 48,
     "metadata": {},
     "output_type": "execute_result"
    }
   ],
   "source": [
    "#instantiate\n",
    "regressor = linear_model.LinearRegression()\n",
    "\n",
    "# Fitting the training set into simple linear regression\n",
    "regressor.fit(X_train, Y_train)"
   ]
  },
  {
   "cell_type": "code",
   "execution_count": 49,
   "metadata": {},
   "outputs": [
    {
     "data": {
      "text/plain": [
       "<matplotlib.collections.PathCollection at 0x26c43f81208>"
      ]
     },
     "execution_count": 49,
     "metadata": {},
     "output_type": "execute_result"
    },
    {
     "data": {
      "image/png": "[encoded data removed]",
      "text/plain": [
       "<matplotlib.figure.Figure at 0x26c41597e10>"
      ]
     },
     "metadata": {},
     "output_type": "display_data"
    }
   ],
   "source": [
    "# Predicting the test set results\n",
    "pred = regressor.predict(X_test)\n",
    "plt.figure(figsize=(12,12))\n",
    "plt.scatter(Y_test,pred)"
   ]
  },
  {
   "cell_type": "code",
   "execution_count": 50,
   "metadata": {},
   "outputs": [
    {
     "name": "stdout",
     "output_type": "stream",
     "text": [
      "[0.04901158]\n",
      "[[ 1.37118527 -0.00447721 -1.08769951 -0.00935241 -0.00233953  0.20681651\n",
      "  -0.03169525 -0.04447604 -0.02678442  0.01087077  0.00531376 -0.00165931\n",
      "  -0.00321011]]\n"
     ]
    }
   ],
   "source": [
    "#intercept\n",
    "print(regressor.intercept_)\n",
    "\n",
    "#coefficient\n",
    "print(regressor.coef_)"
   ]
  },
  {
   "cell_type": "markdown",
   "metadata": {},
   "source": [
    "Mean squared error tells you how close the regression line is to a set of points, lesser the MSE better will be model,\n",
    "line of best fit"
   ]
  },
  {
   "cell_type": "code",
   "execution_count": 51,
   "metadata": {},
   "outputs": [
    {
     "data": {
      "text/plain": [
       "tempm    0.001184\n",
       "dtype: float64"
      ]
     },
     "execution_count": 51,
     "metadata": {},
     "output_type": "execute_result"
    }
   ],
   "source": [
    "#mean squared error\n",
    "np.mean((Y_test - pred)**2)"
   ]
  },
  {
   "cell_type": "code",
   "execution_count": 52,
   "metadata": {},
   "outputs": [
    {
     "data": {
      "text/plain": [
       "0.0011843461574381554"
      ]
     },
     "execution_count": 52,
     "metadata": {},
     "output_type": "execute_result"
    }
   ],
   "source": [
    "from sklearn.metrics import mean_squared_error\n",
    "mean_squared_error(Y_test, pred)"
   ]
  },
  {
   "cell_type": "markdown",
   "metadata": {},
   "source": [
    "Root Mean Square Error (RMSE) is the standard deviation of the residuals (prediction errors). Residuals are a measure of how far from the regression line data points are; RMSE is a measure of how spread out these residuals are."
   ]
  },
  {
   "cell_type": "code",
   "execution_count": 53,
   "metadata": {},
   "outputs": [
    {
     "name": "stdout",
     "output_type": "stream",
     "text": [
      "0.034414330698680676\n"
     ]
    }
   ],
   "source": [
    "from sklearn import metrics \n",
    "print(np.sqrt(metrics.mean_squared_error(Y_test, pred)))"
   ]
  },
  {
   "cell_type": "markdown",
   "metadata": {},
   "source": [
    "Mean Absolute Error - Represents average error"
   ]
  },
  {
   "cell_type": "code",
   "execution_count": 54,
   "metadata": {},
   "outputs": [
    {
     "name": "stdout",
     "output_type": "stream",
     "text": [
      "0.023246921118179747\n"
     ]
    }
   ],
   "source": [
    "print(metrics.mean_absolute_error(Y_test, pred))"
   ]
  },
  {
   "cell_type": "code",
   "execution_count": 55,
   "metadata": {},
   "outputs": [],
   "source": [
    "#Our model needs an intercept so we add a column of it\n",
    "X = sm.add_constant(X)"
   ]
  },
  {
   "cell_type": "code",
   "execution_count": 56,
   "metadata": {},
   "outputs": [
    {
     "name": "stdout",
     "output_type": "stream",
     "text": [
      "                            OLS Regression Results                            \n",
      "==============================================================================\n",
      "Dep. Variable:                  tempm   R-squared:                       0.924\n",
      "Model:                            OLS   Adj. R-squared:                  0.924\n",
      "Method:                 Least Squares   F-statistic:                 8.038e+04\n",
      "Date:                Mon, 27 Jan 2020   Prob (F-statistic):               0.00\n",
      "Time:                        18:36:22   Log-Likelihood:             1.7024e+05\n",
      "No. Observations:               86235   AIC:                        -3.404e+05\n",
      "Df Residuals:                   86221   BIC:                        -3.403e+05\n",
      "Df Model:                          13                                         \n",
      "Covariance Type:            nonrobust                                         \n",
      "================================================================================\n",
      "                   coef    std err          t      P>|t|      [0.025      0.975]\n",
      "--------------------------------------------------------------------------------\n",
      "const            0.0488      0.001     49.116      0.000       0.047       0.051\n",
      "dewptm           1.3715      0.002    635.904      0.000       1.367       1.376\n",
      "fog             -0.0046      0.001     -7.198      0.000      -0.006      -0.003\n",
      "hum             -1.0858      0.002   -673.012      0.000      -1.089      -1.083\n",
      "rain            -0.0098      0.001    -11.643      0.000      -0.011      -0.008\n",
      "wdird           -0.0029      0.001     -2.101      0.036      -0.006      -0.000\n",
      "wspdm            0.1942      0.015     12.807      0.000       0.164       0.224\n",
      "conds_Haze      -0.0317      0.000    -92.816      0.000      -0.032      -0.031\n",
      "conds_Smoke     -0.0443      0.000   -111.316      0.000      -0.045      -0.044\n",
      "conds_Mist      -0.0272      0.001    -40.171      0.000      -0.029      -0.026\n",
      "conds_Rain       0.0115      0.002      6.090      0.000       0.008       0.015\n",
      "wdire_North      0.0048      0.000     10.139      0.000       0.004       0.006\n",
      "wdire_Others    -0.0017      0.000     -4.210      0.000      -0.003      -0.001\n",
      "wdire_West      -0.0034      0.001     -6.549      0.000      -0.004      -0.002\n",
      "==============================================================================\n",
      "Omnibus:                    29089.889   Durbin-Watson:                   0.504\n",
      "Prob(Omnibus):                  0.000   Jarque-Bera (JB):          1189285.694\n",
      "Skew:                           0.922   Prob(JB):                         0.00\n",
      "Kurtosis:                      21.099   Cond. No.                         185.\n",
      "==============================================================================\n",
      "\n",
      "Warnings:\n",
      "[1] Standard Errors assume that the covariance matrix of the errors is correctly specified.\n"
     ]
    }
   ],
   "source": [
    "# Statistical data exploration\n",
    "model = sm.OLS(Y,X).fit()\n",
    "print (model.summary())"
   ]
  },
  {
   "cell_type": "markdown",
   "metadata": {},
   "source": [
    "R squared - for evalauting the goodness of the fit. It implies how much of a change in Y is impacted by the amount of change in X.."
   ]
  },
  {
   "cell_type": "markdown",
   "metadata": {},
   "source": [
    "R squared values - 0.924, \n",
    "Adjacent R squared values - 0.924\n",
    "R sqaured and Adjacent Rsquared evaluates the goodness of the fit, closer the values of R squared to 1 or higher the R squared, better will be the model and the variations in the output /target variable will be explained by the input features.\n",
    "From the above model, we see that p values of most of the predictors are higly significant except for the features - \n",
    "wdird, wdire_Others and wdire_west with values -2.101,-4.210 and -6.549 respectively"
   ]
  },
  {
   "cell_type": "markdown",
   "metadata": {},
   "source": [
    "AIC & BIC - estimates the quality of each modle wrt other models and provides us a means for seletion of the models. Lower\n",
    "the AIC and BIC values its better."
   ]
  },
  {
   "cell_type": "code",
   "execution_count": 57,
   "metadata": {},
   "outputs": [
    {
     "name": "stdout",
     "output_type": "stream",
     "text": [
      "accuracy_test:91.95353708410558\n",
      "accuracy_train:92.46782823645934\n"
     ]
    }
   ],
   "source": [
    "#Applying K-fold cross validation\n",
    "from sklearn.model_selection import cross_val_score # To perform cross validation\n",
    "score = cross_val_score(regressor,X_test,Y_test, cv = 5)\n",
    "print('accuracy_test:' +str(score.mean()*100))\n",
    "\n",
    "score = cross_val_score(regressor,X_train,Y_train, cv = 5)\n",
    "print('accuracy_train:' +str(score.mean()*100))"
   ]
  },
  {
   "cell_type": "markdown",
   "metadata": {},
   "source": [
    "K-fold cross validation is a simple, intuitive way to estimate prediction error. K-Folds Cross Validation we split our data into k different subsets (or folds). We use k-1 subsets to train our data and leave the last subset (or the last fold) as test data for validation. We then average the model against each of the folds and then finalize our model. After that we test it against the test set..\n",
    "\n",
    "The accuracy of the model here is 92.4% which indicates that the model is a good estimator of the target variable"
   ]
  },
  {
   "cell_type": "markdown",
   "metadata": {},
   "source": [
    "## Model 2 "
   ]
  },
  {
   "cell_type": "markdown",
   "metadata": {},
   "source": [
    "On removing features - wdird, wdrire_others, wdire_west..."
   ]
  },
  {
   "cell_type": "code",
   "execution_count": 58,
   "metadata": {},
   "outputs": [],
   "source": [
    "# Store independent and dependent variable in X, Y respectively\n",
    "X = data[['dewptm','fog','hum','rain','wspdm','conds_Haze','conds_Smoke',\n",
    "          'conds_Mist','conds_Rain','wdire_North']]\n",
    "Y = data[['tempm']]"
   ]
  },
  {
   "cell_type": "code",
   "execution_count": 59,
   "metadata": {},
   "outputs": [],
   "source": [
    "# Split dataset into training and test set\n",
    "X_train, X_test, Y_train, Y_test = train_test_split(X, Y, train_size = 0.75)"
   ]
  },
  {
   "cell_type": "code",
   "execution_count": 60,
   "metadata": {},
   "outputs": [
    {
     "data": {
      "text/plain": [
       "LinearRegression(copy_X=True, fit_intercept=True, n_jobs=None,\n",
       "         normalize=False)"
      ]
     },
     "execution_count": 60,
     "metadata": {},
     "output_type": "execute_result"
    }
   ],
   "source": [
    "# Fitting the training set into simple linear regression\n",
    "regressor = linear_model.LinearRegression()\n",
    "regressor.fit(X_train, Y_train)"
   ]
  },
  {
   "cell_type": "code",
   "execution_count": 61,
   "metadata": {},
   "outputs": [
    {
     "data": {
      "text/plain": [
       "<matplotlib.collections.PathCollection at 0x26c4155cf98>"
      ]
     },
     "execution_count": 61,
     "metadata": {},
     "output_type": "execute_result"
    },
    {
     "data": {
      "image/png": "[encoded data removed]",
      "text/plain": [
       "<matplotlib.figure.Figure at 0x26c4400c5c0>"
      ]
     },
     "metadata": {},
     "output_type": "display_data"
    }
   ],
   "source": [
    "# Predicting the test set results\n",
    "pred = regressor.predict(X_test)\n",
    "plt.scatter(Y_test,pred)"
   ]
  },
  {
   "cell_type": "code",
   "execution_count": 62,
   "metadata": {},
   "outputs": [
    {
     "name": "stdout",
     "output_type": "stream",
     "text": [
      "0.0011232833658703233\n"
     ]
    }
   ],
   "source": [
    "#MSE\n",
    "from sklearn import metrics \n",
    "print(metrics.mean_squared_error(Y_test,pred))"
   ]
  },
  {
   "cell_type": "code",
   "execution_count": 63,
   "metadata": {},
   "outputs": [
    {
     "name": "stdout",
     "output_type": "stream",
     "text": [
      "0.03351541982237912\n"
     ]
    }
   ],
   "source": [
    "#RMSE\n",
    "print(np.sqrt(metrics.mean_squared_error(Y_test, pred)))"
   ]
  },
  {
   "cell_type": "code",
   "execution_count": 64,
   "metadata": {},
   "outputs": [],
   "source": [
    "#Our model needs an intercept so we add a column of it\n",
    "X = sm.add_constant(X)"
   ]
  },
  {
   "cell_type": "code",
   "execution_count": 65,
   "metadata": {},
   "outputs": [
    {
     "name": "stdout",
     "output_type": "stream",
     "text": [
      "                            OLS Regression Results                            \n",
      "==============================================================================\n",
      "Dep. Variable:                  tempm   R-squared:                       0.924\n",
      "Model:                            OLS   Adj. R-squared:                  0.924\n",
      "Method:                 Least Squares   F-statistic:                 1.044e+05\n",
      "Date:                Mon, 27 Jan 2020   Prob (F-statistic):               0.00\n",
      "Time:                        18:36:48   Log-Likelihood:             1.7020e+05\n",
      "No. Observations:               86235   AIC:                        -3.404e+05\n",
      "Df Residuals:                   86224   BIC:                        -3.403e+05\n",
      "Df Model:                          10                                         \n",
      "Covariance Type:            nonrobust                                         \n",
      "===============================================================================\n",
      "                  coef    std err          t      P>|t|      [0.025      0.975]\n",
      "-------------------------------------------------------------------------------\n",
      "const           0.0449      0.001     55.948      0.000       0.043       0.046\n",
      "dewptm          1.3746      0.002    651.091      0.000       1.370       1.379\n",
      "fog            -0.0047      0.001     -7.253      0.000      -0.006      -0.003\n",
      "hum            -1.0848      0.002   -680.485      0.000      -1.088      -1.082\n",
      "rain           -0.0097      0.001    -11.466      0.000      -0.011      -0.008\n",
      "wspdm           0.1896      0.015     12.517      0.000       0.160       0.219\n",
      "conds_Haze     -0.0317      0.000    -92.689      0.000      -0.032      -0.031\n",
      "conds_Smoke    -0.0441      0.000   -111.124      0.000      -0.045      -0.043\n",
      "conds_Mist     -0.0272      0.001    -40.250      0.000      -0.029      -0.026\n",
      "conds_Rain      0.0114      0.002      6.037      0.000       0.008       0.015\n",
      "wdire_North     0.0071      0.000     23.440      0.000       0.007       0.008\n",
      "==============================================================================\n",
      "Omnibus:                    29046.687   Durbin-Watson:                   0.503\n",
      "Prob(Omnibus):                  0.000   Jarque-Bera (JB):          1190383.582\n",
      "Skew:                           0.919   Prob(JB):                         0.00\n",
      "Kurtosis:                      21.108   Cond. No.                         167.\n",
      "==============================================================================\n",
      "\n",
      "Warnings:\n",
      "[1] Standard Errors assume that the covariance matrix of the errors is correctly specified.\n"
     ]
    }
   ],
   "source": [
    "# Statistical data exploration\n",
    "model = sm.OLS(Y,X).fit()\n",
    "print (model.summary())"
   ]
  },
  {
   "cell_type": "markdown",
   "metadata": {},
   "source": [
    "From the above table, it shows that the values of R squared and adjacent R squared remains the same as the previous model and\n",
    "the same goes with the values of AIC and BIC. Most of the predictors are highly significant and removing the features with least t scores - fog and rain with least t scores to test if the accuracy increases or not."
   ]
  },
  {
   "cell_type": "code",
   "execution_count": 66,
   "metadata": {},
   "outputs": [
    {
     "name": "stdout",
     "output_type": "stream",
     "text": [
      "accuracy_test:92.3261499146389\n",
      "accuracy_train:92.35420962043763\n"
     ]
    }
   ],
   "source": [
    "#Applying K-fold cross validation\n",
    "from sklearn.model_selection import cross_val_score # To perform cross validation\n",
    "score = cross_val_score(regressor,X_test,Y_test, cv = 5)\n",
    "print('accuracy_test:' +str(score.mean()*100))\n",
    "\n",
    "#to confirm if there is any overfitting in the model\n",
    "score = cross_val_score(regressor,X_train,Y_train, cv = 5)\n",
    "print('accuracy_train:' +str(score.mean()*100))"
   ]
  },
  {
   "cell_type": "markdown",
   "metadata": {},
   "source": [
    "The accuracy of the model here is 92.3% - same from the previous model and also RMSE remains the same from the previous model\n",
    "0.033."
   ]
  },
  {
   "cell_type": "markdown",
   "metadata": {},
   "source": [
    "### Model - 3"
   ]
  },
  {
   "cell_type": "markdown",
   "metadata": {},
   "source": [
    "On removing features - fog and rain,,"
   ]
  },
  {
   "cell_type": "code",
   "execution_count": 67,
   "metadata": {},
   "outputs": [],
   "source": [
    "# Store independent and dependent variable in X, Y respectively\n",
    "X = data[['dewptm','hum','wspdm','conds_Haze','conds_Smoke',\n",
    "          'conds_Mist','conds_Rain','wdire_North']]\n",
    "Y = data[['tempm']]"
   ]
  },
  {
   "cell_type": "code",
   "execution_count": 68,
   "metadata": {},
   "outputs": [],
   "source": [
    "# Split dataset into training and test set\n",
    "X_train, X_test, Y_train, Y_test = train_test_split(X, Y, test_size = 0.2, random_state = 0)"
   ]
  },
  {
   "cell_type": "code",
   "execution_count": 69,
   "metadata": {},
   "outputs": [
    {
     "data": {
      "text/plain": [
       "LinearRegression(copy_X=True, fit_intercept=True, n_jobs=None,\n",
       "         normalize=False)"
      ]
     },
     "execution_count": 69,
     "metadata": {},
     "output_type": "execute_result"
    }
   ],
   "source": [
    "# Fitting the training set into simple linear regression\n",
    "regressor = linear_model.LinearRegression()\n",
    "regressor.fit(X_train, Y_train)"
   ]
  },
  {
   "cell_type": "code",
   "execution_count": 70,
   "metadata": {
    "scrolled": true
   },
   "outputs": [
    {
     "data": {
      "text/plain": [
       "<matplotlib.collections.PathCollection at 0x26c419305c0>"
      ]
     },
     "execution_count": 70,
     "metadata": {},
     "output_type": "execute_result"
    },
    {
     "data": {
      "image/png": "[encoded data removed]",
      "text/plain": [
       "<matplotlib.figure.Figure at 0x26c4400cba8>"
      ]
     },
     "metadata": {},
     "output_type": "display_data"
    }
   ],
   "source": [
    "# Predicting the test set results\n",
    "pred = regressor.predict(X_test)\n",
    "plt.scatter(Y_test,pred)"
   ]
  },
  {
   "cell_type": "code",
   "execution_count": 71,
   "metadata": {},
   "outputs": [],
   "source": [
    "#Our model needs an intercept so we add a column of it\n",
    "X = sm.add_constant(X)"
   ]
  },
  {
   "cell_type": "code",
   "execution_count": 72,
   "metadata": {},
   "outputs": [
    {
     "name": "stdout",
     "output_type": "stream",
     "text": [
      "                            OLS Regression Results                            \n",
      "==============================================================================\n",
      "Dep. Variable:                  tempm   R-squared:                       0.924\n",
      "Model:                            OLS   Adj. R-squared:                  0.924\n",
      "Method:                 Least Squares   F-statistic:                 1.303e+05\n",
      "Date:                Mon, 27 Jan 2020   Prob (F-statistic):               0.00\n",
      "Time:                        18:37:04   Log-Likelihood:             1.7012e+05\n",
      "No. Observations:               86235   AIC:                        -3.402e+05\n",
      "Df Residuals:                   86226   BIC:                        -3.401e+05\n",
      "Df Model:                           8                                         \n",
      "Covariance Type:            nonrobust                                         \n",
      "===============================================================================\n",
      "                  coef    std err          t      P>|t|      [0.025      0.975]\n",
      "-------------------------------------------------------------------------------\n",
      "const           0.0430      0.001     58.392      0.000       0.042       0.044\n",
      "dewptm          1.3780      0.002    712.510      0.000       1.374       1.382\n",
      "hum            -1.0915      0.001   -784.319      0.000      -1.094      -1.089\n",
      "wspdm           0.1897      0.015     12.525      0.000       0.160       0.219\n",
      "conds_Haze     -0.0300      0.000    -96.732      0.000      -0.031      -0.029\n",
      "conds_Smoke    -0.0422      0.000   -121.535      0.000      -0.043      -0.042\n",
      "conds_Mist     -0.0247      0.001    -38.882      0.000      -0.026      -0.023\n",
      "conds_Rain      0.0043      0.002      2.462      0.014       0.001       0.008\n",
      "wdire_North     0.0073      0.000     24.045      0.000       0.007       0.008\n",
      "==============================================================================\n",
      "Omnibus:                    29176.709   Durbin-Watson:                   0.502\n",
      "Prob(Omnibus):                  0.000   Jarque-Bera (JB):          1209772.650\n",
      "Skew:                           0.923   Prob(JB):                         0.00\n",
      "Kurtosis:                      21.256   Cond. No.                         166.\n",
      "==============================================================================\n",
      "\n",
      "Warnings:\n",
      "[1] Standard Errors assume that the covariance matrix of the errors is correctly specified.\n"
     ]
    }
   ],
   "source": [
    "# Statistical data exploration\n",
    "model = sm.OLS(Y,X).fit()\n",
    "print (model.summary())"
   ]
  },
  {
   "cell_type": "code",
   "execution_count": 73,
   "metadata": {},
   "outputs": [
    {
     "name": "stdout",
     "output_type": "stream",
     "text": [
      "0.03398489993386533\n"
     ]
    }
   ],
   "source": [
    "#RMSE\n",
    "print(np.sqrt(metrics.mean_squared_error(Y_test, pred)))"
   ]
  },
  {
   "cell_type": "code",
   "execution_count": 74,
   "metadata": {},
   "outputs": [
    {
     "name": "stdout",
     "output_type": "stream",
     "text": [
      "accuracy_test:92.10372775686278\n",
      "accuracy_train:92.40705843393\n"
     ]
    }
   ],
   "source": [
    "#Applying K-fold cross validation\n",
    "score = cross_val_score(regressor,X_test,Y_test, cv = 5)\n",
    "print('accuracy_test:' +str(score.mean()*100))\n",
    "\n",
    "score = cross_val_score(regressor,X_train,Y_train, cv = 5)\n",
    "print('accuracy_train:' +str(score.mean()*100))"
   ]
  },
  {
   "cell_type": "markdown",
   "metadata": {},
   "source": [
    "The accuracy of the model still remains the same  92.1% and remains almost the same from the previous model with a slightest difference of 0.1%, RMSE values - 0.0339.\n",
    "\n",
    "This model seems to be the best so far since the RMSE value for this model is - 0.0011 and the accuracy and AIC and BIC\n",
    "values remains the same so far for all the 3 regression models so far."
   ]
  },
  {
   "cell_type": "markdown",
   "metadata": {},
   "source": [
    "Based on our observation, for all the three models the RMSE score is 0.033 , R squared value is - 0.924 and accuracy of the \n",
    "model varies around 92.1%- 92.29%"
   ]
  },
  {
   "cell_type": "markdown",
   "metadata": {},
   "source": [
    "The features such as 'dewptm','hum','wspdm','conds_Haze','conds_Smoke',\n",
    "          'conds_Mist','conds_Rain','wdire_North' are significant in predicting the target variable."
   ]
  },
  {
   "cell_type": "markdown",
   "metadata": {},
   "source": [
    "### Regularization"
   ]
  },
  {
   "cell_type": "markdown",
   "metadata": {},
   "source": [
    "This is a form of regression, that constrains/ regularizes or shrinks the coefficient estimates towards zero.\n",
    "\n",
    "Ridge regression is modified by adding the shrinkage quantity and the coefficients are estimated by minimizing this function. Here, λ is the tuning parameter that decides how much we want to penalize the flexibility of our model.It adds “squared magnitude” of coefficient as penalty term to the loss function. \n",
    "\n",
    "Lasso Regression adds “absolute value of magnitude” of coefficient as penalty term to the loss function.\n",
    "Regularization, significantly reduces the variance of the model, without substantial increase in its bias.\n"
   ]
  },
  {
   "cell_type": "markdown",
   "metadata": {},
   "source": [
    "#### Continuing with the same set of independant features from the Model 3 of Linear Regression---"
   ]
  },
  {
   "cell_type": "code",
   "execution_count": null,
   "metadata": {},
   "outputs": [],
   "source": [
    "# Store independent and dependent variable in X, Y respectively\n",
    "X = data[['dewptm','hum','wspdm','conds_Haze','conds_Smoke',\n",
    "          'conds_Mist','conds_Rain','wdire_North']]\n",
    "Y = data[['tempm']]"
   ]
  },
  {
   "cell_type": "code",
   "execution_count": null,
   "metadata": {},
   "outputs": [],
   "source": [
    "#splitting test set and train set\n",
    "X_train,X_test,y_train,y_test=train_test_split(X,Y,test_size=0.2)"
   ]
  },
  {
   "cell_type": "markdown",
   "metadata": {},
   "source": [
    "### Ridge Regression"
   ]
  },
  {
   "cell_type": "markdown",
   "metadata": {},
   "source": [
    "Trying out aplha value - 0.01"
   ]
  },
  {
   "cell_type": "code",
   "execution_count": 77,
   "metadata": {},
   "outputs": [
    {
     "data": {
      "text/plain": [
       "Ridge(alpha=0.01, copy_X=True, fit_intercept=True, max_iter=None,\n",
       "   normalize=True, random_state=None, solver='auto', tol=0.001)"
      ]
     },
     "execution_count": 77,
     "metadata": {},
     "output_type": "execute_result"
    }
   ],
   "source": [
    "# Fitting regression to training set\n",
    "#higher the alpha value, more restriction on the coefficients; low alpha > more generalization, coefficients are barely restricted and in this case \n",
    "#linear and ridge regression resembles\n",
    "from sklearn.linear_model import Ridge\n",
    "regression = linear_model.Ridge(alpha=0.01, normalize=True) \n",
    "regression.fit(X_train, y_train)"
   ]
  },
  {
   "cell_type": "code",
   "execution_count": 78,
   "metadata": {},
   "outputs": [],
   "source": [
    "# Predicting the test set results\n",
    "pred = regression.predict(X_test)"
   ]
  },
  {
   "cell_type": "code",
   "execution_count": 79,
   "metadata": {},
   "outputs": [
    {
     "data": {
      "text/plain": [
       "92.31309776577177"
      ]
     },
     "execution_count": 79,
     "metadata": {},
     "output_type": "execute_result"
    }
   ],
   "source": [
    "accuracy_test = cross_val_score(estimator=regression, X=X_test, y=y_test, cv=5)\n",
    "accuracy_test.mean()*100"
   ]
  },
  {
   "cell_type": "code",
   "execution_count": 80,
   "metadata": {},
   "outputs": [
    {
     "data": {
      "text/plain": [
       "0.027676407506566466"
      ]
     },
     "execution_count": 80,
     "metadata": {},
     "output_type": "execute_result"
    }
   ],
   "source": [
    "metrics.mean_squared_error(Y_test, pred)"
   ]
  },
  {
   "cell_type": "code",
   "execution_count": 81,
   "metadata": {},
   "outputs": [
    {
     "name": "stdout",
     "output_type": "stream",
     "text": [
      "0.16636227789546063\n"
     ]
    }
   ],
   "source": [
    "#RMSE\n",
    "print(np.sqrt(metrics.mean_squared_error(Y_test, pred)))"
   ]
  },
  {
   "cell_type": "code",
   "execution_count": 82,
   "metadata": {},
   "outputs": [
    {
     "name": "stdout",
     "output_type": "stream",
     "text": [
      "                            OLS Regression Results                            \n",
      "==============================================================================\n",
      "Dep. Variable:                  tempm   R-squared:                       0.991\n",
      "Model:                            OLS   Adj. R-squared:                  0.991\n",
      "Method:                 Least Squares   F-statistic:                 1.149e+06\n",
      "Date:                Mon, 27 Jan 2020   Prob (F-statistic):               0.00\n",
      "Time:                        18:37:32   Log-Likelihood:             1.6845e+05\n",
      "No. Observations:               86235   AIC:                        -3.369e+05\n",
      "Df Residuals:                   86227   BIC:                        -3.368e+05\n",
      "Df Model:                           8                                         \n",
      "Covariance Type:            nonrobust                                         \n",
      "===============================================================================\n",
      "                  coef    std err          t      P>|t|      [0.025      0.975]\n",
      "-------------------------------------------------------------------------------\n",
      "dewptm          1.4714      0.001   1326.737      0.000       1.469       1.474\n",
      "hum            -1.0889      0.001   -767.817      0.000      -1.092      -1.086\n",
      "wspdm           0.3676      0.015     24.307      0.000       0.338       0.397\n",
      "conds_Haze     -0.0287      0.000    -91.139      0.000      -0.029      -0.028\n",
      "conds_Smoke    -0.0343      0.000   -105.182      0.000      -0.035      -0.034\n",
      "conds_Mist     -0.0229      0.001    -35.324      0.000      -0.024      -0.022\n",
      "conds_Rain      0.0017      0.002      0.956      0.339      -0.002       0.005\n",
      "wdire_North     0.0099      0.000     32.113      0.000       0.009       0.010\n",
      "==============================================================================\n",
      "Omnibus:                    34547.549   Durbin-Watson:                   0.505\n",
      "Prob(Omnibus):                  0.000   Jarque-Bera (JB):          1456279.270\n",
      "Skew:                           1.221   Prob(JB):                         0.00\n",
      "Kurtosis:                      22.983   Cond. No.                         105.\n",
      "==============================================================================\n",
      "\n",
      "Warnings:\n",
      "[1] Standard Errors assume that the covariance matrix of the errors is correctly specified.\n"
     ]
    }
   ],
   "source": [
    "# Statistical data exploration\n",
    "model = sm.OLS(Y,X).fit()\n",
    "print (model.summary())"
   ]
  },
  {
   "cell_type": "markdown",
   "metadata": {},
   "source": [
    "The accuracy score - 92% closely same as that from the Linear models 92% and also the value of R and R squared increased to 0.991, along with the value of RMSE slightly increased to - 0.16"
   ]
  },
  {
   "cell_type": "markdown",
   "metadata": {},
   "source": [
    "### Using Grid Search to find out the best value of hyperparameter - alpha for ridge regression"
   ]
  },
  {
   "cell_type": "markdown",
   "metadata": {},
   "source": [
    "Grid-search is the used for finding the best or optimal hyperparameters for the model.\n",
    "(to calculate the best parameters to use for any given model). It actually builds a combination of hyperparameters specified\n",
    "and evaluates the model."
   ]
  },
  {
   "cell_type": "code",
   "execution_count": 83,
   "metadata": {},
   "outputs": [
    {
     "data": {
      "text/plain": [
       "GridSearchCV(cv=5, error_score='raise-deprecating',\n",
       "       estimator=Ridge(alpha=0.01, copy_X=True, fit_intercept=True, max_iter=None,\n",
       "   normalize=True, random_state=None, solver='auto', tol=0.001),\n",
       "       fit_params=None, iid='warn', n_jobs=None,\n",
       "       param_grid={'alpha': array([0.001 , 0.01  , 0.0005, 0.0025, 0.    , 0.0025])},\n",
       "       pre_dispatch='2*n_jobs', refit=True, return_train_score='warn',\n",
       "       scoring=None, verbose=0)"
      ]
     },
     "execution_count": 83,
     "metadata": {},
     "output_type": "execute_result"
    }
   ],
   "source": [
    "from sklearn.model_selection import GridSearchCV\n",
    "#assigning various values of alpha to check for the best value\n",
    "alphas = np.array([0.001,0.01,0.0005,0.0025,0.0,0.0025])\n",
    "grid_search = GridSearchCV(estimator = regression,\n",
    "                           param_grid = dict(alpha=alphas),\n",
    "                           cv = 5,\n",
    "                           verbose=0)\n",
    "grid_search.fit(X_train, Y_train)"
   ]
  },
  {
   "cell_type": "code",
   "execution_count": 84,
   "metadata": {},
   "outputs": [
    {
     "name": "stdout",
     "output_type": "stream",
     "text": [
      "best parameter: {'alpha': 0.01}\n"
     ]
    }
   ],
   "source": [
    "print('best parameter:', (grid_search.best_params_))"
   ]
  },
  {
   "cell_type": "markdown",
   "metadata": {},
   "source": [
    "Assuming the value of alpha as 0.01 in the first model or ridge regression is true, as the best value of alpha was predicted \n",
    "to be 0.01 by Grid Search"
   ]
  },
  {
   "cell_type": "markdown",
   "metadata": {},
   "source": [
    "Applying different values of alpha --"
   ]
  },
  {
   "cell_type": "code",
   "execution_count": 85,
   "metadata": {},
   "outputs": [
    {
     "data": {
      "text/plain": [
       "Ridge(alpha=0.1, copy_X=True, fit_intercept=True, max_iter=None,\n",
       "   normalize=True, random_state=None, solver='auto', tol=0.001)"
      ]
     },
     "execution_count": 85,
     "metadata": {},
     "output_type": "execute_result"
    }
   ],
   "source": [
    "rr = linear_model.Ridge(alpha=0.1, normalize=True) \n",
    "rr.fit(X_train, y_train)"
   ]
  },
  {
   "cell_type": "code",
   "execution_count": 86,
   "metadata": {},
   "outputs": [],
   "source": [
    "# Predicting the test set results\n",
    "pred = rr.predict(X_test)"
   ]
  },
  {
   "cell_type": "code",
   "execution_count": 87,
   "metadata": {},
   "outputs": [
    {
     "data": {
      "text/plain": [
       "90.1532450969459"
      ]
     },
     "execution_count": 87,
     "metadata": {},
     "output_type": "execute_result"
    }
   ],
   "source": [
    "accuracy_test = cross_val_score(estimator=rr, X=X_test, y=y_test, cv=5)\n",
    "accuracy_test.mean()*100"
   ]
  },
  {
   "cell_type": "code",
   "execution_count": 88,
   "metadata": {},
   "outputs": [
    {
     "name": "stdout",
     "output_type": "stream",
     "text": [
      "0.15764281920830858\n"
     ]
    }
   ],
   "source": [
    "#RMSE\n",
    "print(np.sqrt(metrics.mean_squared_error(Y_test, pred)))"
   ]
  },
  {
   "cell_type": "markdown",
   "metadata": {},
   "source": [
    "The accuracy score - 90.15 and 92.313 closely same as that of regression models - 92% (with 2% variation) for different values of alpha such as 0.01 and 0.001, the RMSE score for the above models - 0.166 and 0.15 much higher than the linear models. Although the R squared value increases to 0.991."
   ]
  },
  {
   "cell_type": "markdown",
   "metadata": {},
   "source": []
  },
  {
   "cell_type": "code",
   "execution_count": null,
   "metadata": {},
   "outputs": [],
   "source": []
  },
  {
   "cell_type": "code",
   "execution_count": null,
   "metadata": {},
   "outputs": [],
   "source": []
  },
  {
   "cell_type": "markdown",
   "metadata": {},
   "source": [
    "### Multicollinearity"
   ]
  },
  {
   "cell_type": "markdown",
   "metadata": {},
   "source": [
    " Multicollinearity occurs when independent variable in a regression model are related.\n",
    "To find out if there is any multicollinearity in the model, we use Variance Inflation factor to identify if there are any \n",
    "correlation between indepedent variables and strength of the correlation."
   ]
  },
  {
   "cell_type": "code",
   "execution_count": 92,
   "metadata": {},
   "outputs": [],
   "source": [
    "X = data[['dewptm', 'fog', 'hail', 'hum', 'pressurem', 'rain', 'snow',\n",
    "       'thunder', 'tornado', 'vism', 'wdird', 'wspdm', 'conds_Haze',\n",
    "       'conds_Mist', 'conds_Other_Conditions', 'conds_Other_unknown',\n",
    "       'conds_Rain', 'conds_Smoke', 'wdire_North', 'wdire_Others',\n",
    "       'wdire_South', 'wdire_West']]"
   ]
  },
  {
   "cell_type": "code",
   "execution_count": 93,
   "metadata": {},
   "outputs": [
    {
     "data": {
      "text/html": [
       "<div>\n",
       "<style scoped>\n",
       "    .dataframe tbody tr th:only-of-type {\n",
       "        vertical-align: middle;\n",
       "    }\n",
       "\n",
       "    .dataframe tbody tr th {\n",
       "        vertical-align: top;\n",
       "    }\n",
       "\n",
       "    .dataframe thead th {\n",
       "        text-align: right;\n",
       "    }\n",
       "</style>\n",
       "<table border=\"1\" class=\"dataframe\">\n",
       "  <thead>\n",
       "    <tr style=\"text-align: right;\">\n",
       "      <th></th>\n",
       "      <th>VIF Factor</th>\n",
       "      <th>features</th>\n",
       "    </tr>\n",
       "  </thead>\n",
       "  <tbody>\n",
       "    <tr>\n",
       "      <th>0</th>\n",
       "      <td>34.4</td>\n",
       "      <td>dewptm</td>\n",
       "    </tr>\n",
       "    <tr>\n",
       "      <th>1</th>\n",
       "      <td>2.1</td>\n",
       "      <td>fog</td>\n",
       "    </tr>\n",
       "    <tr>\n",
       "      <th>2</th>\n",
       "      <td>1.0</td>\n",
       "      <td>hail</td>\n",
       "    </tr>\n",
       "    <tr>\n",
       "      <th>3</th>\n",
       "      <td>11.3</td>\n",
       "      <td>hum</td>\n",
       "    </tr>\n",
       "    <tr>\n",
       "      <th>4</th>\n",
       "      <td>1.0</td>\n",
       "      <td>pressurem</td>\n",
       "    </tr>\n",
       "    <tr>\n",
       "      <th>5</th>\n",
       "      <td>1.8</td>\n",
       "      <td>rain</td>\n",
       "    </tr>\n",
       "    <tr>\n",
       "      <th>6</th>\n",
       "      <td>1.0</td>\n",
       "      <td>snow</td>\n",
       "    </tr>\n",
       "    <tr>\n",
       "      <th>7</th>\n",
       "      <td>1.3</td>\n",
       "      <td>thunder</td>\n",
       "    </tr>\n",
       "    <tr>\n",
       "      <th>8</th>\n",
       "      <td>1.0</td>\n",
       "      <td>tornado</td>\n",
       "    </tr>\n",
       "    <tr>\n",
       "      <th>9</th>\n",
       "      <td>1.0</td>\n",
       "      <td>vism</td>\n",
       "    </tr>\n",
       "    <tr>\n",
       "      <th>10</th>\n",
       "      <td>6.0</td>\n",
       "      <td>wdird</td>\n",
       "    </tr>\n",
       "    <tr>\n",
       "      <th>11</th>\n",
       "      <td>1.7</td>\n",
       "      <td>wspdm</td>\n",
       "    </tr>\n",
       "    <tr>\n",
       "      <th>12</th>\n",
       "      <td>12.9</td>\n",
       "      <td>conds_Haze</td>\n",
       "    </tr>\n",
       "    <tr>\n",
       "      <th>13</th>\n",
       "      <td>2.0</td>\n",
       "      <td>conds_Mist</td>\n",
       "    </tr>\n",
       "    <tr>\n",
       "      <th>14</th>\n",
       "      <td>6.4</td>\n",
       "      <td>conds_Other_Conditions</td>\n",
       "    </tr>\n",
       "    <tr>\n",
       "      <th>15</th>\n",
       "      <td>1.0</td>\n",
       "      <td>conds_Other_unknown</td>\n",
       "    </tr>\n",
       "    <tr>\n",
       "      <th>16</th>\n",
       "      <td>1.4</td>\n",
       "      <td>conds_Rain</td>\n",
       "    </tr>\n",
       "    <tr>\n",
       "      <th>17</th>\n",
       "      <td>5.3</td>\n",
       "      <td>conds_Smoke</td>\n",
       "    </tr>\n",
       "    <tr>\n",
       "      <th>18</th>\n",
       "      <td>3.2</td>\n",
       "      <td>wdire_North</td>\n",
       "    </tr>\n",
       "    <tr>\n",
       "      <th>19</th>\n",
       "      <td>7.6</td>\n",
       "      <td>wdire_Others</td>\n",
       "    </tr>\n",
       "    <tr>\n",
       "      <th>20</th>\n",
       "      <td>1.2</td>\n",
       "      <td>wdire_South</td>\n",
       "    </tr>\n",
       "    <tr>\n",
       "      <th>21</th>\n",
       "      <td>3.1</td>\n",
       "      <td>wdire_West</td>\n",
       "    </tr>\n",
       "  </tbody>\n",
       "</table>\n",
       "</div>"
      ],
      "text/plain": [
       "    VIF Factor                features\n",
       "0         34.4                  dewptm\n",
       "1          2.1                     fog\n",
       "2          1.0                    hail\n",
       "3         11.3                     hum\n",
       "4          1.0               pressurem\n",
       "5          1.8                    rain\n",
       "6          1.0                    snow\n",
       "7          1.3                 thunder\n",
       "8          1.0                 tornado\n",
       "9          1.0                    vism\n",
       "10         6.0                   wdird\n",
       "11         1.7                   wspdm\n",
       "12        12.9              conds_Haze\n",
       "13         2.0              conds_Mist\n",
       "14         6.4  conds_Other_Conditions\n",
       "15         1.0     conds_Other_unknown\n",
       "16         1.4              conds_Rain\n",
       "17         5.3             conds_Smoke\n",
       "18         3.2             wdire_North\n",
       "19         7.6            wdire_Others\n",
       "20         1.2             wdire_South\n",
       "21         3.1              wdire_West"
      ]
     },
     "execution_count": 93,
     "metadata": {},
     "output_type": "execute_result"
    }
   ],
   "source": [
    "vif=pd.DataFrame()\n",
    "vif['VIF Factor'] = [variance_inflation_factor(X.values,i) for i in range(X.shape[1])]\n",
    "vif['features'] = X.columns\n",
    "vif.round(1)"
   ]
  },
  {
   "cell_type": "markdown",
   "metadata": {},
   "source": [
    "Considering only the features of LR Model 3 features to check if there exists any multicollinearity in the model --"
   ]
  },
  {
   "cell_type": "code",
   "execution_count": 95,
   "metadata": {},
   "outputs": [],
   "source": [
    "X = data[['dewptm','hum','wspdm','conds_Haze','conds_Smoke',\n",
    "          'conds_Mist','conds_Rain','wdire_North']]"
   ]
  },
  {
   "cell_type": "code",
   "execution_count": 96,
   "metadata": {},
   "outputs": [
    {
     "data": {
      "text/html": [
       "<div>\n",
       "<style scoped>\n",
       "    .dataframe tbody tr th:only-of-type {\n",
       "        vertical-align: middle;\n",
       "    }\n",
       "\n",
       "    .dataframe tbody tr th {\n",
       "        vertical-align: top;\n",
       "    }\n",
       "\n",
       "    .dataframe thead th {\n",
       "        text-align: right;\n",
       "    }\n",
       "</style>\n",
       "<table border=\"1\" class=\"dataframe\">\n",
       "  <thead>\n",
       "    <tr style=\"text-align: right;\">\n",
       "      <th></th>\n",
       "      <th>VIF Factor</th>\n",
       "      <th>features</th>\n",
       "    </tr>\n",
       "  </thead>\n",
       "  <tbody>\n",
       "    <tr>\n",
       "      <th>0</th>\n",
       "      <td>14.9</td>\n",
       "      <td>dewptm</td>\n",
       "    </tr>\n",
       "    <tr>\n",
       "      <th>1</th>\n",
       "      <td>8.4</td>\n",
       "      <td>hum</td>\n",
       "    </tr>\n",
       "    <tr>\n",
       "      <th>2</th>\n",
       "      <td>1.7</td>\n",
       "      <td>wspdm</td>\n",
       "    </tr>\n",
       "    <tr>\n",
       "      <th>3</th>\n",
       "      <td>3.6</td>\n",
       "      <td>conds_Haze</td>\n",
       "    </tr>\n",
       "    <tr>\n",
       "      <th>4</th>\n",
       "      <td>1.8</td>\n",
       "      <td>conds_Smoke</td>\n",
       "    </tr>\n",
       "    <tr>\n",
       "      <th>5</th>\n",
       "      <td>1.2</td>\n",
       "      <td>conds_Mist</td>\n",
       "    </tr>\n",
       "    <tr>\n",
       "      <th>6</th>\n",
       "      <td>1.0</td>\n",
       "      <td>conds_Rain</td>\n",
       "    </tr>\n",
       "    <tr>\n",
       "      <th>7</th>\n",
       "      <td>1.5</td>\n",
       "      <td>wdire_North</td>\n",
       "    </tr>\n",
       "  </tbody>\n",
       "</table>\n",
       "</div>"
      ],
      "text/plain": [
       "   VIF Factor     features\n",
       "0        14.9       dewptm\n",
       "1         8.4          hum\n",
       "2         1.7        wspdm\n",
       "3         3.6   conds_Haze\n",
       "4         1.8  conds_Smoke\n",
       "5         1.2   conds_Mist\n",
       "6         1.0   conds_Rain\n",
       "7         1.5  wdire_North"
      ]
     },
     "execution_count": 96,
     "metadata": {},
     "output_type": "execute_result"
    }
   ],
   "source": [
    "vif=pd.DataFrame()\n",
    "vif['VIF Factor'] = [variance_inflation_factor(X.values,i) for i in range(X.shape[1])]\n",
    "vif['features'] = X.columns\n",
    "vif.round(1)"
   ]
  },
  {
   "cell_type": "markdown",
   "metadata": {},
   "source": [
    "The features with values less than 5 is said to have no multicollinearity or no relation amongst the independent variables. The values more than 5 or higher the values the higher they are correlated with each other."
   ]
  },
  {
   "cell_type": "code",
   "execution_count": null,
   "metadata": {},
   "outputs": [],
   "source": []
  },
  {
   "cell_type": "markdown",
   "metadata": {},
   "source": [
    "## Interaction Effects"
   ]
  },
  {
   "cell_type": "markdown",
   "metadata": {},
   "source": [
    "### Model 1"
   ]
  },
  {
   "cell_type": "markdown",
   "metadata": {},
   "source": [
    "An interaction variable is a variable constructed from an original set of variables to try to represent either all of the interaction present or some part of it. An interaction variable models the simultaneous influence of two predictors on a third response variable is not additive. We want to know whether the joint effect is higher than the sum of both effects. An an interaction may arise when considering the relationship among three or more variables, and describes a situation in which the simultaneous influence of two variables on a third is not additive."
   ]
  },
  {
   "cell_type": "code",
   "execution_count": 97,
   "metadata": {},
   "outputs": [],
   "source": [
    "data['dewptm*hum'] = data['dewptm']*data['hum']"
   ]
  },
  {
   "cell_type": "code",
   "execution_count": 98,
   "metadata": {},
   "outputs": [],
   "source": [
    "# Store independent and dependent variable in X, Y respectively\n",
    "# Store independent and dependent variable in X, Y respectively\n",
    "X = data[['dewptm*hum','wspdm','conds_Haze','conds_Smoke',\n",
    "          'conds_Mist','conds_Rain','wdire_North']]\n",
    "Y = data[['tempm']]"
   ]
  },
  {
   "cell_type": "code",
   "execution_count": 99,
   "metadata": {},
   "outputs": [],
   "source": [
    "# Split dataset into training and test set\n",
    "X_train, X_test, Y_train, Y_test = train_test_split(X, Y, test_size = 0.2, random_state = 0)"
   ]
  },
  {
   "cell_type": "code",
   "execution_count": 100,
   "metadata": {},
   "outputs": [
    {
     "data": {
      "text/plain": [
       "LinearRegression(copy_X=True, fit_intercept=True, n_jobs=None,\n",
       "         normalize=False)"
      ]
     },
     "execution_count": 100,
     "metadata": {},
     "output_type": "execute_result"
    }
   ],
   "source": [
    "# Create a linear regression object\n",
    "regressor = linear_model.LinearRegression()\n",
    "regressor.fit(X_train, Y_train)"
   ]
  },
  {
   "cell_type": "code",
   "execution_count": 101,
   "metadata": {},
   "outputs": [],
   "source": [
    "y_pred = regressor.predict(X_test)"
   ]
  },
  {
   "cell_type": "code",
   "execution_count": 102,
   "metadata": {},
   "outputs": [
    {
     "data": {
      "text/plain": [
       "0.010613918038336686"
      ]
     },
     "execution_count": 102,
     "metadata": {},
     "output_type": "execute_result"
    }
   ],
   "source": [
    "#MSE\n",
    "metrics.mean_squared_error(Y_test,y_pred)"
   ]
  },
  {
   "cell_type": "code",
   "execution_count": 103,
   "metadata": {},
   "outputs": [
    {
     "data": {
      "text/plain": [
       "0.10302387120632134"
      ]
     },
     "execution_count": 103,
     "metadata": {},
     "output_type": "execute_result"
    }
   ],
   "source": [
    "#RMSE\n",
    "np.sqrt(metrics.mean_squared_error(Y_test,y_pred))"
   ]
  },
  {
   "cell_type": "code",
   "execution_count": 104,
   "metadata": {},
   "outputs": [
    {
     "name": "stdout",
     "output_type": "stream",
     "text": [
      "                            OLS Regression Results                            \n",
      "==============================================================================\n",
      "Dep. Variable:                  tempm   R-squared:                       0.811\n",
      "Model:                            OLS   Adj. R-squared:                  0.811\n",
      "Method:                 Least Squares   F-statistic:                 5.290e+04\n",
      "Date:                Mon, 27 Jan 2020   Prob (F-statistic):               0.00\n",
      "Time:                        18:43:54   Log-Likelihood:                 38581.\n",
      "No. Observations:               86235   AIC:                        -7.715e+04\n",
      "Df Residuals:                   86228   BIC:                        -7.708e+04\n",
      "Df Model:                           7                                         \n",
      "Covariance Type:            nonrobust                                         \n",
      "===============================================================================\n",
      "                  coef    std err          t      P>|t|      [0.025      0.975]\n",
      "-------------------------------------------------------------------------------\n",
      "dewptm*hum      1.1285      0.009    128.571      0.000       1.111       1.146\n",
      "wspdm           7.2004      0.064    113.262      0.000       7.076       7.325\n",
      "conds_Haze      0.2348      0.001    217.965      0.000       0.233       0.237\n",
      "conds_Smoke     0.1484      0.001    114.078      0.000       0.146       0.151\n",
      "conds_Mist      0.0690      0.003     23.915      0.000       0.063       0.075\n",
      "conds_Rain      0.0750      0.008      9.288      0.000       0.059       0.091\n",
      "wdire_North     0.0169      0.001     12.452      0.000       0.014       0.020\n",
      "==============================================================================\n",
      "Omnibus:                    69523.085   Durbin-Watson:                   0.429\n",
      "Prob(Omnibus):                  0.000   Jarque-Bera (JB):         72746828.129\n",
      "Skew:                          -2.595   Prob(JB):                         0.00\n",
      "Kurtosis:                     145.194   Cond. No.                         86.6\n",
      "==============================================================================\n",
      "\n",
      "Warnings:\n",
      "[1] Standard Errors assume that the covariance matrix of the errors is correctly specified.\n"
     ]
    }
   ],
   "source": [
    "result = sm.OLS(Y,X).fit()\n",
    "print (result.summary())"
   ]
  },
  {
   "cell_type": "markdown",
   "metadata": {},
   "source": [
    "The RMSE - 0.103, MSE - 0.0106, R squared - 0.811 values after checking for multicollinearity in the model and applying regression algorithm. The RMSE score has increased from 0.033 to 0.103, also R squared values has decreased from 0.924 to 0.811 because of the multicollinearity in the model. Although the p values and t values are good, indicating that all the predictors are highly significant including the interaction term - dewptm * hum with a high t score."
   ]
  },
  {
   "cell_type": "markdown",
   "metadata": {},
   "source": [
    "Hence this model does not have any multicollinearity, with all the significant predictors predicting the target variable as\n",
    "well, with dewptm, humidity, conds_Haze, mist,smoke being the good predictors of the model"
   ]
  },
  {
   "cell_type": "code",
   "execution_count": null,
   "metadata": {},
   "outputs": [],
   "source": []
  },
  {
   "cell_type": "markdown",
   "metadata": {},
   "source": [
    "## Random Forest Regression"
   ]
  },
  {
   "cell_type": "markdown",
   "metadata": {},
   "source": [
    "Based on the features selected from Model 1 in Linear Regression --"
   ]
  },
  {
   "cell_type": "markdown",
   "metadata": {},
   "source": [
    "Random forest is a Supervised Learning algorithm which uses ensemble learning method - bagging technique\n",
    "for classification and regression."
   ]
  },
  {
   "cell_type": "code",
   "execution_count": 119,
   "metadata": {},
   "outputs": [],
   "source": [
    "# Store independent and dependent variable in X, Y respectively\n",
    "X = data[['dewptm','fog','hum','rain','wdird','wspdm','conds_Haze','conds_Smoke',\n",
    "          'conds_Mist','conds_Rain','wdire_North', 'wdire_Others', 'wdire_West']]\n",
    "Y = data[['tempm']]"
   ]
  },
  {
   "cell_type": "code",
   "execution_count": 120,
   "metadata": {},
   "outputs": [],
   "source": [
    "# Split dataset into training and test set\n",
    "X_train, X_test, Y_train, Y_test = train_test_split(X, Y, test_size = 0.2, random_state = 0)"
   ]
  },
  {
   "cell_type": "code",
   "execution_count": 121,
   "metadata": {},
   "outputs": [
    {
     "data": {
      "text/plain": [
       "RandomForestRegressor(bootstrap=True, criterion='mse', max_depth=None,\n",
       "           max_features='auto', max_leaf_nodes=None,\n",
       "           min_impurity_decrease=0.0, min_impurity_split=None,\n",
       "           min_samples_leaf=1, min_samples_split=2,\n",
       "           min_weight_fraction_leaf=0.0, n_estimators=10, n_jobs=None,\n",
       "           oob_score=False, random_state=0, verbose=0, warm_start=False)"
      ]
     },
     "execution_count": 121,
     "metadata": {},
     "output_type": "execute_result"
    }
   ],
   "source": [
    "from sklearn.ensemble import RandomForestRegressor\n",
    "regressor = RandomForestRegressor(n_estimators = 10, random_state = 0)\n",
    "regressor.fit(X_train,Y_train)"
   ]
  },
  {
   "cell_type": "code",
   "execution_count": 122,
   "metadata": {},
   "outputs": [
    {
     "name": "stdout",
     "output_type": "stream",
     "text": [
      "Accuracy Score test:96.84751721625051\n",
      "Accuracy Score train:97.43747684490958\n"
     ]
    }
   ],
   "source": [
    "#cross validation\n",
    "score = cross_val_score(regressor , X_test ,Y_test, cv = 5)  \n",
    "print('Accuracy Score test:' + str(score.mean()*100))\n",
    "\n",
    "#to check the training score to test for overfitting of the model\n",
    "score = cross_val_score(regressor , X_train ,Y_train, cv = 5)  \n",
    "print('Accuracy Score train:' + str(score.mean()*100))"
   ]
  },
  {
   "cell_type": "code",
   "execution_count": 123,
   "metadata": {},
   "outputs": [
    {
     "name": "stdout",
     "output_type": "stream",
     "text": [
      "MSE: 0.0004\n"
     ]
    }
   ],
   "source": [
    "mse = mean_squared_error(Y_test, regressor.predict(X_test))\n",
    "print(\"MSE: %.4f\" % mse)"
   ]
  },
  {
   "cell_type": "code",
   "execution_count": 124,
   "metadata": {},
   "outputs": [
    {
     "data": {
      "text/plain": [
       "0.019543784209626432"
      ]
     },
     "execution_count": 124,
     "metadata": {},
     "output_type": "execute_result"
    }
   ],
   "source": [
    "np.sqrt(metrics.mean_squared_error(Y_test,regressor.predict(X_test)))"
   ]
  },
  {
   "cell_type": "markdown",
   "metadata": {},
   "source": [
    "The MSE and RMSE values of the model are - 0.0004 and 0.01954 respectively for the Random Forest regression model which is comparitively much lesser than the RMSE value of the Linear Regression models  - 0.0333."
   ]
  },
  {
   "cell_type": "markdown",
   "metadata": {},
   "source": [
    "### To find Hyperparameters using Randomized Search Algo --"
   ]
  },
  {
   "cell_type": "markdown",
   "metadata": {},
   "source": [
    "Using RandomizedSearch Algo to find the optimal hyperparameters from the specified set of parameters.\n",
    "max_depth refers to the maximum depth of the tree,n_estimators, the number of trees in the forest, max_features, etc"
   ]
  },
  {
   "cell_type": "code",
   "execution_count": 125,
   "metadata": {},
   "outputs": [
    {
     "name": "stdout",
     "output_type": "stream",
     "text": [
      "{'n_estimators': [200, 400, 600, 800, 1000, 1200, 1400, 1600, 1800, 2000], 'max_features': ['auto', 'sqrt'], 'max_depth': [10, 20, 30, 40, 50, 60, 70, 80, 90, 100, 110, None], 'min_samples_split': [2, 5, 10], 'min_samples_leaf': [1, 2, 4], 'bootstrap': [True, False]}\n"
     ]
    }
   ],
   "source": [
    "from sklearn.model_selection import RandomizedSearchCV\n",
    "# Number of trees in random forest\n",
    "n_estimators = [int(x) for x in np.linspace(start = 200, stop = 2000, num = 10)]\n",
    "# Number of features to consider at every split\n",
    "max_features = ['auto', 'sqrt']\n",
    "# Maximum number of levels in tree\n",
    "max_depth = [int(x) for x in np.linspace(10, 110, num = 11)]\n",
    "max_depth.append(None)\n",
    "# Minimum number of samples required to split a node\n",
    "min_samples_split = [2, 5, 10]\n",
    "# Minimum number of samples required at each leaf node\n",
    "min_samples_leaf = [1, 2, 4]\n",
    "# Method of selecting samples for training each tree\n",
    "bootstrap = [True, False]\n",
    "# Create the random grid\n",
    "random_grid = {'n_estimators': n_estimators,\n",
    "               'max_features': max_features,\n",
    "               'max_depth': max_depth,\n",
    "               'min_samples_split': min_samples_split,\n",
    "               'min_samples_leaf': min_samples_leaf,\n",
    "               'bootstrap': bootstrap}\n",
    "print(random_grid)"
   ]
  },
  {
   "cell_type": "code",
   "execution_count": 182,
   "metadata": {},
   "outputs": [
    {
     "name": "stdout",
     "output_type": "stream",
     "text": [
      "Fitting 3 folds for each of 10 candidates, totalling 30 fits\n"
     ]
    },
    {
     "name": "stderr",
     "output_type": "stream",
     "text": [
      "[Parallel(n_jobs=-1)]: Using backend LokyBackend with 4 concurrent workers.\n",
      "[Parallel(n_jobs=-1)]: Done  30 out of  30 | elapsed: 26.0min finished\n"
     ]
    },
    {
     "data": {
      "text/plain": [
       "RandomizedSearchCV(cv=3, error_score='raise-deprecating',\n",
       "          estimator=RandomForestRegressor(bootstrap=True, criterion='mse', max_depth=None,\n",
       "           max_features='auto', max_leaf_nodes=None,\n",
       "           min_impurity_decrease=0.0, min_impurity_split=None,\n",
       "           min_samples_leaf=1, min_samples_split=2,\n",
       "           min_weight_fraction_leaf=0.0, n_estimators='warn', n_jobs=None,\n",
       "           oob_score=False, random_state=None, verbose=0, warm_start=False),\n",
       "          fit_params=None, iid='warn', n_iter=10, n_jobs=-1,\n",
       "          param_distributions={'n_estimators': [200, 400, 600, 800, 1000, 1200, 1400, 1600, 1800, 2000], 'max_features': ['auto', 'sqrt'], 'max_depth': [10, 20, 30, 40, 50, 60, 70, 80, 90, 100, 110, None], 'min_samples_split': [2, 5, 10], 'min_samples_leaf': [1, 2, 4], 'bootstrap': [True, False]},\n",
       "          pre_dispatch='2*n_jobs', random_state=42, refit=True,\n",
       "          return_train_score='warn', scoring=None, verbose=2)"
      ]
     },
     "execution_count": 182,
     "metadata": {},
     "output_type": "execute_result"
    }
   ],
   "source": [
    "# Use the random grid to search for best hyperparameters\n",
    "regressor = RandomForestRegressor()\n",
    "#using 3 fold cross validation from different combinations 10*3\n",
    "rf_random = RandomizedSearchCV(estimator = regressor, param_distributions = random_grid, n_iter = 10, \n",
    "                               cv = 3, verbose=2, random_state=42, n_jobs = -1)\n",
    "# Fit the random search model\n",
    "rf_random.fit(X_train, Y_train)"
   ]
  },
  {
   "cell_type": "code",
   "execution_count": 183,
   "metadata": {},
   "outputs": [
    {
     "data": {
      "text/plain": [
       "{'n_estimators': 2000,\n",
       " 'min_samples_split': 5,\n",
       " 'min_samples_leaf': 2,\n",
       " 'max_features': 'auto',\n",
       " 'max_depth': 50,\n",
       " 'bootstrap': True}"
      ]
     },
     "execution_count": 183,
     "metadata": {},
     "output_type": "execute_result"
    }
   ],
   "source": [
    "#finding the best parameters\n",
    "rf_random.best_params_"
   ]
  },
  {
   "cell_type": "code",
   "execution_count": 126,
   "metadata": {},
   "outputs": [
    {
     "data": {
      "text/plain": [
       "RandomForestRegressor(bootstrap=True, criterion='mse', max_depth=50,\n",
       "           max_features='auto', max_leaf_nodes=None,\n",
       "           min_impurity_decrease=0.0, min_impurity_split=None,\n",
       "           min_samples_leaf=2, min_samples_split=5,\n",
       "           min_weight_fraction_leaf=0.0, n_estimators=2000, n_jobs=None,\n",
       "           oob_score=False, random_state=0, verbose=0, warm_start=False)"
      ]
     },
     "execution_count": 126,
     "metadata": {},
     "output_type": "execute_result"
    }
   ],
   "source": [
    "from sklearn.ensemble import RandomForestRegressor\n",
    "regressor = RandomForestRegressor(n_estimators = 2000, random_state = 0,min_samples_split=5,min_samples_leaf= 2,\n",
    " max_features = 'auto',max_depth = 50,bootstrap = True)\n",
    "regressor.fit(X_train,Y_train)"
   ]
  },
  {
   "cell_type": "code",
   "execution_count": 127,
   "metadata": {},
   "outputs": [
    {
     "name": "stdout",
     "output_type": "stream",
     "text": [
      "Accuracy Score:97.00261839291932\n"
     ]
    }
   ],
   "source": [
    "#cross validation score\n",
    "score = cross_val_score(regressor , X_test ,Y_test, cv = 3)  \n",
    "print('Accuracy Score:' + str(score.mean()*100))"
   ]
  },
  {
   "cell_type": "code",
   "execution_count": 128,
   "metadata": {},
   "outputs": [
    {
     "name": "stdout",
     "output_type": "stream",
     "text": [
      "MSE: 0.0003\n"
     ]
    }
   ],
   "source": [
    "mse = mean_squared_error(Y_test, regressor.predict(X_test))\n",
    "print(\"MSE: %.4f\" % mse)"
   ]
  },
  {
   "cell_type": "markdown",
   "metadata": {},
   "source": [
    "The best hyperparameters for this particular Random forest regression are - max_depth, n_estimators,max_features, min_samples_split, min_samples_leaf, bootstrap."
   ]
  },
  {
   "cell_type": "markdown",
   "metadata": {},
   "source": [
    "The MSE value for the Random Forest model which is much lesser than the MSE values of the regression models - 0.001 and ridge \n",
    "regression model are 0.0003."
   ]
  },
  {
   "cell_type": "code",
   "execution_count": null,
   "metadata": {},
   "outputs": [],
   "source": []
  },
  {
   "cell_type": "markdown",
   "metadata": {},
   "source": [
    "### Gradient Boosting Regression"
   ]
  },
  {
   "cell_type": "code",
   "execution_count": 44,
   "metadata": {},
   "outputs": [],
   "source": [
    "from sklearn import ensemble\n",
    "from sklearn import datasets\n",
    "from sklearn.utils import shuffle\n",
    "from sklearn.metrics import mean_squared_error"
   ]
  },
  {
   "cell_type": "code",
   "execution_count": 45,
   "metadata": {},
   "outputs": [],
   "source": [
    "X = data[['dewptm','fog','hum','rain','wdird','wspdm','conds_Haze','conds_Smoke',\n",
    "          'conds_Mist','conds_Rain','wdire_North', 'wdire_Others', 'wdire_West']]\n",
    "Y = data[['tempm']]"
   ]
  },
  {
   "cell_type": "code",
   "execution_count": 46,
   "metadata": {},
   "outputs": [],
   "source": [
    "# Split dataset into training and test set\n",
    "X_train, X_test, Y_train, Y_test = train_test_split(X, Y, test_size = 0.2, random_state = 0)"
   ]
  },
  {
   "cell_type": "code",
   "execution_count": 50,
   "metadata": {},
   "outputs": [
    {
     "name": "stdout",
     "output_type": "stream",
     "text": [
      "MSE: 0.0005\n"
     ]
    }
   ],
   "source": [
    "params = {'n_estimators': 500, 'max_depth': 4, 'min_samples_split': 2,'min_samples_leaf':2,\n",
    "          'learning_rate': 0.01,'max_features':'auto'}\n",
    "clf = ensemble.GradientBoostingRegressor(**params)\n",
    "\n",
    "clf.fit(X_train, Y_train)\n",
    "mse = mean_squared_error(Y_test, clf.predict(X_test))\n",
    "print(\"MSE: %.4f\" % mse)"
   ]
  },
  {
   "cell_type": "code",
   "execution_count": 52,
   "metadata": {},
   "outputs": [
    {
     "name": "stdout",
     "output_type": "stream",
     "text": [
      "Accuracy Score:96.69017546188249\n"
     ]
    }
   ],
   "source": [
    "#cross validation score\n",
    "score = cross_val_score(clf , X_test ,Y_test, cv = 5)  \n",
    "print('Accuracy Score:' + str(score.mean()*100))"
   ]
  },
  {
   "cell_type": "markdown",
   "metadata": {},
   "source": [
    "Trying out different hyperparameter values - manually changing the values based on the hyperparameter values from "
   ]
  },
  {
   "cell_type": "code",
   "execution_count": 54,
   "metadata": {},
   "outputs": [
    {
     "name": "stdout",
     "output_type": "stream",
     "text": [
      "MSE: 0.0032\n"
     ]
    }
   ],
   "source": [
    "params = {'n_estimators': 1000, 'max_depth': 10, 'min_samples_split': 10,'min_samples_leaf':10,\n",
    "          'learning_rate': 0.001,'max_features':'sqrt'}\n",
    "clf = ensemble.GradientBoostingRegressor(**params)\n",
    "\n",
    "clf.fit(X_train, Y_train)\n",
    "mse = mean_squared_error(Y_test, clf.predict(X_test))\n",
    "print(\"MSE: %.4f\" % mse)"
   ]
  },
  {
   "cell_type": "code",
   "execution_count": 55,
   "metadata": {},
   "outputs": [
    {
     "name": "stdout",
     "output_type": "stream",
     "text": [
      "Accuracy Score:77.55482915797704\n"
     ]
    }
   ],
   "source": [
    "#cross validation score\n",
    "score = cross_val_score(clf , X_test ,Y_test, cv = 5)  \n",
    "print('Accuracy Score:' + str(score.mean()*100))"
   ]
  },
  {
   "cell_type": "markdown",
   "metadata": {},
   "source": [
    "Best Hyperparameter values can be found using Randomized search algo"
   ]
  },
  {
   "cell_type": "code",
   "execution_count": 58,
   "metadata": {},
   "outputs": [
    {
     "name": "stdout",
     "output_type": "stream",
     "text": [
      "{'n_estimators': [200, 400, 600, 800, 1000, 1200, 1400, 1600, 1800, 2000], 'max_features': ['auto', 'sqrt'], 'max_depth': [10, 20, 30, 40, 50, 60, 70, 80, 90, 100, 110, None], 'min_samples_split': [2, 5, 10], 'min_samples_leaf': [1, 2, 4]}\n"
     ]
    }
   ],
   "source": [
    "from sklearn.model_selection import RandomizedSearchCV\n",
    "# Number of trees in random forest\n",
    "n_estimators = [int(x) for x in np.linspace(start = 200, stop = 2000, num = 10)]\n",
    "# Number of features to consider at every split\n",
    "max_features = ['auto', 'sqrt']\n",
    "# Maximum number of levels in tree\n",
    "max_depth = [int(x) for x in np.linspace(10, 110, num = 11)]\n",
    "max_depth.append(None)\n",
    "# Minimum number of samples required to split a node\n",
    "min_samples_split = [2, 5, 10]\n",
    "# Minimum number of samples required at each leaf node\n",
    "min_samples_leaf = [1, 2, 4]\n",
    "# Method of selecting samples for training each tree\n",
    "bootstrap = [True, False]\n",
    "# Create the random grid\n",
    "random_grid = {'n_estimators': n_estimators,\n",
    "               'max_features': max_features,\n",
    "               'max_depth': max_depth,\n",
    "               'min_samples_split': min_samples_split,\n",
    "               'min_samples_leaf': min_samples_leaf}\n",
    "print(random_grid)"
   ]
  },
  {
   "cell_type": "code",
   "execution_count": null,
   "metadata": {},
   "outputs": [
    {
     "name": "stdout",
     "output_type": "stream",
     "text": [
      "Fitting 2 folds for each of 2 candidates, totalling 4 fits\n"
     ]
    },
    {
     "name": "stderr",
     "output_type": "stream",
     "text": [
      "[Parallel(n_jobs=-1)]: Using backend LokyBackend with 4 concurrent workers.\n",
      "[Parallel(n_jobs=-1)]: Done   4 out of   4 | elapsed: 75.4min finished\n"
     ]
    }
   ],
   "source": [
    "# Use the random grid to search for best hyperparameters\n",
    "clf = ensemble.GradientBoostingRegressor(**random_grid)\n",
    "#using 3 fold cross validation from different combinations 10*3\n",
    "rf_random = RandomizedSearchCV(estimator = clf, param_distributions = random_grid, n_iter = 2, \n",
    "                               cv = 2, verbose=2, random_state=42, n_jobs = -1)\n",
    "# Fit the random search model\n",
    "rf_random.fit(X_train, Y_train)"
   ]
  },
  {
   "cell_type": "code",
   "execution_count": null,
   "metadata": {},
   "outputs": [],
   "source": [
    "#finding the best parameters\n",
    "rf_random.best_params_"
   ]
  },
  {
   "cell_type": "code",
   "execution_count": null,
   "metadata": {},
   "outputs": [],
   "source": [
    "params = {'n_estimators': 500, 'max_depth': 50, 'min_samples_split': 5,\n",
    "          'learning_rate': 0.01,'max_features':'auto'}\n",
    "clf = ensemble.GradientBoostingRegressor(**params)\n",
    "\n",
    "clf.fit(X_train, Y_train)\n",
    "mse = mean_squared_error(Y_test, clf.predict(X_test))\n",
    "print(\"MSE: %.4f\" % mse)"
   ]
  },
  {
   "cell_type": "code",
   "execution_count": null,
   "metadata": {},
   "outputs": [],
   "source": [
    "#cross validation score\n",
    "score = cross_val_score(clf , X_test ,Y_test, cv = 5)  \n",
    "print('Accuracy Score:' + str(score.mean()*100))"
   ]
  },
  {
   "cell_type": "markdown",
   "metadata": {},
   "source": [
    "The MSE values of the gradient boosting regression - 0.005 and 0.0032 which is much lesser than the MSE values of the regression model but higher than the MSE values of random forest regression models"
   ]
  },
  {
   "cell_type": "markdown",
   "metadata": {},
   "source": [
    "## Conclusion"
   ]
  },
  {
   "cell_type": "markdown",
   "metadata": {},
   "source": [
    "Answer the following questions for all of the models:\n",
    "* Is the relationship significant?\n",
    "    Yes, the relationship is significant for all the models (Linear Regression models, Regularization models, GBM model and Random Forest models), in predicting the target variable using the independant variables/features. Considering R squared values, z score, p values, accuracy score of the model, AIC and BIC values of the model as evaluation metrics in eliminating the insignificant features (based on the z score and p values) and predicting the best model with significant features.\n",
    "                                                                        \n",
    "                                                                        \n",
    "* Are any model assumptions violated?\n",
    "Initial assumprions - The linearity between the independent and the target variable, this particular model assumption was not violated. There exists linearity between the target variable and its predictors in the data.\n",
    "No multicollinearity exists in the models.Initially yes, there existed multicollinearity (found out by VIF) in the models (Linear Regression models), on adding the interaction term - a product of two highly correlated feature have eliminated the multicollinearity from the models.Hence no assumptions was violated at the end.\n",
    "                                                                                    \n",
    "                                                  \n",
    "* Is there any multi-collinearity in the model?\n",
    "Yes, there exists multicollinearity in the model.                                                                    \n",
    "                                                     \n",
    "* In the multivariate models are predictor variables independent of all the other predictor variables?\n",
    "No, not all the predictor variable are indepndent of the other predictor variables (like dewptm and hum were highly correlated with each other).                       \n",
    "                        \n",
    "                        \n",
    "                        \n",
    "* In in multivariate models rank the most significant predictor variables and exclude insignificant ones\n",
    "* from the model.\n",
    "the order is as follows - dewptm, conds_Haze, wspdm, hum, conds_Smoke, wdire_North, conds_Mist.\n",
    "\n",
    "\n",
    "* Does the model make sense?\n",
    "yes, all the above models makes sense.\n",
    "\n",
    "* Does regularization help?\n",
    "no, Regularization dint help my models. \n",
    "\n",
    "* Which independent variables are significant?\n",
    "dewptm, hum, wspdm, conds_Haze,conds_Smoke, conds_Mist, conds_Rain, wdire_North are all the significant variables.\n",
    "\n",
    "\n",
    "* Which hyperparameters are important?\n",
    "For Regularization models hyperparameter - alpha is significant.\n",
    "For Random Forest model, the important Hyperparameters are - max_depth, n_estimators, min_samples_leaf, max_features, min_samples_split\n",
    "For GBM, important Hyperparameters are -  max_depth, n_estimators, min_samples_leaf, max_features, min_samples_split"
   ]
  },
  {
   "cell_type": "markdown",
   "metadata": {},
   "source": [
    "## Contributions"
   ]
  },
  {
   "cell_type": "markdown",
   "metadata": {},
   "source": [
    "1. Performed Data Cleaning by removing the null values from the columns or replacing them with placeholder values for both numerical and categorical data and did feature scaling to normalize all the values in the dataset to bring them to a range of 0-1.                                                                      \n",
    "2. Performed stepwise regression -  backward elimination method using e variables using the correlation function and tried to improve the RMSE, MSE, MAE scores.\n",
    "3. Performed Ridge regularization technique on the variables for different values of alpha (Hyperparameter tuning using gridsearch).\n",
    "4. Implemented interaction variable in the regression model for the variables with high correlated with each other.\n",
    "5. Tuned the hyperparameters for both the Random Forest Regression and Gradient Boosting Regression algorithms."
   ]
  },
  {
   "cell_type": "markdown",
   "metadata": {},
   "source": [
    "# Citations"
   ]
  },
  {
   "cell_type": "markdown",
   "metadata": {},
   "source": [
    "1. https://github.com/nikbearbrown/INFO_6105/blob/master/Week_2/NBB_Linear_Regression.ipynb                              \n",
    "2. https://medium.com/usf-msds/choosing-the-right-metric-for-machine-learning-models-part-1-a99d7d7414e4\n",
    "3. https://stattrek.com/multiple-regression/multicollinearity.aspx\n",
    "4. https://towardsdatascience.com/understanding-gradient-boosting-machines-9be756fe76ab\n",
    "5. https://towardsdatascience.com/hyperparameter-tuning-the-random-forest-in-python-using-scikit-learn-28d2aa77dd74\n",
    "6. https://medium.com/@ODSC/optimizing-hyperparameters-for-random-forest-algorithms-in-scikit-learn-d60b7aa07ead\n",
    "7. Regularization :https://towardsdatascience.com/ridge-and-lasso-regression-a-complete-guide-with-python-scikit-learn-e20e34bcbf0b\n",
    "8. https://github.com/nikbearbrown/INFO_6105/blob/master/Week_2/NBB_Regularization.ipynb\n",
    "9. https://medium.com/all-things-ai/in-depth-parameter-tuning-for-random-forest-d67bb7e920d\n",
    "10. https://www.datacareer.ch/blog/parameter-tuning-in-gradient-boosting-gbm-with-python/"
   ]
  },
  {
   "cell_type": "markdown",
   "metadata": {},
   "source": [
    "## LICENSE"
   ]
  },
  {
   "cell_type": "markdown",
   "metadata": {},
   "source": [
    "Copyright 2020, Chaitanya Prasanna Kumar\n",
    "\n",
    "Permission is hereby granted, free of charge, to any person obtaining a copy of this software and associated documentation files (the \"Software\"), to deal in the Software without restriction, including without limitation the rights to use, copy, modify, merge, publish, distribute, sublicense, and/or sell copies of the Software, and to permit persons to whom the Software is furnished to do so, subject to the following conditions:\n",
    "\n",
    "The above copyright notice and this permission notice shall be included in all copies or substantial portions of the Software.\n",
    "\n",
    "THE SOFTWARE IS PROVIDED \"AS IS\", WITHOUT WARRANTY OF ANY KIND, EXPRESS OR IMPLIED, INCLUDING BUT NOT LIMITED TO THE WARRANTIES OF MERCHANTABILITY, FITNESS FOR A PARTICULAR PURPOSE AND NONINFRINGEMENT. IN NO EVENT SHALL THE AUTHORS OR COPYRIGHT HOLDERS BE LIABLE FOR ANY CLAIM, DAMAGES OR OTHER LIABILITY, WHETHER IN AN ACTION OF CONTRACT, TORT OR OTHERWISE, ARISING FROM, OUT OF OR IN CONNECTION WITH THE SOFTWARE OR THE USE OR OTHER DEALINGS IN THE SOFTWARE."
   ]
  },
  {
   "cell_type": "code",
   "execution_count": null,
   "metadata": {},
   "outputs": [],
   "source": []
  },
  {
   "cell_type": "code",
   "execution_count": null,
   "metadata": {},
   "outputs": [],
   "source": []
  },
  {
   "cell_type": "code",
   "execution_count": null,
   "metadata": {},
   "outputs": [],
   "source": []
  },
  {
   "cell_type": "code",
   "execution_count": null,
   "metadata": {},
   "outputs": [],
   "source": []
  },
  {
   "cell_type": "code",
   "execution_count": null,
   "metadata": {},
   "outputs": [],
   "source": []
  }
 ],
 "metadata": {
  "kernelspec": {
   "display_name": "Python 3",
   "language": "python",
   "name": "python3"
  },
  "language_info": {
   "codemirror_mode": {
    "name": "ipython",
    "version": 3
   },
   "file_extension": ".py",
   "mimetype": "text/x-python",
   "name": "python",
   "nbconvert_exporter": "python",
   "pygments_lexer": "ipython3",
   "version": "3.6.8"
  }
 },
 "nbformat": 4,
 "nbformat_minor": 2
}
